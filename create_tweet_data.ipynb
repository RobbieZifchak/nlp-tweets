{
 "cells": [
  {
   "cell_type": "markdown",
   "metadata": {},
   "source": [
    "## Creating Tweet Dataset"
   ]
  },
  {
   "cell_type": "code",
   "execution_count": 1,
   "metadata": {},
   "outputs": [
    {
     "name": "stderr",
     "output_type": "stream",
     "text": [
      "/opt/anaconda3/lib/python3.7/site-packages/statsmodels/tools/_testing.py:19: FutureWarning: pandas.util.testing is deprecated. Use the functions in the public API at pandas.testing instead.\n",
      "  import pandas.util.testing as tm\n"
     ]
    }
   ],
   "source": [
    "import GetOldTweets3 as got\n",
    "\n",
    "import pandas as pd\n",
    "import matplotlib.pyplot as plt\n",
    "import seaborn as sns\n",
    "import numpy as np\n",
    "\n",
    "#from nltk.tokenize import RegexpTokenizer\n",
    "from nltk.tokenize import word_tokenize\n",
    "from nltk.corpus import stopwords\n",
    "\n",
    "import string\n",
    "\n",
    "from nltk.stem import WordNetLemmatizer\n",
    "from nltk.probability import FreqDist\n",
    "\n",
    "import re"
   ]
  },
  {
   "cell_type": "code",
   "execution_count": 2,
   "metadata": {},
   "outputs": [],
   "source": [
    "pd.set_option('display.max_rows', 100)\n",
    "pd.options.display.max_colwidth = 150"
   ]
  },
  {
   "cell_type": "markdown",
   "metadata": {},
   "source": [
    "#### Retrieving Data from Twitter API via GetOldTweets3"
   ]
  },
  {
   "cell_type": "code",
   "execution_count": 94,
   "metadata": {},
   "outputs": [],
   "source": [
    "tweetCriteria = got.manager.TweetCriteria().setQuerySearch('anxiety')\\\n",
    "                                           .setSince('2018-06-13')\\\n",
    "                                           .setUntil('2020-06-13')\\\n",
    "                                           .setNear('New York')\\\n",
    "                                           .setMaxTweets(12000)\\\n",
    "                                           .setEmoji('unicode')\n",
    "                                           \n",
    "\n",
    "tweet_object = got.manager.TweetManager.getTweets(tweetCriteria)"
   ]
  },
  {
   "cell_type": "code",
   "execution_count": 95,
   "metadata": {},
   "outputs": [
    {
     "data": {
      "text/plain": [
       "12000"
      ]
     },
     "execution_count": 95,
     "metadata": {},
     "output_type": "execute_result"
    }
   ],
   "source": [
    "len(tweet_object)"
   ]
  },
  {
   "cell_type": "code",
   "execution_count": 96,
   "metadata": {},
   "outputs": [],
   "source": [
    "tweet_test = list(map(lambda x: {'text': x.text}, tweet_object))"
   ]
  },
  {
   "cell_type": "code",
   "execution_count": 99,
   "metadata": {},
   "outputs": [],
   "source": [
    "df = pd.DataFrame(tweet_test)"
   ]
  },
  {
   "cell_type": "code",
   "execution_count": 104,
   "metadata": {},
   "outputs": [],
   "source": [
    "df.to_csv('emoji_test.csv', index = False)"
   ]
  },
  {
   "cell_type": "code",
   "execution_count": 105,
   "metadata": {},
   "outputs": [],
   "source": [
    "test = pd.read_csv('emoji_test.csv')"
   ]
  },
  {
   "cell_type": "code",
   "execution_count": 107,
   "metadata": {},
   "outputs": [
    {
     "data": {
      "text/html": [
       "<div>\n",
       "<style scoped>\n",
       "    .dataframe tbody tr th:only-of-type {\n",
       "        vertical-align: middle;\n",
       "    }\n",
       "\n",
       "    .dataframe tbody tr th {\n",
       "        vertical-align: top;\n",
       "    }\n",
       "\n",
       "    .dataframe thead th {\n",
       "        text-align: right;\n",
       "    }\n",
       "</style>\n",
       "<table border=\"1\" class=\"dataframe\">\n",
       "  <thead>\n",
       "    <tr style=\"text-align: right;\">\n",
       "      <th></th>\n",
       "      <th>text</th>\n",
       "    </tr>\n",
       "  </thead>\n",
       "  <tbody>\n",
       "    <tr>\n",
       "      <th>0</th>\n",
       "      <td>OMG LMAO I can feel the anxiety of this tweet</td>\n",
       "    </tr>\n",
       "    <tr>\n",
       "      <th>1</th>\n",
       "      <td>I, as a privileged white person, can never, ever feel or even understand the anxiety, fear, pain and frustration that POC feel about George Floyd ...</td>\n",
       "    </tr>\n",
       "    <tr>\n",
       "      <th>2</th>\n",
       "      <td>Had anxiety the whole time I’m up here cause I dont do heights but was worth the view 🥴</td>\n",
       "    </tr>\n",
       "    <tr>\n",
       "      <th>3</th>\n",
       "      <td>Saturday: Today could be somewhat overwhelming and could push you into a space of fear, worry, and anxiety. Take it easy and take things slowly. D...</td>\n",
       "    </tr>\n",
       "    <tr>\n",
       "      <th>4</th>\n",
       "      <td>#coconutoil🥥 is a great holistic treatment for #memoryloss #anxiety #Depresion #alzheimers and any other #brain🧠 related condition 🤓 . . #MyelinSh...</td>\n",
       "    </tr>\n",
       "  </tbody>\n",
       "</table>\n",
       "</div>"
      ],
      "text/plain": [
       "                                                                                                                                                    text\n",
       "0                                                                                                          OMG LMAO I can feel the anxiety of this tweet\n",
       "1  I, as a privileged white person, can never, ever feel or even understand the anxiety, fear, pain and frustration that POC feel about George Floyd ...\n",
       "2                                                               Had anxiety the whole time I’m up here cause I dont do heights but was worth the view 🥴 \n",
       "3  Saturday: Today could be somewhat overwhelming and could push you into a space of fear, worry, and anxiety. Take it easy and take things slowly. D...\n",
       "4  #coconutoil🥥 is a great holistic treatment for #memoryloss #anxiety #Depresion #alzheimers and any other #brain🧠 related condition 🤓 . . #MyelinSh..."
      ]
     },
     "execution_count": 107,
     "metadata": {},
     "output_type": "execute_result"
    }
   ],
   "source": [
    "test.head()"
   ]
  },
  {
   "cell_type": "code",
   "execution_count": 66,
   "metadata": {},
   "outputs": [],
   "source": [
    "#construct a dictionary of desired values\n",
    "\n",
    "tweet_dict = list(map(lambda x: {'text': x.text, 'user': x.username,\n",
    "                                 'date': x.date, 'retweet': x.retweets,\n",
    "                                 'mention': x.mentions, 'hashtags': x.hashtags,\n",
    "                                 'location' : x.geo}, tweet_object))\n"
   ]
  },
  {
   "cell_type": "code",
   "execution_count": 87,
   "metadata": {},
   "outputs": [],
   "source": [
    "#turn dictionary into dataframe \n",
    "\n",
    "df = pd.DataFrame(tweet_dict)"
   ]
  },
  {
   "cell_type": "code",
   "execution_count": 113,
   "metadata": {},
   "outputs": [
    {
     "name": "stdout",
     "output_type": "stream",
     "text": [
      "(10000, 7)\n"
     ]
    },
    {
     "data": {
      "text/html": [
       "<div>\n",
       "<style scoped>\n",
       "    .dataframe tbody tr th:only-of-type {\n",
       "        vertical-align: middle;\n",
       "    }\n",
       "\n",
       "    .dataframe tbody tr th {\n",
       "        vertical-align: top;\n",
       "    }\n",
       "\n",
       "    .dataframe thead th {\n",
       "        text-align: right;\n",
       "    }\n",
       "</style>\n",
       "<table border=\"1\" class=\"dataframe\">\n",
       "  <thead>\n",
       "    <tr style=\"text-align: right;\">\n",
       "      <th></th>\n",
       "      <th>text</th>\n",
       "      <th>user</th>\n",
       "      <th>date</th>\n",
       "      <th>retweet</th>\n",
       "      <th>mention</th>\n",
       "      <th>hashtags</th>\n",
       "      <th>location</th>\n",
       "    </tr>\n",
       "  </thead>\n",
       "  <tbody>\n",
       "    <tr>\n",
       "      <th>0</th>\n",
       "      <td>It's okay to not totally understand the specific struggles of queer Japanese / Japanese people... but you can be open to learning about it. Just b...</td>\n",
       "      <td>wakuu</td>\n",
       "      <td>2020-06-08 23:58:16+00:00</td>\n",
       "      <td>1</td>\n",
       "      <td></td>\n",
       "      <td></td>\n",
       "      <td></td>\n",
       "    </tr>\n",
       "    <tr>\n",
       "      <th>1</th>\n",
       "      <td>10 things to know before returning to your hair salon Excitement, anxiety and a new normal at salons and barber shops as Long Island enters Phase ...</td>\n",
       "      <td>cbiz</td>\n",
       "      <td>2020-06-08 23:58:01+00:00</td>\n",
       "      <td>0</td>\n",
       "      <td></td>\n",
       "      <td>#phase2</td>\n",
       "      <td></td>\n",
       "    </tr>\n",
       "    <tr>\n",
       "      <th>2</th>\n",
       "      <td>Well that information would have been useful 2 months ago, and avoided wasted anxiety every single time a person came even slightly close to enter...</td>\n",
       "      <td>SKastenbaum</td>\n",
       "      <td>2020-06-08 23:50:47+00:00</td>\n",
       "      <td>0</td>\n",
       "      <td></td>\n",
       "      <td></td>\n",
       "      <td></td>\n",
       "    </tr>\n",
       "    <tr>\n",
       "      <th>3</th>\n",
       "      <td>My anxiety hasn’t been the greatest lately.</td>\n",
       "      <td>xI_am_Carolinex</td>\n",
       "      <td>2020-06-08 23:49:55+00:00</td>\n",
       "      <td>0</td>\n",
       "      <td></td>\n",
       "      <td></td>\n",
       "      <td></td>\n",
       "    </tr>\n",
       "    <tr>\n",
       "      <th>4</th>\n",
       "      <td>i was mostly afraid because i have really bad anxiety and we've had misunderstandings in the past so i kept a lot to myself but recently it reache...</td>\n",
       "      <td>darshanaheena</td>\n",
       "      <td>2020-06-08 23:48:03+00:00</td>\n",
       "      <td>0</td>\n",
       "      <td></td>\n",
       "      <td></td>\n",
       "      <td></td>\n",
       "    </tr>\n",
       "  </tbody>\n",
       "</table>\n",
       "</div>"
      ],
      "text/plain": [
       "                                                                                                                                                    text  \\\n",
       "0  It's okay to not totally understand the specific struggles of queer Japanese / Japanese people... but you can be open to learning about it. Just b...   \n",
       "1  10 things to know before returning to your hair salon Excitement, anxiety and a new normal at salons and barber shops as Long Island enters Phase ...   \n",
       "2  Well that information would have been useful 2 months ago, and avoided wasted anxiety every single time a person came even slightly close to enter...   \n",
       "3                                                                                                            My anxiety hasn’t been the greatest lately.   \n",
       "4  i was mostly afraid because i have really bad anxiety and we've had misunderstandings in the past so i kept a lot to myself but recently it reache...   \n",
       "\n",
       "              user                      date  retweet mention hashtags  \\\n",
       "0            wakuu 2020-06-08 23:58:16+00:00        1                    \n",
       "1             cbiz 2020-06-08 23:58:01+00:00        0          #phase2   \n",
       "2      SKastenbaum 2020-06-08 23:50:47+00:00        0                    \n",
       "3  xI_am_Carolinex 2020-06-08 23:49:55+00:00        0                    \n",
       "4    darshanaheena 2020-06-08 23:48:03+00:00        0                    \n",
       "\n",
       "  location  \n",
       "0           \n",
       "1           \n",
       "2           \n",
       "3           \n",
       "4           "
      ]
     },
     "execution_count": 113,
     "metadata": {},
     "output_type": "execute_result"
    }
   ],
   "source": [
    "#preview dataframe\n",
    "print(df.shape)\n",
    "df.head()\n"
   ]
  },
  {
   "cell_type": "code",
   "execution_count": 75,
   "metadata": {},
   "outputs": [],
   "source": [
    "#write tweets to csv \n",
    "df.to_csv('anxiety_tweets.csv', index = False)"
   ]
  },
  {
   "cell_type": "markdown",
   "metadata": {},
   "source": [
    "### Cleaning and analyzing text data "
   ]
  },
  {
   "cell_type": "code",
   "execution_count": 62,
   "metadata": {},
   "outputs": [],
   "source": [
    "df = pd.read_csv('anxiety_tweets.csv')"
   ]
  },
  {
   "cell_type": "code",
   "execution_count": 63,
   "metadata": {},
   "outputs": [
    {
     "data": {
      "text/html": [
       "<div>\n",
       "<style scoped>\n",
       "    .dataframe tbody tr th:only-of-type {\n",
       "        vertical-align: middle;\n",
       "    }\n",
       "\n",
       "    .dataframe tbody tr th {\n",
       "        vertical-align: top;\n",
       "    }\n",
       "\n",
       "    .dataframe thead th {\n",
       "        text-align: right;\n",
       "    }\n",
       "</style>\n",
       "<table border=\"1\" class=\"dataframe\">\n",
       "  <thead>\n",
       "    <tr style=\"text-align: right;\">\n",
       "      <th></th>\n",
       "      <th>text</th>\n",
       "      <th>user</th>\n",
       "      <th>date</th>\n",
       "      <th>retweet</th>\n",
       "      <th>mention</th>\n",
       "      <th>hashtags</th>\n",
       "      <th>location</th>\n",
       "    </tr>\n",
       "  </thead>\n",
       "  <tbody>\n",
       "    <tr>\n",
       "      <th>0</th>\n",
       "      <td>It's okay to not totally understand the specific struggles of queer Japanese / Japanese people... but you can be open to learning about it. Just b...</td>\n",
       "      <td>wakuu</td>\n",
       "      <td>2020-06-08 23:58:16+00:00</td>\n",
       "      <td>1</td>\n",
       "      <td>NaN</td>\n",
       "      <td>NaN</td>\n",
       "      <td>NaN</td>\n",
       "    </tr>\n",
       "    <tr>\n",
       "      <th>1</th>\n",
       "      <td>10 things to know before returning to your hair salon Excitement, anxiety and a new normal at salons and barber shops as Long Island enters Phase ...</td>\n",
       "      <td>cbiz</td>\n",
       "      <td>2020-06-08 23:58:01+00:00</td>\n",
       "      <td>0</td>\n",
       "      <td>NaN</td>\n",
       "      <td>#phase2</td>\n",
       "      <td>NaN</td>\n",
       "    </tr>\n",
       "    <tr>\n",
       "      <th>2</th>\n",
       "      <td>Well that information would have been useful 2 months ago, and avoided wasted anxiety every single time a person came even slightly close to enter...</td>\n",
       "      <td>SKastenbaum</td>\n",
       "      <td>2020-06-08 23:50:47+00:00</td>\n",
       "      <td>0</td>\n",
       "      <td>NaN</td>\n",
       "      <td>NaN</td>\n",
       "      <td>NaN</td>\n",
       "    </tr>\n",
       "    <tr>\n",
       "      <th>3</th>\n",
       "      <td>My anxiety hasn’t been the greatest lately.</td>\n",
       "      <td>xI_am_Carolinex</td>\n",
       "      <td>2020-06-08 23:49:55+00:00</td>\n",
       "      <td>0</td>\n",
       "      <td>NaN</td>\n",
       "      <td>NaN</td>\n",
       "      <td>NaN</td>\n",
       "    </tr>\n",
       "    <tr>\n",
       "      <th>4</th>\n",
       "      <td>i was mostly afraid because i have really bad anxiety and we've had misunderstandings in the past so i kept a lot to myself but recently it reache...</td>\n",
       "      <td>darshanaheena</td>\n",
       "      <td>2020-06-08 23:48:03+00:00</td>\n",
       "      <td>0</td>\n",
       "      <td>NaN</td>\n",
       "      <td>NaN</td>\n",
       "      <td>NaN</td>\n",
       "    </tr>\n",
       "  </tbody>\n",
       "</table>\n",
       "</div>"
      ],
      "text/plain": [
       "                                                                                                                                                    text  \\\n",
       "0  It's okay to not totally understand the specific struggles of queer Japanese / Japanese people... but you can be open to learning about it. Just b...   \n",
       "1  10 things to know before returning to your hair salon Excitement, anxiety and a new normal at salons and barber shops as Long Island enters Phase ...   \n",
       "2  Well that information would have been useful 2 months ago, and avoided wasted anxiety every single time a person came even slightly close to enter...   \n",
       "3                                                                                                            My anxiety hasn’t been the greatest lately.   \n",
       "4  i was mostly afraid because i have really bad anxiety and we've had misunderstandings in the past so i kept a lot to myself but recently it reache...   \n",
       "\n",
       "              user                       date  retweet mention hashtags  \\\n",
       "0            wakuu  2020-06-08 23:58:16+00:00        1     NaN      NaN   \n",
       "1             cbiz  2020-06-08 23:58:01+00:00        0     NaN  #phase2   \n",
       "2      SKastenbaum  2020-06-08 23:50:47+00:00        0     NaN      NaN   \n",
       "3  xI_am_Carolinex  2020-06-08 23:49:55+00:00        0     NaN      NaN   \n",
       "4    darshanaheena  2020-06-08 23:48:03+00:00        0     NaN      NaN   \n",
       "\n",
       "   location  \n",
       "0       NaN  \n",
       "1       NaN  \n",
       "2       NaN  \n",
       "3       NaN  \n",
       "4       NaN  "
      ]
     },
     "execution_count": 63,
     "metadata": {},
     "output_type": "execute_result"
    }
   ],
   "source": [
    "df.head()"
   ]
  },
  {
   "cell_type": "markdown",
   "metadata": {},
   "source": [
    "## Data pre-processing"
   ]
  },
  {
   "cell_type": "code",
   "execution_count": 64,
   "metadata": {},
   "outputs": [],
   "source": [
    "#for the purposes of this analysis, only text col will be used\n",
    "df.drop(columns = ['user', 'date', 'retweet', 'mention', 'hashtags', 'location'], inplace = True)"
   ]
  },
  {
   "cell_type": "code",
   "execution_count": 65,
   "metadata": {},
   "outputs": [
    {
     "data": {
      "text/html": [
       "<div>\n",
       "<style scoped>\n",
       "    .dataframe tbody tr th:only-of-type {\n",
       "        vertical-align: middle;\n",
       "    }\n",
       "\n",
       "    .dataframe tbody tr th {\n",
       "        vertical-align: top;\n",
       "    }\n",
       "\n",
       "    .dataframe thead th {\n",
       "        text-align: right;\n",
       "    }\n",
       "</style>\n",
       "<table border=\"1\" class=\"dataframe\">\n",
       "  <thead>\n",
       "    <tr style=\"text-align: right;\">\n",
       "      <th></th>\n",
       "      <th>text</th>\n",
       "    </tr>\n",
       "  </thead>\n",
       "  <tbody>\n",
       "    <tr>\n",
       "      <th>0</th>\n",
       "      <td>It's okay to not totally understand the specific struggles of queer Japanese / Japanese people... but you can be open to learning about it. Just b...</td>\n",
       "    </tr>\n",
       "    <tr>\n",
       "      <th>1</th>\n",
       "      <td>10 things to know before returning to your hair salon Excitement, anxiety and a new normal at salons and barber shops as Long Island enters Phase ...</td>\n",
       "    </tr>\n",
       "    <tr>\n",
       "      <th>2</th>\n",
       "      <td>Well that information would have been useful 2 months ago, and avoided wasted anxiety every single time a person came even slightly close to enter...</td>\n",
       "    </tr>\n",
       "    <tr>\n",
       "      <th>3</th>\n",
       "      <td>My anxiety hasn’t been the greatest lately.</td>\n",
       "    </tr>\n",
       "    <tr>\n",
       "      <th>4</th>\n",
       "      <td>i was mostly afraid because i have really bad anxiety and we've had misunderstandings in the past so i kept a lot to myself but recently it reache...</td>\n",
       "    </tr>\n",
       "  </tbody>\n",
       "</table>\n",
       "</div>"
      ],
      "text/plain": [
       "                                                                                                                                                    text\n",
       "0  It's okay to not totally understand the specific struggles of queer Japanese / Japanese people... but you can be open to learning about it. Just b...\n",
       "1  10 things to know before returning to your hair salon Excitement, anxiety and a new normal at salons and barber shops as Long Island enters Phase ...\n",
       "2  Well that information would have been useful 2 months ago, and avoided wasted anxiety every single time a person came even slightly close to enter...\n",
       "3                                                                                                            My anxiety hasn’t been the greatest lately.\n",
       "4  i was mostly afraid because i have really bad anxiety and we've had misunderstandings in the past so i kept a lot to myself but recently it reache..."
      ]
     },
     "execution_count": 65,
     "metadata": {},
     "output_type": "execute_result"
    }
   ],
   "source": [
    "df.head()"
   ]
  },
  {
   "cell_type": "code",
   "execution_count": 66,
   "metadata": {},
   "outputs": [],
   "source": [
    "stop_words = stopwords.words('english')\n",
    "\n",
    "#add punctuation char's to stopwords list\n",
    "stop_words += list(string.punctuation)\n",
    "stop_words += ['0', '1', '2', '3', '4', '5', '6', '7', '8', '9']"
   ]
  },
  {
   "cell_type": "code",
   "execution_count": 67,
   "metadata": {},
   "outputs": [
    {
     "name": "stdout",
     "output_type": "stream",
     "text": [
      "!\"#$%&'()*+,-./:;<=>?@[\\]^_`{|}~\n"
     ]
    }
   ],
   "source": [
    "print(string.punctuation)"
   ]
  },
  {
   "cell_type": "code",
   "execution_count": 68,
   "metadata": {},
   "outputs": [],
   "source": [
    "def process_text(text):\n",
    "    tokens = word_tokenize(text)\n",
    "    stopwords_removed = [token.lower() for token in tokens if token.lower() not in stop_words and len(token) > 3]\n",
    "    return stopwords_removed"
   ]
  },
  {
   "cell_type": "code",
   "execution_count": 69,
   "metadata": {},
   "outputs": [],
   "source": [
    "df['text'] = df['text'].apply(process_text)"
   ]
  },
  {
   "cell_type": "code",
   "execution_count": 70,
   "metadata": {},
   "outputs": [],
   "source": [
    "lemmatizer = WordNetLemmatizer()\n",
    "\n",
    "def lemmatize_text(df_text):\n",
    "    lemmatized =[]\n",
    "    for w in df_text:\n",
    "        lemmatized.append(lemmatizer.lemmatize(w))\n",
    "    return lemmatized"
   ]
  },
  {
   "cell_type": "code",
   "execution_count": 71,
   "metadata": {},
   "outputs": [],
   "source": [
    "df['text'] = df['text'].apply(lemmatize_text)"
   ]
  },
  {
   "cell_type": "code",
   "execution_count": 5,
   "metadata": {},
   "outputs": [],
   "source": [
    "# def remove_urls(df):\n",
    "#     df['text'] = df['text'].str.replace(r\"http\\S+\", \"\")\n",
    "\n",
    "# remove_urls(df)"
   ]
  },
  {
   "cell_type": "code",
   "execution_count": 72,
   "metadata": {},
   "outputs": [
    {
     "name": "stdout",
     "output_type": "stream",
     "text": [
      "117042 words total, with a vocabulary size of 17291\n",
      "Max sentence length is 33\n"
     ]
    }
   ],
   "source": [
    "all_words = [word for tokens in df['text'] for word in tokens]\n",
    "tweet_lengths = [len(tokens) for tokens in df['text']]\n",
    "vocab = sorted(list(set(all_words)))\n",
    "\n",
    "print('{} words total, with a vocabulary size of {}'.format(len(all_words), len(vocab)))\n",
    "print('Max sentence length is {}'.format(max(sentence_lengths)))"
   ]
  },
  {
   "cell_type": "code",
   "execution_count": 73,
   "metadata": {},
   "outputs": [
    {
     "data": {
      "image/png": "[encoded data removed]",
      "text/plain": [
       "<Figure size 1080x576 with 1 Axes>"
      ]
     },
     "metadata": {
      "needs_background": "light"
     },
     "output_type": "display_data"
    }
   ],
   "source": [
    "plt.figure(figsize = (15,8))\n",
    "sns.countplot(sentence_lengths)\n",
    "plt.title('Tweet Length Distribution', fontsize = 18)\n",
    "plt.xlabel('Words per Tweet', fontsize = 12)\n",
    "plt.ylabel('Number of Tweets', fontsize =12)\n",
    "plt.show()"
   ]
  },
  {
   "cell_type": "code",
   "execution_count": 74,
   "metadata": {},
   "outputs": [],
   "source": [
    "del_token = [] \n",
    "\n",
    "for tweet in df['text']:\n",
    "    for token in tweet:\n",
    "        if len(token) < 3: \n",
    "            del_token.append(token)\n",
    "            "
   ]
  },
  {
   "cell_type": "code",
   "execution_count": 49,
   "metadata": {},
   "outputs": [
    {
     "data": {
      "text/plain": [
       "11.7042"
      ]
     },
     "execution_count": 49,
     "metadata": {},
     "output_type": "execute_result"
    }
   ],
   "source": [
    "sum(sentence_lengths) / len(sentence_lengths)"
   ]
  },
  {
   "cell_type": "code",
   "execution_count": 50,
   "metadata": {},
   "outputs": [],
   "source": [
    "flat_words = [item for sublist in df['text'] for item in sublist]"
   ]
  },
  {
   "cell_type": "code",
   "execution_count": 51,
   "metadata": {},
   "outputs": [],
   "source": [
    "word_freq = FreqDist(flat_words)"
   ]
  },
  {
   "cell_type": "code",
   "execution_count": 52,
   "metadata": {},
   "outputs": [
    {
     "data": {
      "text/plain": [
       "FreqDist({'anxiety': 9992, 'like': 1066, 'http': 922, 'time': 888, 'people': 785, 'depression': 633, 'feel': 625, 'much': 619, 'give': 600, 'help': 527, ...})"
      ]
     },
     "execution_count": 52,
     "metadata": {},
     "output_type": "execute_result"
    }
   ],
   "source": [
    "word_freq"
   ]
  },
  {
   "cell_type": "code",
   "execution_count": 55,
   "metadata": {},
   "outputs": [
    {
     "data": {
      "text/plain": [
       "[('anxiety', 9992),\n",
       " ('like', 1066),\n",
       " ('http', 922),\n",
       " ('time', 888),\n",
       " ('people', 785),\n",
       " ('depression', 633),\n",
       " ('feel', 625),\n",
       " ('much', 619),\n",
       " ('give', 600),\n",
       " ('help', 527),\n",
       " ('know', 515),\n",
       " ('attack', 507),\n",
       " ('really', 479),\n",
       " ('stress', 479),\n",
       " ('going', 465),\n",
       " ('today', 454),\n",
       " ('thing', 452),\n",
       " ('need', 452),\n",
       " ('social', 428),\n",
       " ('make', 419),\n",
       " ('right', 390),\n",
       " ('work', 370),\n",
       " ('think', 357),\n",
       " ('good', 355),\n",
       " ('fear', 353),\n",
       " ('take', 353),\n",
       " ('life', 339),\n",
       " ('would', 325),\n",
       " ('want', 325),\n",
       " ('even', 322),\n",
       " ('back', 318),\n",
       " ('also', 315),\n",
       " ('feeling', 314),\n",
       " ('shit', 312),\n",
       " ('year', 305),\n",
       " ('love', 304),\n",
       " ('giving', 293),\n",
       " ('sleep', 292),\n",
       " ('week', 288),\n",
       " ('many', 281)]"
      ]
     },
     "execution_count": 55,
     "metadata": {},
     "output_type": "execute_result"
    }
   ],
   "source": [
    "word_freq.most_common(40)"
   ]
  },
  {
   "cell_type": "code",
   "execution_count": 78,
   "metadata": {},
   "outputs": [
    {
     "data": {
      "text/html": [
       "<div>\n",
       "<style scoped>\n",
       "    .dataframe tbody tr th:only-of-type {\n",
       "        vertical-align: middle;\n",
       "    }\n",
       "\n",
       "    .dataframe tbody tr th {\n",
       "        vertical-align: top;\n",
       "    }\n",
       "\n",
       "    .dataframe thead th {\n",
       "        text-align: right;\n",
       "    }\n",
       "</style>\n",
       "<table border=\"1\" class=\"dataframe\">\n",
       "  <thead>\n",
       "    <tr style=\"text-align: right;\">\n",
       "      <th></th>\n",
       "      <th>text</th>\n",
       "    </tr>\n",
       "  </thead>\n",
       "  <tbody>\n",
       "    <tr>\n",
       "      <th>0</th>\n",
       "      <td>[okay, totally, understand, specific, struggle, queer, japanese, japanese, people, open, learning, feel, personally, mean, exist, applies, racism,...</td>\n",
       "    </tr>\n",
       "    <tr>\n",
       "      <th>1</th>\n",
       "      <td>[thing, know, returning, hair, salon, excitement, anxiety, normal, salon, barber, shop, long, island, enters, phase, phase2]</td>\n",
       "    </tr>\n",
       "    <tr>\n",
       "      <th>2</th>\n",
       "      <td>[well, information, would, useful, month, avoided, wasted, anxiety, every, single, time, person, came, even, slightly, close, entering, general, v...</td>\n",
       "    </tr>\n",
       "    <tr>\n",
       "      <th>3</th>\n",
       "      <td>[anxiety, greatest, lately]</td>\n",
       "    </tr>\n",
       "    <tr>\n",
       "      <th>4</th>\n",
       "      <td>[mostly, afraid, really, anxiety, misunderstanding, past, kept, recently, reached, point, desperation, something, surprisingly, attentive, validat...</td>\n",
       "    </tr>\n",
       "    <tr>\n",
       "      <th>...</th>\n",
       "      <td>...</td>\n",
       "    </tr>\n",
       "    <tr>\n",
       "      <th>9995</th>\n",
       "      <td>[finished, season, know, give, anxiety, make, never, want, speak]</td>\n",
       "    </tr>\n",
       "    <tr>\n",
       "      <th>9996</th>\n",
       "      <td>[serious, note, hate, people, joke, laugh, rush, anxiety, like, really, actually, bother, please]</td>\n",
       "    </tr>\n",
       "    <tr>\n",
       "      <th>9997</th>\n",
       "      <td>[think, anxiety, attach, like, shaking, feeling, feel, limp]</td>\n",
       "    </tr>\n",
       "    <tr>\n",
       "      <th>9998</th>\n",
       "      <td>[tryna, deal, anxiety, depression, netflix, apple, music, bill, http, //twitter.com/memes_bizarre/status/1195701303047004160/video/1]</td>\n",
       "    </tr>\n",
       "    <tr>\n",
       "      <th>9999</th>\n",
       "      <td>[interview, take, feel, much, stress, anxiety, common, work, lmao]</td>\n",
       "    </tr>\n",
       "  </tbody>\n",
       "</table>\n",
       "<p>10000 rows × 1 columns</p>\n",
       "</div>"
      ],
      "text/plain": [
       "                                                                                                                                                       text\n",
       "0     [okay, totally, understand, specific, struggle, queer, japanese, japanese, people, open, learning, feel, personally, mean, exist, applies, racism,...\n",
       "1                              [thing, know, returning, hair, salon, excitement, anxiety, normal, salon, barber, shop, long, island, enters, phase, phase2]\n",
       "2     [well, information, would, useful, month, avoided, wasted, anxiety, every, single, time, person, came, even, slightly, close, entering, general, v...\n",
       "3                                                                                                                               [anxiety, greatest, lately]\n",
       "4     [mostly, afraid, really, anxiety, misunderstanding, past, kept, recently, reached, point, desperation, something, surprisingly, attentive, validat...\n",
       "...                                                                                                                                                     ...\n",
       "9995                                                                                      [finished, season, know, give, anxiety, make, never, want, speak]\n",
       "9996                                                      [serious, note, hate, people, joke, laugh, rush, anxiety, like, really, actually, bother, please]\n",
       "9997                                                                                           [think, anxiety, attach, like, shaking, feeling, feel, limp]\n",
       "9998                  [tryna, deal, anxiety, depression, netflix, apple, music, bill, http, //twitter.com/memes_bizarre/status/1195701303047004160/video/1]\n",
       "9999                                                                                     [interview, take, feel, much, stress, anxiety, common, work, lmao]\n",
       "\n",
       "[10000 rows x 1 columns]"
      ]
     },
     "execution_count": 78,
     "metadata": {},
     "output_type": "execute_result"
    }
   ],
   "source": [
    "df"
   ]
  },
  {
   "cell_type": "code",
   "execution_count": 79,
   "metadata": {},
   "outputs": [],
   "source": [
    "df.to_csv('clean_anxiety_tweets.csv', index = False)"
   ]
  },
  {
   "cell_type": "code",
   "execution_count": 81,
   "metadata": {},
   "outputs": [
    {
     "data": {
      "text/html": [
       "<div>\n",
       "<style scoped>\n",
       "    .dataframe tbody tr th:only-of-type {\n",
       "        vertical-align: middle;\n",
       "    }\n",
       "\n",
       "    .dataframe tbody tr th {\n",
       "        vertical-align: top;\n",
       "    }\n",
       "\n",
       "    .dataframe thead th {\n",
       "        text-align: right;\n",
       "    }\n",
       "</style>\n",
       "<table border=\"1\" class=\"dataframe\">\n",
       "  <thead>\n",
       "    <tr style=\"text-align: right;\">\n",
       "      <th></th>\n",
       "      <th>text</th>\n",
       "    </tr>\n",
       "  </thead>\n",
       "  <tbody>\n",
       "    <tr>\n",
       "      <th>0</th>\n",
       "      <td>[okay, totally, understand, specific, struggle, queer, japanese, japanese, people, open, learning, feel, personally, mean, exist, applies, racism,...</td>\n",
       "    </tr>\n",
       "    <tr>\n",
       "      <th>1</th>\n",
       "      <td>[thing, know, returning, hair, salon, excitement, anxiety, normal, salon, barber, shop, long, island, enters, phase, phase2]</td>\n",
       "    </tr>\n",
       "    <tr>\n",
       "      <th>2</th>\n",
       "      <td>[well, information, would, useful, month, avoided, wasted, anxiety, every, single, time, person, came, even, slightly, close, entering, general, v...</td>\n",
       "    </tr>\n",
       "    <tr>\n",
       "      <th>3</th>\n",
       "      <td>[anxiety, greatest, lately]</td>\n",
       "    </tr>\n",
       "    <tr>\n",
       "      <th>4</th>\n",
       "      <td>[mostly, afraid, really, anxiety, misunderstanding, past, kept, recently, reached, point, desperation, something, surprisingly, attentive, validat...</td>\n",
       "    </tr>\n",
       "  </tbody>\n",
       "</table>\n",
       "</div>"
      ],
      "text/plain": [
       "                                                                                                                                                    text\n",
       "0  [okay, totally, understand, specific, struggle, queer, japanese, japanese, people, open, learning, feel, personally, mean, exist, applies, racism,...\n",
       "1                           [thing, know, returning, hair, salon, excitement, anxiety, normal, salon, barber, shop, long, island, enters, phase, phase2]\n",
       "2  [well, information, would, useful, month, avoided, wasted, anxiety, every, single, time, person, came, even, slightly, close, entering, general, v...\n",
       "3                                                                                                                            [anxiety, greatest, lately]\n",
       "4  [mostly, afraid, really, anxiety, misunderstanding, past, kept, recently, reached, point, desperation, something, surprisingly, attentive, validat..."
      ]
     },
     "execution_count": 81,
     "metadata": {},
     "output_type": "execute_result"
    }
   ],
   "source": [
    "df.head()"
   ]
  }
 ],
 "metadata": {
  "kernelspec": {
   "display_name": "Python 3",
   "language": "python",
   "name": "python3"
  },
  "language_info": {
   "codemirror_mode": {
    "name": "ipython",
    "version": 3
   },
   "file_extension": ".py",
   "mimetype": "text/x-python",
   "name": "python",
   "nbconvert_exporter": "python",
   "pygments_lexer": "ipython3",
   "version": "3.7.4"
  }
 },
 "nbformat": 4,
 "nbformat_minor": 4
}

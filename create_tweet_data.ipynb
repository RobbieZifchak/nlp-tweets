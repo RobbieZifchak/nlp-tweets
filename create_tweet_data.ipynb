{
 "cells": [
  {
   "cell_type": "markdown",
   "metadata": {},
   "source": [
    "## Creating Tweet Dataset"
   ]
  },
  {
   "cell_type": "code",
   "execution_count": 1,
   "metadata": {},
   "outputs": [
    {
     "name": "stderr",
     "output_type": "stream",
     "text": [
      "/opt/anaconda3/lib/python3.7/site-packages/statsmodels/tools/_testing.py:19: FutureWarning: pandas.util.testing is deprecated. Use the functions in the public API at pandas.testing instead.\n",
      "  import pandas.util.testing as tm\n"
     ]
    }
   ],
   "source": [
    "import GetOldTweets3 as got\n",
    "\n",
    "import pandas as pd\n",
    "import matplotlib.pyplot as plt\n",
    "import seaborn as sns\n",
    "import numpy as np\n",
    "\n",
    "#from nltk.tokenize import RegexpTokenizer\n",
    "from nltk.tokenize import word_tokenize\n",
    "from nltk.corpus import stopwords\n",
    "\n",
    "import string\n",
    "\n",
    "from nltk.stem import WordNetLemmatizer\n",
    "from nltk.probability import FreqDist\n",
    "\n",
    "import re"
   ]
  },
  {
   "cell_type": "code",
   "execution_count": 2,
   "metadata": {},
   "outputs": [],
   "source": [
    "pd.set_option('display.max_rows', 100)\n",
    "pd.options.display.max_colwidth = 150"
   ]
  },
  {
   "cell_type": "markdown",
   "metadata": {},
   "source": [
    "#### Retrieving Data from Twitter API via GetOldTweets3"
   ]
  },
  {
   "cell_type": "code",
   "execution_count": 6,
   "metadata": {},
   "outputs": [],
   "source": [
    "tweetCriteria = got.manager.TweetCriteria().setQuerySearch('anxiety')\\\n",
    "                                           .setSince('2018-06-13')\\\n",
    "                                           .setUntil('2020-06-13')\\\n",
    "                                           .setNear('New York')\\\n",
    "                                           .setMaxTweets(12000)\\\n",
    "                                           .setEmoji('unicode')\n",
    "                                           \n",
    "\n",
    "tweet_object = got.manager.TweetManager.getTweets(tweetCriteria)"
   ]
  },
  {
   "cell_type": "code",
   "execution_count": 95,
   "metadata": {},
   "outputs": [
    {
     "data": {
      "text/plain": [
       "12000"
      ]
     },
     "execution_count": 95,
     "metadata": {},
     "output_type": "execute_result"
    }
   ],
   "source": [
    "len(tweet_object)"
   ]
  },
  {
   "cell_type": "code",
   "execution_count": 13,
   "metadata": {},
   "outputs": [],
   "source": [
    "#construct a dictionary of desired values\n",
    "\n",
    "tweet_dict = list(map(lambda x: {'text': x.text, 'user': x.username,\n",
    "                                 'date': x.date, 'retweet': x.retweets,\n",
    "                                 'mention': x.mentions, 'hashtags': x.hashtags,\n",
    "                                 'location' : x.geo}, tweet_object))\n"
   ]
  },
  {
   "cell_type": "code",
   "execution_count": 17,
   "metadata": {},
   "outputs": [
    {
     "data": {
      "text/plain": [
       "{'text': 'Had anxiety the whole time I’m up here cause I dont do heights but was worth the view 🥴 ',\n",
       " 'user': 'MxhmoudG',\n",
       " 'date': datetime.datetime(2020, 6, 12, 23, 53, 55, tzinfo=datetime.timezone.utc),\n",
       " 'retweet': 0,\n",
       " 'mention': '',\n",
       " 'hashtags': '',\n",
       " 'location': ''}"
      ]
     },
     "execution_count": 17,
     "metadata": {},
     "output_type": "execute_result"
    }
   ],
   "source": [
    "#preview dictionary\n",
    "tweet_dict[0]"
   ]
  },
  {
   "cell_type": "code",
   "execution_count": 18,
   "metadata": {},
   "outputs": [],
   "source": [
    "#turn dictionary into dataframe \n",
    "\n",
    "df = pd.DataFrame(tweet_dict)"
   ]
  },
  {
   "cell_type": "code",
   "execution_count": 19,
   "metadata": {},
   "outputs": [
    {
     "name": "stdout",
     "output_type": "stream",
     "text": [
      "(12000, 7)\n"
     ]
    },
    {
     "data": {
      "text/html": [
       "<div>\n",
       "<style scoped>\n",
       "    .dataframe tbody tr th:only-of-type {\n",
       "        vertical-align: middle;\n",
       "    }\n",
       "\n",
       "    .dataframe tbody tr th {\n",
       "        vertical-align: top;\n",
       "    }\n",
       "\n",
       "    .dataframe thead th {\n",
       "        text-align: right;\n",
       "    }\n",
       "</style>\n",
       "<table border=\"1\" class=\"dataframe\">\n",
       "  <thead>\n",
       "    <tr style=\"text-align: right;\">\n",
       "      <th></th>\n",
       "      <th>text</th>\n",
       "      <th>user</th>\n",
       "      <th>date</th>\n",
       "      <th>retweet</th>\n",
       "      <th>mention</th>\n",
       "      <th>hashtags</th>\n",
       "      <th>location</th>\n",
       "    </tr>\n",
       "  </thead>\n",
       "  <tbody>\n",
       "    <tr>\n",
       "      <th>0</th>\n",
       "      <td>Had anxiety the whole time I’m up here cause I dont do heights but was worth the view 🥴</td>\n",
       "      <td>MxhmoudG</td>\n",
       "      <td>2020-06-12 23:53:55+00:00</td>\n",
       "      <td>0</td>\n",
       "      <td></td>\n",
       "      <td></td>\n",
       "      <td></td>\n",
       "    </tr>\n",
       "    <tr>\n",
       "      <th>1</th>\n",
       "      <td>#coconutoil🥥 is a great holistic treatment for #memoryloss #anxiety #Depresion #alzheimers and any other #brain🧠 related condition 🤓 . . #MyelinSh...</td>\n",
       "      <td>Jahypimentel</td>\n",
       "      <td>2020-06-12 23:50:32+00:00</td>\n",
       "      <td>0</td>\n",
       "      <td></td>\n",
       "      <td>#coconutoil #memoryloss #anxiety #Depresion #alzheimers #brain #MyelinSheath</td>\n",
       "      <td></td>\n",
       "    </tr>\n",
       "    <tr>\n",
       "      <th>2</th>\n",
       "      <td>Will be so glad to not feel constantly bogged down from anxiety related to loneliness, hopelessness, &amp;amp; misanthropy. Also my flowers look rly c...</td>\n",
       "      <td>RaverHippie</td>\n",
       "      <td>2020-06-12 23:48:46+00:00</td>\n",
       "      <td>0</td>\n",
       "      <td></td>\n",
       "      <td></td>\n",
       "      <td></td>\n",
       "    </tr>\n",
       "    <tr>\n",
       "      <th>3</th>\n",
       "      <td>English</td>\n",
       "      <td>Clarknt67</td>\n",
       "      <td>2020-06-12 22:58:39+00:00</td>\n",
       "      <td>0</td>\n",
       "      <td></td>\n",
       "      <td></td>\n",
       "      <td></td>\n",
       "    </tr>\n",
       "    <tr>\n",
       "      <th>4</th>\n",
       "      <td>Tbh, since ive been taking time to meditate, my anxiety hasnt really been acting up and i love it</td>\n",
       "      <td>chiqui_xo</td>\n",
       "      <td>2020-06-12 22:58:09+00:00</td>\n",
       "      <td>0</td>\n",
       "      <td></td>\n",
       "      <td></td>\n",
       "      <td></td>\n",
       "    </tr>\n",
       "  </tbody>\n",
       "</table>\n",
       "</div>"
      ],
      "text/plain": [
       "                                                                                                                                                    text  \\\n",
       "0                                                               Had anxiety the whole time I’m up here cause I dont do heights but was worth the view 🥴    \n",
       "1  #coconutoil🥥 is a great holistic treatment for #memoryloss #anxiety #Depresion #alzheimers and any other #brain🧠 related condition 🤓 . . #MyelinSh...   \n",
       "2  Will be so glad to not feel constantly bogged down from anxiety related to loneliness, hopelessness, &amp; misanthropy. Also my flowers look rly c...   \n",
       "3                                                                                                                                                English   \n",
       "4                                                      Tbh, since ive been taking time to meditate, my anxiety hasnt really been acting up and i love it   \n",
       "\n",
       "           user                      date  retweet mention  \\\n",
       "0      MxhmoudG 2020-06-12 23:53:55+00:00        0           \n",
       "1  Jahypimentel 2020-06-12 23:50:32+00:00        0           \n",
       "2   RaverHippie 2020-06-12 23:48:46+00:00        0           \n",
       "3     Clarknt67 2020-06-12 22:58:39+00:00        0           \n",
       "4     chiqui_xo 2020-06-12 22:58:09+00:00        0           \n",
       "\n",
       "                                                                       hashtags  \\\n",
       "0                                                                                 \n",
       "1  #coconutoil #memoryloss #anxiety #Depresion #alzheimers #brain #MyelinSheath   \n",
       "2                                                                                 \n",
       "3                                                                                 \n",
       "4                                                                                 \n",
       "\n",
       "  location  \n",
       "0           \n",
       "1           \n",
       "2           \n",
       "3           \n",
       "4           "
      ]
     },
     "execution_count": 19,
     "metadata": {},
     "output_type": "execute_result"
    }
   ],
   "source": [
    "#preview dataframe\n",
    "print(df.shape)\n",
    "df.head()\n"
   ]
  },
  {
   "cell_type": "code",
   "execution_count": 75,
   "metadata": {},
   "outputs": [],
   "source": [
    "#write tweets to csv \n",
    "df.to_csv('csv_files/anxiety_tweets.csv', index = False)"
   ]
  },
  {
   "cell_type": "markdown",
   "metadata": {},
   "source": [
    "## Building New Tweet Set with Nothing specified in Query Search"
   ]
  },
  {
   "cell_type": "code",
   "execution_count": 2,
   "metadata": {},
   "outputs": [],
   "source": [
    "tweetCriteria = got.manager.TweetCriteria().setQuerySearch('')\\\n",
    "                                           .setSince('2018-06-30')\\\n",
    "                                           .setUntil('2020-06-30')\\\n",
    "                                            .setNear('New York')\\\n",
    "                                           .setMaxTweets(12000)\n",
    "                                           \n",
    "                                           \n",
    "\n",
    "tweet_object = got.manager.TweetManager.getTweets(tweetCriteria)"
   ]
  },
  {
   "cell_type": "code",
   "execution_count": 20,
   "metadata": {},
   "outputs": [],
   "source": [
    "#function for turning tweet return object to df\n",
    "\n",
    "def tweet_to_df(tweet_object):\n",
    "    \n",
    "    \n",
    "    tweet_dict = list(map(lambda x: {'text': x.text, 'user': x.username,\n",
    "                                     'date': x.date, 'retweet': x.retweets,\n",
    "                                     'mention': x.mentions, 'hashtags': x.hashtags,\n",
    "                                     'location' : x.geo}, tweet_object))\n",
    "    \n",
    "    tweet_df = pd.DataFrame(tweet_dict)\n",
    "    \n",
    "    return tweet_df\n",
    "\n",
    "df = tweet_to_df(tweet_object)"
   ]
  },
  {
   "cell_type": "code",
   "execution_count": 22,
   "metadata": {},
   "outputs": [
    {
     "data": {
      "text/plain": [
       "(12000, 7)"
      ]
     },
     "execution_count": 22,
     "metadata": {},
     "output_type": "execute_result"
    }
   ],
   "source": [
    "df.shape"
   ]
  },
  {
   "cell_type": "code",
   "execution_count": null,
   "metadata": {},
   "outputs": [],
   "source": [
    "#save to csv\n",
    "df.to_csv('csv_files/random_tweets.csv', index = False)"
   ]
  }
 ],
 "metadata": {
  "kernelspec": {
   "display_name": "Python 3",
   "language": "python",
   "name": "python3"
  },
  "language_info": {
   "codemirror_mode": {
    "name": "ipython",
    "version": 3
   },
   "file_extension": ".py",
   "mimetype": "text/x-python",
   "name": "python",
   "nbconvert_exporter": "python",
   "pygments_lexer": "ipython3",
   "version": "3.7.4"
  }
 },
 "nbformat": 4,
 "nbformat_minor": 4
}

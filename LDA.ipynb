{
 "cells": [
  {
   "cell_type": "code",
   "execution_count": 1,
   "metadata": {},
   "outputs": [],
   "source": [
    "import pandas as pd\n",
    "import numpy as np\n",
    "\n",
    "import string\n",
    "import math\n",
    "\n",
    "import matplotlib.pyplot as plt\n",
    "import matplotlib.gridspec as gridspec\n",
    "\n",
    "from nltk.tokenize import word_tokenize\n",
    "from nltk.corpus import stopwords\n",
    "from nltk.stem import WordNetLemmatizer\n",
    "from nltk.probability import FreqDist\n",
    "\n",
    "from gensim.corpora import Dictionary\n",
    "from gensim.models.ldamodel import LdaModel\n",
    "from gensim.models import CoherenceModel\n",
    "\n",
    "import re"
   ]
  },
  {
   "cell_type": "code",
   "execution_count": 2,
   "metadata": {},
   "outputs": [],
   "source": [
    "pd.options.display.max_colwidth = 200"
   ]
  },
  {
   "cell_type": "code",
   "execution_count": 3,
   "metadata": {},
   "outputs": [],
   "source": [
    "df = pd.read_csv('anxiety_tweets.csv')"
   ]
  },
  {
   "cell_type": "code",
   "execution_count": 4,
   "metadata": {
    "collapsed": true,
    "jupyter": {
     "outputs_hidden": true
    }
   },
   "outputs": [
    {
     "data": {
      "text/html": [
       "<div>\n",
       "<style scoped>\n",
       "    .dataframe tbody tr th:only-of-type {\n",
       "        vertical-align: middle;\n",
       "    }\n",
       "\n",
       "    .dataframe tbody tr th {\n",
       "        vertical-align: top;\n",
       "    }\n",
       "\n",
       "    .dataframe thead th {\n",
       "        text-align: right;\n",
       "    }\n",
       "</style>\n",
       "<table border=\"1\" class=\"dataframe\">\n",
       "  <thead>\n",
       "    <tr style=\"text-align: right;\">\n",
       "      <th></th>\n",
       "      <th>text</th>\n",
       "      <th>user</th>\n",
       "      <th>date</th>\n",
       "      <th>retweet</th>\n",
       "      <th>mention</th>\n",
       "      <th>hashtags</th>\n",
       "      <th>location</th>\n",
       "    </tr>\n",
       "  </thead>\n",
       "  <tbody>\n",
       "    <tr>\n",
       "      <th>9980</th>\n",
       "      <td>Good news... survived #RootCanal.... bad news .... I still suffer from #anxiety and passed out afterwards #FridayThoughts</td>\n",
       "      <td>Miguel1979</td>\n",
       "      <td>2019-11-22 16:35:13+00:00</td>\n",
       "      <td>0</td>\n",
       "      <td>NaN</td>\n",
       "      <td>#RootCanal #anxiety #FridayThoughts</td>\n",
       "      <td>NaN</td>\n",
       "    </tr>\n",
       "    <tr>\n",
       "      <th>9981</th>\n",
       "      <td>My anxiety is fucking with me at work I feel like shit</td>\n",
       "      <td>__wzrd__</td>\n",
       "      <td>2019-11-22 16:21:12+00:00</td>\n",
       "      <td>0</td>\n",
       "      <td>NaN</td>\n",
       "      <td>NaN</td>\n",
       "      <td>NaN</td>\n",
       "    </tr>\n",
       "    <tr>\n",
       "      <th>9982</th>\n",
       "      <td>love when my body is too physically exhausted to feel anxiety</td>\n",
       "      <td>dakotajamess</td>\n",
       "      <td>2019-11-22 16:11:03+00:00</td>\n",
       "      <td>0</td>\n",
       "      <td>NaN</td>\n",
       "      <td>NaN</td>\n",
       "      <td>NaN</td>\n",
       "    </tr>\n",
       "    <tr>\n",
       "      <th>9983</th>\n",
       "      <td>My anxiety is on 100 today</td>\n",
       "      <td>Mckennacm__</td>\n",
       "      <td>2019-11-22 15:16:00+00:00</td>\n",
       "      <td>0</td>\n",
       "      <td>NaN</td>\n",
       "      <td>NaN</td>\n",
       "      <td>NaN</td>\n",
       "    </tr>\n",
       "    <tr>\n",
       "      <th>9984</th>\n",
       "      <td>I’m on vacation for the next ten days and I’m actually having anxiety about the long to do list I made. I’m now also in the nesting phase of pregnancy so on the top of the list is cleaning the clo...</td>\n",
       "      <td>RovikaRajkishun</td>\n",
       "      <td>2019-11-22 14:48:05+00:00</td>\n",
       "      <td>0</td>\n",
       "      <td>NaN</td>\n",
       "      <td>NaN</td>\n",
       "      <td>NaN</td>\n",
       "    </tr>\n",
       "    <tr>\n",
       "      <th>9985</th>\n",
       "      <td>Jesus...I haven't been this nervous in ages....#Dentist #anxiety #stress #FridayMorning ....</td>\n",
       "      <td>Miguel1979</td>\n",
       "      <td>2019-11-22 14:29:40+00:00</td>\n",
       "      <td>0</td>\n",
       "      <td>NaN</td>\n",
       "      <td>#Dentist #anxiety #stress #FridayMorning</td>\n",
       "      <td>NaN</td>\n",
       "    </tr>\n",
       "    <tr>\n",
       "      <th>9986</th>\n",
       "      <td>This how you know the social anxiety is real. She said fuck it imma just clean nigguhs houses.</td>\n",
       "      <td>Stushkaiser</td>\n",
       "      <td>2019-11-22 12:38:10+00:00</td>\n",
       "      <td>0</td>\n",
       "      <td>NaN</td>\n",
       "      <td>NaN</td>\n",
       "      <td>NaN</td>\n",
       "    </tr>\n",
       "    <tr>\n",
       "      <th>9987</th>\n",
       "      <td>And this is coming from someone who is just naturally awkward and has had social anxiety since childhood. Plenty of people find me hilarious and I’m sure a good amount find me obnoxious and and un...</td>\n",
       "      <td>_HanSoto</td>\n",
       "      <td>2019-11-22 12:31:47+00:00</td>\n",
       "      <td>0</td>\n",
       "      <td>NaN</td>\n",
       "      <td>NaN</td>\n",
       "      <td>NaN</td>\n",
       "    </tr>\n",
       "    <tr>\n",
       "      <th>9988</th>\n",
       "      <td>Y’all don’t know what social anxiety means, however this video weird as hell</td>\n",
       "      <td>NicksealeHQ</td>\n",
       "      <td>2019-11-22 12:25:01+00:00</td>\n",
       "      <td>0</td>\n",
       "      <td>NaN</td>\n",
       "      <td>NaN</td>\n",
       "      <td>NaN</td>\n",
       "    </tr>\n",
       "    <tr>\n",
       "      <th>9989</th>\n",
       "      <td>Omg if it wasn’t for @survivorcbs and @CBSBigBrother my entire commute from NYC - PHIL would be such a nightmare. Especially Survivor! Thank you for helping me survive through my anxiety during my...</td>\n",
       "      <td>Cami_Crew</td>\n",
       "      <td>2019-11-22 10:56:05+00:00</td>\n",
       "      <td>0</td>\n",
       "      <td>@survivorcbs @CBSBigBrother</td>\n",
       "      <td>NaN</td>\n",
       "      <td>NaN</td>\n",
       "    </tr>\n",
       "    <tr>\n",
       "      <th>9990</th>\n",
       "      <td>A DIFFERENT woman who needs her anxiety meds to drive. You attract them.</td>\n",
       "      <td>DavidEM47</td>\n",
       "      <td>2019-11-22 04:58:48+00:00</td>\n",
       "      <td>0</td>\n",
       "      <td>NaN</td>\n",
       "      <td>NaN</td>\n",
       "      <td>NaN</td>\n",
       "    </tr>\n",
       "    <tr>\n",
       "      <th>9991</th>\n",
       "      <td>Yaw so fckn stupid .. how you tellin somebody what THEY can n can’t have anxiety towards ?!</td>\n",
       "      <td>SOLID_byNature</td>\n",
       "      <td>2019-11-22 03:38:52+00:00</td>\n",
       "      <td>0</td>\n",
       "      <td>NaN</td>\n",
       "      <td>NaN</td>\n",
       "      <td>NaN</td>\n",
       "    </tr>\n",
       "    <tr>\n",
       "      <th>9992</th>\n",
       "      <td>I’m low key scared to watch the next episode tho lmaooooo wow the anxiety</td>\n",
       "      <td>greaterdesire</td>\n",
       "      <td>2019-11-22 03:13:07+00:00</td>\n",
       "      <td>0</td>\n",
       "      <td>NaN</td>\n",
       "      <td>NaN</td>\n",
       "      <td>NaN</td>\n",
       "    </tr>\n",
       "    <tr>\n",
       "      <th>9993</th>\n",
       "      <td>gave me so much anxiety</td>\n",
       "      <td>emilyr0stek</td>\n",
       "      <td>2019-11-22 02:30:56+00:00</td>\n",
       "      <td>0</td>\n",
       "      <td>NaN</td>\n",
       "      <td>NaN</td>\n",
       "      <td>NaN</td>\n",
       "    </tr>\n",
       "    <tr>\n",
       "      <th>9994</th>\n",
       "      <td>When I disclose I have OCD people water it down or play it off as if I’m “being dramatic” but have no idea the reason I don’t want to live with close friends, or often intentionally isolate from m...</td>\n",
       "      <td>thenellyjay</td>\n",
       "      <td>2019-11-22 02:21:59+00:00</td>\n",
       "      <td>0</td>\n",
       "      <td>NaN</td>\n",
       "      <td>NaN</td>\n",
       "      <td>NaN</td>\n",
       "    </tr>\n",
       "    <tr>\n",
       "      <th>9995</th>\n",
       "      <td>Finished 2 seasons. I don't know. It gives me anxiety and makes me never want to speak to a man again.</td>\n",
       "      <td>mmmeghan</td>\n",
       "      <td>2019-11-22 02:19:36+00:00</td>\n",
       "      <td>0</td>\n",
       "      <td>NaN</td>\n",
       "      <td>NaN</td>\n",
       "      <td>NaN</td>\n",
       "    </tr>\n",
       "    <tr>\n",
       "      <th>9996</th>\n",
       "      <td>On a serious note I hate when people joke about and laugh about my rush anxiety. Like it really actually bothers me so please just don’t.</td>\n",
       "      <td>justlikestephxx</td>\n",
       "      <td>2019-11-22 02:05:33+00:00</td>\n",
       "      <td>0</td>\n",
       "      <td>NaN</td>\n",
       "      <td>NaN</td>\n",
       "      <td>NaN</td>\n",
       "    </tr>\n",
       "    <tr>\n",
       "      <th>9997</th>\n",
       "      <td>I think I’m having an anxiety attach? Is it like a shaking feelings were can feel all of your limps.</td>\n",
       "      <td>momozelly</td>\n",
       "      <td>2019-11-22 02:04:16+00:00</td>\n",
       "      <td>0</td>\n",
       "      <td>NaN</td>\n",
       "      <td>NaN</td>\n",
       "      <td>NaN</td>\n",
       "    </tr>\n",
       "    <tr>\n",
       "      <th>9998</th>\n",
       "      <td>Me tryna deal with anxiety depression Netflix and Apple Music bills https://twitter.com/memes_bizarre/status/1195701303047004160/video/1</td>\n",
       "      <td>smittty_93</td>\n",
       "      <td>2019-11-22 01:58:51+00:00</td>\n",
       "      <td>0</td>\n",
       "      <td>NaN</td>\n",
       "      <td>NaN</td>\n",
       "      <td>NaN</td>\n",
       "    </tr>\n",
       "    <tr>\n",
       "      <th>9999</th>\n",
       "      <td>Interviews take way more out of you, I feel much more stress and anxiety that a common work day lmao</td>\n",
       "      <td>excusemeimjulia</td>\n",
       "      <td>2019-11-22 01:35:30+00:00</td>\n",
       "      <td>0</td>\n",
       "      <td>NaN</td>\n",
       "      <td>NaN</td>\n",
       "      <td>NaN</td>\n",
       "    </tr>\n",
       "  </tbody>\n",
       "</table>\n",
       "</div>"
      ],
      "text/plain": [
       "                                                                                                                                                                                                         text  \\\n",
       "9980                                                                                Good news... survived #RootCanal.... bad news .... I still suffer from #anxiety and passed out afterwards #FridayThoughts   \n",
       "9981                                                                                                                                                  My anxiety is fucking with me at work I feel like shit    \n",
       "9982                                                                                                                                           love when my body is too physically exhausted to feel anxiety    \n",
       "9983                                                                                                                                                                              My anxiety is on 100 today    \n",
       "9984  I’m on vacation for the next ten days and I’m actually having anxiety about the long to do list I made. I’m now also in the nesting phase of pregnancy so on the top of the list is cleaning the clo...   \n",
       "9985                                                                                                             Jesus...I haven't been this nervous in ages....#Dentist #anxiety #stress #FridayMorning ....   \n",
       "9986                                                                                                          This how you know the social anxiety is real. She said fuck it imma just clean nigguhs houses.    \n",
       "9987  And this is coming from someone who is just naturally awkward and has had social anxiety since childhood. Plenty of people find me hilarious and I’m sure a good amount find me obnoxious and and un...   \n",
       "9988                                                                                                                            Y’all don’t know what social anxiety means, however this video weird as hell    \n",
       "9989  Omg if it wasn’t for @survivorcbs and @CBSBigBrother my entire commute from NYC - PHIL would be such a nightmare. Especially Survivor! Thank you for helping me survive through my anxiety during my...   \n",
       "9990                                                                                                                                 A DIFFERENT woman who needs her anxiety meds to drive. You attract them.   \n",
       "9991                                                                                                              Yaw so fckn stupid .. how you tellin somebody what THEY can n can’t have anxiety towards ?!   \n",
       "9992                                                                                                                                I’m low key scared to watch the next episode tho lmaooooo wow the anxiety   \n",
       "9993                                                                                                                                                                                  gave me so much anxiety   \n",
       "9994  When I disclose I have OCD people water it down or play it off as if I’m “being dramatic” but have no idea the reason I don’t want to live with close friends, or often intentionally isolate from m...   \n",
       "9995                                                                                                   Finished 2 seasons. I don't know. It gives me anxiety and makes me never want to speak to a man again.   \n",
       "9996                                                                On a serious note I hate when people joke about and laugh about my rush anxiety. Like it really actually bothers me so please just don’t.   \n",
       "9997                                                                                                     I think I’m having an anxiety attach? Is it like a shaking feelings were can feel all of your limps.   \n",
       "9998                                                                 Me tryna deal with anxiety depression Netflix and Apple Music bills https://twitter.com/memes_bizarre/status/1195701303047004160/video/1   \n",
       "9999                                                                                                     Interviews take way more out of you, I feel much more stress and anxiety that a common work day lmao   \n",
       "\n",
       "                 user                       date  retweet  \\\n",
       "9980       Miguel1979  2019-11-22 16:35:13+00:00        0   \n",
       "9981         __wzrd__  2019-11-22 16:21:12+00:00        0   \n",
       "9982     dakotajamess  2019-11-22 16:11:03+00:00        0   \n",
       "9983      Mckennacm__  2019-11-22 15:16:00+00:00        0   \n",
       "9984  RovikaRajkishun  2019-11-22 14:48:05+00:00        0   \n",
       "9985       Miguel1979  2019-11-22 14:29:40+00:00        0   \n",
       "9986      Stushkaiser  2019-11-22 12:38:10+00:00        0   \n",
       "9987         _HanSoto  2019-11-22 12:31:47+00:00        0   \n",
       "9988      NicksealeHQ  2019-11-22 12:25:01+00:00        0   \n",
       "9989        Cami_Crew  2019-11-22 10:56:05+00:00        0   \n",
       "9990        DavidEM47  2019-11-22 04:58:48+00:00        0   \n",
       "9991   SOLID_byNature  2019-11-22 03:38:52+00:00        0   \n",
       "9992    greaterdesire  2019-11-22 03:13:07+00:00        0   \n",
       "9993      emilyr0stek  2019-11-22 02:30:56+00:00        0   \n",
       "9994      thenellyjay  2019-11-22 02:21:59+00:00        0   \n",
       "9995         mmmeghan  2019-11-22 02:19:36+00:00        0   \n",
       "9996  justlikestephxx  2019-11-22 02:05:33+00:00        0   \n",
       "9997        momozelly  2019-11-22 02:04:16+00:00        0   \n",
       "9998       smittty_93  2019-11-22 01:58:51+00:00        0   \n",
       "9999  excusemeimjulia  2019-11-22 01:35:30+00:00        0   \n",
       "\n",
       "                          mention                                  hashtags  \\\n",
       "9980                          NaN       #RootCanal #anxiety #FridayThoughts   \n",
       "9981                          NaN                                       NaN   \n",
       "9982                          NaN                                       NaN   \n",
       "9983                          NaN                                       NaN   \n",
       "9984                          NaN                                       NaN   \n",
       "9985                          NaN  #Dentist #anxiety #stress #FridayMorning   \n",
       "9986                          NaN                                       NaN   \n",
       "9987                          NaN                                       NaN   \n",
       "9988                          NaN                                       NaN   \n",
       "9989  @survivorcbs @CBSBigBrother                                       NaN   \n",
       "9990                          NaN                                       NaN   \n",
       "9991                          NaN                                       NaN   \n",
       "9992                          NaN                                       NaN   \n",
       "9993                          NaN                                       NaN   \n",
       "9994                          NaN                                       NaN   \n",
       "9995                          NaN                                       NaN   \n",
       "9996                          NaN                                       NaN   \n",
       "9997                          NaN                                       NaN   \n",
       "9998                          NaN                                       NaN   \n",
       "9999                          NaN                                       NaN   \n",
       "\n",
       "      location  \n",
       "9980       NaN  \n",
       "9981       NaN  \n",
       "9982       NaN  \n",
       "9983       NaN  \n",
       "9984       NaN  \n",
       "9985       NaN  \n",
       "9986       NaN  \n",
       "9987       NaN  \n",
       "9988       NaN  \n",
       "9989       NaN  \n",
       "9990       NaN  \n",
       "9991       NaN  \n",
       "9992       NaN  \n",
       "9993       NaN  \n",
       "9994       NaN  \n",
       "9995       NaN  \n",
       "9996       NaN  \n",
       "9997       NaN  \n",
       "9998       NaN  \n",
       "9999       NaN  "
      ]
     },
     "execution_count": 4,
     "metadata": {},
     "output_type": "execute_result"
    }
   ],
   "source": [
    "df.tail(20)"
   ]
  },
  {
   "cell_type": "code",
   "execution_count": 5,
   "metadata": {},
   "outputs": [],
   "source": [
    "stop_words = stopwords.words('english')\n",
    "\n",
    "#add punctuation char's to stopwords list\n",
    "stop_words += list(string.punctuation)\n",
    "stop_words += ['0', '1', '2', '3', '4', '5', '6', '7', '8', '9', 'anxiety','feel', 'give', 'giving', 'help', 'said', 'also', 'rt']"
   ]
  },
  {
   "cell_type": "code",
   "execution_count": 6,
   "metadata": {},
   "outputs": [
    {
     "name": "stdout",
     "output_type": "stream",
     "text": [
      "!\"#$%&'()*+,-./:;<=>?@[\\]^_`{|}~\n"
     ]
    }
   ],
   "source": [
    "print(string.punctuation)"
   ]
  },
  {
   "cell_type": "code",
   "execution_count": 7,
   "metadata": {
    "collapsed": true,
    "jupyter": {
     "outputs_hidden": true
    }
   },
   "outputs": [
    {
     "data": {
      "text/plain": [
       "['i',\n",
       " 'me',\n",
       " 'my',\n",
       " 'myself',\n",
       " 'we',\n",
       " 'our',\n",
       " 'ours',\n",
       " 'ourselves',\n",
       " 'you',\n",
       " \"you're\",\n",
       " \"you've\",\n",
       " \"you'll\",\n",
       " \"you'd\",\n",
       " 'your',\n",
       " 'yours',\n",
       " 'yourself',\n",
       " 'yourselves',\n",
       " 'he',\n",
       " 'him',\n",
       " 'his',\n",
       " 'himself',\n",
       " 'she',\n",
       " \"she's\",\n",
       " 'her',\n",
       " 'hers',\n",
       " 'herself',\n",
       " 'it',\n",
       " \"it's\",\n",
       " 'its',\n",
       " 'itself',\n",
       " 'they',\n",
       " 'them',\n",
       " 'their',\n",
       " 'theirs',\n",
       " 'themselves',\n",
       " 'what',\n",
       " 'which',\n",
       " 'who',\n",
       " 'whom',\n",
       " 'this',\n",
       " 'that',\n",
       " \"that'll\",\n",
       " 'these',\n",
       " 'those',\n",
       " 'am',\n",
       " 'is',\n",
       " 'are',\n",
       " 'was',\n",
       " 'were',\n",
       " 'be',\n",
       " 'been',\n",
       " 'being',\n",
       " 'have',\n",
       " 'has',\n",
       " 'had',\n",
       " 'having',\n",
       " 'do',\n",
       " 'does',\n",
       " 'did',\n",
       " 'doing',\n",
       " 'a',\n",
       " 'an',\n",
       " 'the',\n",
       " 'and',\n",
       " 'but',\n",
       " 'if',\n",
       " 'or',\n",
       " 'because',\n",
       " 'as',\n",
       " 'until',\n",
       " 'while',\n",
       " 'of',\n",
       " 'at',\n",
       " 'by',\n",
       " 'for',\n",
       " 'with',\n",
       " 'about',\n",
       " 'against',\n",
       " 'between',\n",
       " 'into',\n",
       " 'through',\n",
       " 'during',\n",
       " 'before',\n",
       " 'after',\n",
       " 'above',\n",
       " 'below',\n",
       " 'to',\n",
       " 'from',\n",
       " 'up',\n",
       " 'down',\n",
       " 'in',\n",
       " 'out',\n",
       " 'on',\n",
       " 'off',\n",
       " 'over',\n",
       " 'under',\n",
       " 'again',\n",
       " 'further',\n",
       " 'then',\n",
       " 'once',\n",
       " 'here',\n",
       " 'there',\n",
       " 'when',\n",
       " 'where',\n",
       " 'why',\n",
       " 'how',\n",
       " 'all',\n",
       " 'any',\n",
       " 'both',\n",
       " 'each',\n",
       " 'few',\n",
       " 'more',\n",
       " 'most',\n",
       " 'other',\n",
       " 'some',\n",
       " 'such',\n",
       " 'no',\n",
       " 'nor',\n",
       " 'not',\n",
       " 'only',\n",
       " 'own',\n",
       " 'same',\n",
       " 'so',\n",
       " 'than',\n",
       " 'too',\n",
       " 'very',\n",
       " 's',\n",
       " 't',\n",
       " 'can',\n",
       " 'will',\n",
       " 'just',\n",
       " 'don',\n",
       " \"don't\",\n",
       " 'should',\n",
       " \"should've\",\n",
       " 'now',\n",
       " 'd',\n",
       " 'll',\n",
       " 'm',\n",
       " 'o',\n",
       " 're',\n",
       " 've',\n",
       " 'y',\n",
       " 'ain',\n",
       " 'aren',\n",
       " \"aren't\",\n",
       " 'couldn',\n",
       " \"couldn't\",\n",
       " 'didn',\n",
       " \"didn't\",\n",
       " 'doesn',\n",
       " \"doesn't\",\n",
       " 'hadn',\n",
       " \"hadn't\",\n",
       " 'hasn',\n",
       " \"hasn't\",\n",
       " 'haven',\n",
       " \"haven't\",\n",
       " 'isn',\n",
       " \"isn't\",\n",
       " 'ma',\n",
       " 'mightn',\n",
       " \"mightn't\",\n",
       " 'mustn',\n",
       " \"mustn't\",\n",
       " 'needn',\n",
       " \"needn't\",\n",
       " 'shan',\n",
       " \"shan't\",\n",
       " 'shouldn',\n",
       " \"shouldn't\",\n",
       " 'wasn',\n",
       " \"wasn't\",\n",
       " 'weren',\n",
       " \"weren't\",\n",
       " 'won',\n",
       " \"won't\",\n",
       " 'wouldn',\n",
       " \"wouldn't\",\n",
       " '!',\n",
       " '\"',\n",
       " '#',\n",
       " '$',\n",
       " '%',\n",
       " '&',\n",
       " \"'\",\n",
       " '(',\n",
       " ')',\n",
       " '*',\n",
       " '+',\n",
       " ',',\n",
       " '-',\n",
       " '.',\n",
       " '/',\n",
       " ':',\n",
       " ';',\n",
       " '<',\n",
       " '=',\n",
       " '>',\n",
       " '?',\n",
       " '@',\n",
       " '[',\n",
       " '\\\\',\n",
       " ']',\n",
       " '^',\n",
       " '_',\n",
       " '`',\n",
       " '{',\n",
       " '|',\n",
       " '}',\n",
       " '~',\n",
       " '0',\n",
       " '1',\n",
       " '2',\n",
       " '3',\n",
       " '4',\n",
       " '5',\n",
       " '6',\n",
       " '7',\n",
       " '8',\n",
       " '9',\n",
       " 'anxiety',\n",
       " 'feel',\n",
       " 'give',\n",
       " 'giving',\n",
       " 'help',\n",
       " 'said',\n",
       " 'also',\n",
       " 'rt']"
      ]
     },
     "execution_count": 7,
     "metadata": {},
     "output_type": "execute_result"
    }
   ],
   "source": [
    "stop_words"
   ]
  },
  {
   "cell_type": "code",
   "execution_count": 8,
   "metadata": {},
   "outputs": [],
   "source": [
    "def remove_urls(text_col):\n",
    "    text_col = text_col.str.replace(r\"http\\S+\", \"\")\n",
    "\n",
    "remove_urls(df['text'])"
   ]
  },
  {
   "cell_type": "code",
   "execution_count": 38,
   "metadata": {},
   "outputs": [
    {
     "name": "stdout",
     "output_type": "stream",
     "text": [
      "['Me tryna deal with anxiety depression Netflix and Apple Music bills ', 'heres another long string with an ']\n"
     ]
    }
   ],
   "source": [
    "\n",
    "test = ['Me tryna deal with anxiety depression Netflix and Apple Music bills https://twitter.com/memes_bizarre/status/1195701303047004160/video/1',\n",
    "       'heres another long string with an http:///123123.sdfi0sd9fu']\n",
    "\n",
    "new_list = []\n",
    "\n",
    "for items in test:\n",
    "    new_list.append(re.sub(r'http\\S+','', items))\n",
    "\n",
    "print(new_list)"
   ]
  },
  {
   "cell_type": "code",
   "execution_count": 10,
   "metadata": {},
   "outputs": [],
   "source": [
    "def tokenize_lowercase(text):\n",
    "    tokens = word_tokenize(text)\n",
    "    stopwords_removed = [token.lower() for token in tokens if token.lower() not in stop_words and len(token)>3]\n",
    "    return stopwords_removed"
   ]
  },
  {
   "cell_type": "code",
   "execution_count": 11,
   "metadata": {},
   "outputs": [],
   "source": [
    "df['text'] = df['text'].apply(tokenize_lowercase)"
   ]
  },
  {
   "cell_type": "code",
   "execution_count": 12,
   "metadata": {},
   "outputs": [
    {
     "data": {
      "text/plain": [
       "0        [okay, totally, understand, specific, struggles, queer, japanese, japanese, people, open, learning, personally, mean, exist, applies, racism, phobias, list, goes]\n",
       "1                                                    [things, know, returning, hair, salon, excitement, normal, salons, barber, shops, long, island, enters, phase, phase2]\n",
       "2                        [well, information, would, useful, months, avoided, wasted, every, single, time, person, came, even, slightly, close, entering, general, vicinity]\n",
       "3                                                                                                                                                        [greatest, lately]\n",
       "4    [mostly, afraid, really, misunderstandings, past, kept, recently, reached, point, desperation, something, surprisingly, attentive, validating, glad, worried, nothing]\n",
       "Name: text, dtype: object"
      ]
     },
     "execution_count": 12,
     "metadata": {},
     "output_type": "execute_result"
    }
   ],
   "source": [
    "df['text'].head()"
   ]
  },
  {
   "cell_type": "code",
   "execution_count": 13,
   "metadata": {},
   "outputs": [],
   "source": [
    "lemmatizer = WordNetLemmatizer()\n",
    "\n",
    "def lemmatize_text(df_text):\n",
    "    lemmatized =[]\n",
    "    for w in df_text:\n",
    "        lemmatized.append(lemmatizer.lemmatize(w))\n",
    "    return lemmatized"
   ]
  },
  {
   "cell_type": "code",
   "execution_count": 14,
   "metadata": {},
   "outputs": [],
   "source": [
    "df['text'] = df['text'].apply(lemmatize_text)"
   ]
  },
  {
   "cell_type": "code",
   "execution_count": 15,
   "metadata": {
    "collapsed": true,
    "jupyter": {
     "outputs_hidden": true
    }
   },
   "outputs": [
    {
     "data": {
      "text/html": [
       "<div>\n",
       "<style scoped>\n",
       "    .dataframe tbody tr th:only-of-type {\n",
       "        vertical-align: middle;\n",
       "    }\n",
       "\n",
       "    .dataframe tbody tr th {\n",
       "        vertical-align: top;\n",
       "    }\n",
       "\n",
       "    .dataframe thead th {\n",
       "        text-align: right;\n",
       "    }\n",
       "</style>\n",
       "<table border=\"1\" class=\"dataframe\">\n",
       "  <thead>\n",
       "    <tr style=\"text-align: right;\">\n",
       "      <th></th>\n",
       "      <th>text</th>\n",
       "      <th>user</th>\n",
       "      <th>date</th>\n",
       "      <th>retweet</th>\n",
       "      <th>mention</th>\n",
       "      <th>hashtags</th>\n",
       "      <th>location</th>\n",
       "    </tr>\n",
       "  </thead>\n",
       "  <tbody>\n",
       "    <tr>\n",
       "      <th>0</th>\n",
       "      <td>[okay, totally, understand, specific, struggle, queer, japanese, japanese, people, open, learning, personally, mean, exist, applies, racism, phobia, list, go]</td>\n",
       "      <td>wakuu</td>\n",
       "      <td>2020-06-08 23:58:16+00:00</td>\n",
       "      <td>1</td>\n",
       "      <td>NaN</td>\n",
       "      <td>NaN</td>\n",
       "      <td>NaN</td>\n",
       "    </tr>\n",
       "    <tr>\n",
       "      <th>1</th>\n",
       "      <td>[thing, know, returning, hair, salon, excitement, normal, salon, barber, shop, long, island, enters, phase, phase2]</td>\n",
       "      <td>cbiz</td>\n",
       "      <td>2020-06-08 23:58:01+00:00</td>\n",
       "      <td>0</td>\n",
       "      <td>NaN</td>\n",
       "      <td>#phase2</td>\n",
       "      <td>NaN</td>\n",
       "    </tr>\n",
       "    <tr>\n",
       "      <th>2</th>\n",
       "      <td>[well, information, would, useful, month, avoided, wasted, every, single, time, person, came, even, slightly, close, entering, general, vicinity]</td>\n",
       "      <td>SKastenbaum</td>\n",
       "      <td>2020-06-08 23:50:47+00:00</td>\n",
       "      <td>0</td>\n",
       "      <td>NaN</td>\n",
       "      <td>NaN</td>\n",
       "      <td>NaN</td>\n",
       "    </tr>\n",
       "    <tr>\n",
       "      <th>3</th>\n",
       "      <td>[greatest, lately]</td>\n",
       "      <td>xI_am_Carolinex</td>\n",
       "      <td>2020-06-08 23:49:55+00:00</td>\n",
       "      <td>0</td>\n",
       "      <td>NaN</td>\n",
       "      <td>NaN</td>\n",
       "      <td>NaN</td>\n",
       "    </tr>\n",
       "    <tr>\n",
       "      <th>4</th>\n",
       "      <td>[mostly, afraid, really, misunderstanding, past, kept, recently, reached, point, desperation, something, surprisingly, attentive, validating, glad, worried, nothing]</td>\n",
       "      <td>darshanaheena</td>\n",
       "      <td>2020-06-08 23:48:03+00:00</td>\n",
       "      <td>0</td>\n",
       "      <td>NaN</td>\n",
       "      <td>NaN</td>\n",
       "      <td>NaN</td>\n",
       "    </tr>\n",
       "    <tr>\n",
       "      <th>...</th>\n",
       "      <td>...</td>\n",
       "      <td>...</td>\n",
       "      <td>...</td>\n",
       "      <td>...</td>\n",
       "      <td>...</td>\n",
       "      <td>...</td>\n",
       "      <td>...</td>\n",
       "    </tr>\n",
       "    <tr>\n",
       "      <th>9995</th>\n",
       "      <td>[finished, season, know, give, make, never, want, speak]</td>\n",
       "      <td>mmmeghan</td>\n",
       "      <td>2019-11-22 02:19:36+00:00</td>\n",
       "      <td>0</td>\n",
       "      <td>NaN</td>\n",
       "      <td>NaN</td>\n",
       "      <td>NaN</td>\n",
       "    </tr>\n",
       "    <tr>\n",
       "      <th>9996</th>\n",
       "      <td>[serious, note, hate, people, joke, laugh, rush, like, really, actually, bother, please]</td>\n",
       "      <td>justlikestephxx</td>\n",
       "      <td>2019-11-22 02:05:33+00:00</td>\n",
       "      <td>0</td>\n",
       "      <td>NaN</td>\n",
       "      <td>NaN</td>\n",
       "      <td>NaN</td>\n",
       "    </tr>\n",
       "    <tr>\n",
       "      <th>9997</th>\n",
       "      <td>[think, attach, like, shaking, feeling, limp]</td>\n",
       "      <td>momozelly</td>\n",
       "      <td>2019-11-22 02:04:16+00:00</td>\n",
       "      <td>0</td>\n",
       "      <td>NaN</td>\n",
       "      <td>NaN</td>\n",
       "      <td>NaN</td>\n",
       "    </tr>\n",
       "    <tr>\n",
       "      <th>9998</th>\n",
       "      <td>[tryna, deal, depression, netflix, apple, music, bill, http, //twitter.com/memes_bizarre/status/1195701303047004160/video/1]</td>\n",
       "      <td>smittty_93</td>\n",
       "      <td>2019-11-22 01:58:51+00:00</td>\n",
       "      <td>0</td>\n",
       "      <td>NaN</td>\n",
       "      <td>NaN</td>\n",
       "      <td>NaN</td>\n",
       "    </tr>\n",
       "    <tr>\n",
       "      <th>9999</th>\n",
       "      <td>[interview, take, much, stress, common, work, lmao]</td>\n",
       "      <td>excusemeimjulia</td>\n",
       "      <td>2019-11-22 01:35:30+00:00</td>\n",
       "      <td>0</td>\n",
       "      <td>NaN</td>\n",
       "      <td>NaN</td>\n",
       "      <td>NaN</td>\n",
       "    </tr>\n",
       "  </tbody>\n",
       "</table>\n",
       "<p>10000 rows × 7 columns</p>\n",
       "</div>"
      ],
      "text/plain": [
       "                                                                                                                                                                       text  \\\n",
       "0            [okay, totally, understand, specific, struggle, queer, japanese, japanese, people, open, learning, personally, mean, exist, applies, racism, phobia, list, go]   \n",
       "1                                                       [thing, know, returning, hair, salon, excitement, normal, salon, barber, shop, long, island, enters, phase, phase2]   \n",
       "2                         [well, information, would, useful, month, avoided, wasted, every, single, time, person, came, even, slightly, close, entering, general, vicinity]   \n",
       "3                                                                                                                                                        [greatest, lately]   \n",
       "4     [mostly, afraid, really, misunderstanding, past, kept, recently, reached, point, desperation, something, surprisingly, attentive, validating, glad, worried, nothing]   \n",
       "...                                                                                                                                                                     ...   \n",
       "9995                                                                                                               [finished, season, know, give, make, never, want, speak]   \n",
       "9996                                                                               [serious, note, hate, people, joke, laugh, rush, like, really, actually, bother, please]   \n",
       "9997                                                                                                                          [think, attach, like, shaking, feeling, limp]   \n",
       "9998                                           [tryna, deal, depression, netflix, apple, music, bill, http, //twitter.com/memes_bizarre/status/1195701303047004160/video/1]   \n",
       "9999                                                                                                                    [interview, take, much, stress, common, work, lmao]   \n",
       "\n",
       "                 user                       date  retweet mention hashtags  \\\n",
       "0               wakuu  2020-06-08 23:58:16+00:00        1     NaN      NaN   \n",
       "1                cbiz  2020-06-08 23:58:01+00:00        0     NaN  #phase2   \n",
       "2         SKastenbaum  2020-06-08 23:50:47+00:00        0     NaN      NaN   \n",
       "3     xI_am_Carolinex  2020-06-08 23:49:55+00:00        0     NaN      NaN   \n",
       "4       darshanaheena  2020-06-08 23:48:03+00:00        0     NaN      NaN   \n",
       "...               ...                        ...      ...     ...      ...   \n",
       "9995         mmmeghan  2019-11-22 02:19:36+00:00        0     NaN      NaN   \n",
       "9996  justlikestephxx  2019-11-22 02:05:33+00:00        0     NaN      NaN   \n",
       "9997        momozelly  2019-11-22 02:04:16+00:00        0     NaN      NaN   \n",
       "9998       smittty_93  2019-11-22 01:58:51+00:00        0     NaN      NaN   \n",
       "9999  excusemeimjulia  2019-11-22 01:35:30+00:00        0     NaN      NaN   \n",
       "\n",
       "      location  \n",
       "0          NaN  \n",
       "1          NaN  \n",
       "2          NaN  \n",
       "3          NaN  \n",
       "4          NaN  \n",
       "...        ...  \n",
       "9995       NaN  \n",
       "9996       NaN  \n",
       "9997       NaN  \n",
       "9998       NaN  \n",
       "9999       NaN  \n",
       "\n",
       "[10000 rows x 7 columns]"
      ]
     },
     "execution_count": 15,
     "metadata": {},
     "output_type": "execute_result"
    }
   ],
   "source": [
    "df"
   ]
  },
  {
   "cell_type": "code",
   "execution_count": 31,
   "metadata": {},
   "outputs": [],
   "source": [
    "relief = []\n",
    "for items in df['text']:\n",
    "    for text in items:\n",
    "        if 'people' in text:\n",
    "            relief.append(text)"
   ]
  },
  {
   "cell_type": "code",
   "execution_count": 42,
   "metadata": {},
   "outputs": [
    {
     "data": {
      "text/plain": [
       "789"
      ]
     },
     "execution_count": 42,
     "metadata": {},
     "output_type": "execute_result"
    }
   ],
   "source": [
    "len(relief)"
   ]
  },
  {
   "cell_type": "code",
   "execution_count": 41,
   "metadata": {},
   "outputs": [
    {
     "data": {
      "text/plain": [
       "7.89"
      ]
     },
     "execution_count": 41,
     "metadata": {},
     "output_type": "execute_result"
    }
   ],
   "source": [
    "out = len(relief) / 10000 \n",
    "out * 100"
   ]
  },
  {
   "cell_type": "code",
   "execution_count": 22,
   "metadata": {},
   "outputs": [],
   "source": [
    "def remove_nums(text_object):\n",
    "    no_nums = list(filter(lambda x: x.isalpha(), text_object))\n",
    "    return no_nums"
   ]
  },
  {
   "cell_type": "code",
   "execution_count": 23,
   "metadata": {},
   "outputs": [],
   "source": [
    "df['text'] = df['text'].apply(remove_nums)"
   ]
  },
  {
   "cell_type": "code",
   "execution_count": 24,
   "metadata": {},
   "outputs": [
    {
     "name": "stdout",
     "output_type": "stream",
     "text": [
      "100640 words total, with a vocabulary size of 13634\n",
      "Max tweet length is 32\n"
     ]
    }
   ],
   "source": [
    "all_words = [word for tokens in df['text'] for word in tokens]\n",
    "tweet_lengths = [len(tokens) for tokens in df['text']]\n",
    "vocab = sorted(list(set(all_words)))\n",
    "\n",
    "print('{} words total, with a vocabulary size of {}'.format(len(all_words), len(vocab)))\n",
    "print('Max tweet length is {}'.format(max(tweet_lengths)))"
   ]
  },
  {
   "cell_type": "code",
   "execution_count": 27,
   "metadata": {},
   "outputs": [
    {
     "data": {
      "text/plain": [
       "(10000, 7)"
      ]
     },
     "execution_count": 27,
     "metadata": {},
     "output_type": "execute_result"
    }
   ],
   "source": [
    "df.shape"
   ]
  },
  {
   "cell_type": "code",
   "execution_count": 33,
   "metadata": {},
   "outputs": [
    {
     "data": {
      "text/plain": [
       "0.0789"
      ]
     },
     "execution_count": 33,
     "metadata": {},
     "output_type": "execute_result"
    }
   ],
   "source": [
    "789 / 10000"
   ]
  },
  {
   "cell_type": "code",
   "execution_count": 25,
   "metadata": {},
   "outputs": [],
   "source": [
    "text_dict = Dictionary(df.text)"
   ]
  },
  {
   "cell_type": "code",
   "execution_count": 43,
   "metadata": {},
   "outputs": [],
   "source": [
    "# text_dict.save_as_text('tweet_text_dict.txt')"
   ]
  },
  {
   "cell_type": "code",
   "execution_count": 44,
   "metadata": {},
   "outputs": [],
   "source": [
    "tweets_corpus = [text_dict.doc2bow(tweet) for tweet in df['text']]"
   ]
  },
  {
   "cell_type": "code",
   "execution_count": 45,
   "metadata": {},
   "outputs": [],
   "source": [
    "#tweets_corpus"
   ]
  },
  {
   "cell_type": "code",
   "execution_count": 46,
   "metadata": {},
   "outputs": [],
   "source": [
    "# # compute coherence\n",
    "# tweets_coherence = []\n",
    "# for nb_topics in range(1,36):\n",
    "#     lda = LdaModel(tweets_corpus, num_topics = nb_topics, id2word = text_dict, passes=10)\n",
    "#     cohm = CoherenceModel(model=lda, corpus=tweets_corpus, dictionary= text_dict, coherence='u_mass')\n",
    "#     coh = cohm.get_coherence()\n",
    "#     tweets_coherence.append(coh)\n",
    "\n",
    "# # # visualize coherence\n",
    "# # plt.figure(figsize=(10,5))\n",
    "# # plt.plot(range(1,36),tweets_coherence)\n",
    "# # plt.xlabel(\"Number of Topics\")\n",
    "# # plt.ylabel(\"Coherence Score\");"
   ]
  },
  {
   "cell_type": "code",
   "execution_count": 47,
   "metadata": {},
   "outputs": [],
   "source": [
    "k = 8\n",
    "tweets_lda = LdaModel(tweets_corpus, num_topics = k, id2word = text_dict, passes=10)"
   ]
  },
  {
   "cell_type": "code",
   "execution_count": null,
   "metadata": {},
   "outputs": [],
   "source": [
    "'feel', 'give', 'said', 'also'"
   ]
  },
  {
   "cell_type": "code",
   "execution_count": 48,
   "metadata": {},
   "outputs": [
    {
     "data": {
      "text/plain": [
       "[(0,\n",
       "  '0.016*\"social\" + 0.015*\"people\" + 0.013*\"like\" + 0.012*\"really\" + 0.011*\"time\" + 0.008*\"shit\" + 0.008*\"hate\" + 0.008*\"high\" + 0.008*\"know\" + 0.007*\"want\"'),\n",
       " (1,\n",
       "  '0.021*\"http\" + 0.010*\"sleep\" + 0.008*\"body\" + 0.008*\"real\" + 0.008*\"thing\" + 0.008*\"pain\" + 0.007*\"like\" + 0.007*\"stress\" + 0.007*\"relief\" + 0.007*\"york\"'),\n",
       " (2,\n",
       "  '0.020*\"much\" + 0.020*\"give\" + 0.017*\"like\" + 0.012*\"right\" + 0.010*\"time\" + 0.008*\"know\" + 0.008*\"people\" + 0.008*\"gave\" + 0.007*\"going\" + 0.007*\"love\"'),\n",
       " (3,\n",
       "  '0.010*\"help\" + 0.008*\"thru\" + 0.006*\"know\" + 0.006*\"perfect\" + 0.006*\"individual\" + 0.005*\"seriously\" + 0.005*\"depression\" + 0.005*\"wherever\" + 0.005*\"today\" + 0.005*\"huge\"'),\n",
       " (4,\n",
       "  '0.013*\"http\" + 0.011*\"health\" + 0.010*\"mental\" + 0.009*\"stress\" + 0.008*\"time\" + 0.007*\"depression\" + 0.007*\"take\" + 0.007*\"thing\" + 0.006*\"fear\" + 0.006*\"people\"'),\n",
       " (5,\n",
       "  '0.011*\"depression\" + 0.010*\"like\" + 0.009*\"call\" + 0.009*\"year\" + 0.007*\"need\" + 0.006*\"disorder\" + 0.005*\"last\" + 0.005*\"phone\" + 0.004*\"week\" + 0.004*\"good\"'),\n",
       " (6,\n",
       "  '0.019*\"http\" + 0.017*\"roof\" + 0.015*\"today\" + 0.010*\"separation\" + 0.007*\"stress\" + 0.006*\"away\" + 0.006*\"already\" + 0.005*\"game\" + 0.005*\"film\" + 0.005*\"social\"'),\n",
       " (7,\n",
       "  '0.018*\"time\" + 0.014*\"attack\" + 0.010*\"like\" + 0.008*\"people\" + 0.008*\"watching\" + 0.007*\"fucking\" + 0.006*\"last\" + 0.006*\"year\" + 0.006*\"night\" + 0.006*\"every\"')]"
      ]
     },
     "execution_count": 48,
     "metadata": {},
     "output_type": "execute_result"
    }
   ],
   "source": [
    "tweets_lda.show_topics()"
   ]
  },
  {
   "cell_type": "code",
   "execution_count": 65,
   "metadata": {},
   "outputs": [
    {
     "data": {
      "image/png": "[encoded data removed]",
      "text/plain": [
       "<Figure size 2160x1440 with 6 Axes>"
      ]
     },
     "metadata": {
      "needs_background": "light"
     },
     "output_type": "display_data"
    }
   ],
   "source": [
    "def plot_top_words(lda=tweets_lda, nb_topics=k, nb_words=10):\n",
    "    top_words = [[word for word,_ in lda.show_topic(topic_id, topn=50)] for topic_id in range(lda.num_topics)]\n",
    "    top_betas = [[beta for _,beta in lda.show_topic(topic_id, topn=50)] for topic_id in range(lda.num_topics)]\n",
    "\n",
    "    gs  = gridspec.GridSpec(round(math.sqrt(k))+1,round(math.sqrt(k))+1)\n",
    "    gs.update(wspace=.5, hspace=.5)\n",
    "    plt.figure(figsize=(30,20))\n",
    "    for i in range(nb_topics):\n",
    "        ax = plt.subplot(gs[i])\n",
    "        plt.barh(range(nb_words), top_betas[i][:nb_words], align='center',color='blue', ecolor='black')\n",
    "        ax.invert_yaxis()\n",
    "        ax.set_yticks(range(nb_words))\n",
    "        ax.set_yticklabels(top_words[i][:nb_words])\n",
    "        plt.title(\"Topic \"+str(i))\n",
    "        \n",
    "plot_top_words()"
   ]
  },
  {
   "cell_type": "code",
   "execution_count": 84,
   "metadata": {},
   "outputs": [
    {
     "data": {
      "text/plain": [
       "text        [painting, batman, procreate, pocket, color, paint, iphone, finger, mark, stroke, brush, manhattan, york]\n",
       "user                                                                                                        jmignault\n",
       "date                                                                                        2019-11-22 22:07:49+00:00\n",
       "retweet                                                                                                             0\n",
       "mention                                                                                                    @Procreate\n",
       "hashtags                   #painting #anxiety #batman #pocket #art #color #paint #iphone #finger #mark #stroke #brush\n",
       "location                                                                                                          NaN\n",
       "Name: 9973, dtype: object"
      ]
     },
     "execution_count": 84,
     "metadata": {},
     "output_type": "execute_result"
    }
   ],
   "source": [
    "df.iloc[9973]\n"
   ]
  }
 ],
 "metadata": {
  "kernelspec": {
   "display_name": "Python 3",
   "language": "python",
   "name": "python3"
  },
  "language_info": {
   "codemirror_mode": {
    "name": "ipython",
    "version": 3
   },
   "file_extension": ".py",
   "mimetype": "text/x-python",
   "name": "python",
   "nbconvert_exporter": "python",
   "pygments_lexer": "ipython3",
   "version": "3.7.4"
  }
 },
 "nbformat": 4,
 "nbformat_minor": 4
}

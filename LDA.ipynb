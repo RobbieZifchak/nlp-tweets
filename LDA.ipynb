{
 "cells": [
  {
   "cell_type": "code",
   "execution_count": 1,
   "metadata": {},
   "outputs": [],
   "source": [
    "import pandas as pd\n",
    "import numpy as np\n",
    "\n",
    "import string\n",
    "import math\n",
    "\n",
    "import matplotlib.pyplot as plt\n",
    "import matplotlib.gridspec as gridspec\n",
    "\n",
    "from nltk.tokenize import word_tokenize\n",
    "from nltk.corpus import stopwords\n",
    "from nltk.stem import WordNetLemmatizer\n",
    "from nltk.probability import FreqDist\n",
    "\n",
    "from gensim.corpora import Dictionary\n",
    "from gensim.models.ldamodel import LdaModel\n",
    "from gensim.models import CoherenceModel\n",
    "\n",
    "import re"
   ]
  },
  {
   "cell_type": "code",
   "execution_count": 2,
   "metadata": {},
   "outputs": [],
   "source": [
    "pd.options.display.max_colwidth = 200"
   ]
  },
  {
   "cell_type": "code",
   "execution_count": 3,
   "metadata": {},
   "outputs": [],
   "source": [
    "df = pd.read_csv('csv_files/anxiety_tweets.csv')"
   ]
  },
  {
   "cell_type": "code",
   "execution_count": 4,
   "metadata": {},
   "outputs": [
    {
     "data": {
      "text/html": [
       "<div>\n",
       "<style scoped>\n",
       "    .dataframe tbody tr th:only-of-type {\n",
       "        vertical-align: middle;\n",
       "    }\n",
       "\n",
       "    .dataframe tbody tr th {\n",
       "        vertical-align: top;\n",
       "    }\n",
       "\n",
       "    .dataframe thead th {\n",
       "        text-align: right;\n",
       "    }\n",
       "</style>\n",
       "<table border=\"1\" class=\"dataframe\">\n",
       "  <thead>\n",
       "    <tr style=\"text-align: right;\">\n",
       "      <th></th>\n",
       "      <th>text</th>\n",
       "      <th>user</th>\n",
       "      <th>date</th>\n",
       "      <th>retweet</th>\n",
       "      <th>mention</th>\n",
       "      <th>hashtags</th>\n",
       "      <th>location</th>\n",
       "    </tr>\n",
       "  </thead>\n",
       "  <tbody>\n",
       "    <tr>\n",
       "      <th>9995</th>\n",
       "      <td>Finished 2 seasons. I don't know. It gives me anxiety and makes me never want to speak to a man again.</td>\n",
       "      <td>mmmeghan</td>\n",
       "      <td>2019-11-22 02:19:36+00:00</td>\n",
       "      <td>0</td>\n",
       "      <td>NaN</td>\n",
       "      <td>NaN</td>\n",
       "      <td>NaN</td>\n",
       "    </tr>\n",
       "    <tr>\n",
       "      <th>9996</th>\n",
       "      <td>On a serious note I hate when people joke about and laugh about my rush anxiety. Like it really actually bothers me so please just don’t.</td>\n",
       "      <td>justlikestephxx</td>\n",
       "      <td>2019-11-22 02:05:33+00:00</td>\n",
       "      <td>0</td>\n",
       "      <td>NaN</td>\n",
       "      <td>NaN</td>\n",
       "      <td>NaN</td>\n",
       "    </tr>\n",
       "    <tr>\n",
       "      <th>9997</th>\n",
       "      <td>I think I’m having an anxiety attach? Is it like a shaking feelings were can feel all of your limps.</td>\n",
       "      <td>momozelly</td>\n",
       "      <td>2019-11-22 02:04:16+00:00</td>\n",
       "      <td>0</td>\n",
       "      <td>NaN</td>\n",
       "      <td>NaN</td>\n",
       "      <td>NaN</td>\n",
       "    </tr>\n",
       "    <tr>\n",
       "      <th>9998</th>\n",
       "      <td>Me tryna deal with anxiety depression Netflix and Apple Music bills https://twitter.com/memes_bizarre/status/1195701303047004160/video/1</td>\n",
       "      <td>smittty_93</td>\n",
       "      <td>2019-11-22 01:58:51+00:00</td>\n",
       "      <td>0</td>\n",
       "      <td>NaN</td>\n",
       "      <td>NaN</td>\n",
       "      <td>NaN</td>\n",
       "    </tr>\n",
       "    <tr>\n",
       "      <th>9999</th>\n",
       "      <td>Interviews take way more out of you, I feel much more stress and anxiety that a common work day lmao</td>\n",
       "      <td>excusemeimjulia</td>\n",
       "      <td>2019-11-22 01:35:30+00:00</td>\n",
       "      <td>0</td>\n",
       "      <td>NaN</td>\n",
       "      <td>NaN</td>\n",
       "      <td>NaN</td>\n",
       "    </tr>\n",
       "  </tbody>\n",
       "</table>\n",
       "</div>"
      ],
      "text/plain": [
       "                                                                                                                                           text  \\\n",
       "9995                                     Finished 2 seasons. I don't know. It gives me anxiety and makes me never want to speak to a man again.   \n",
       "9996  On a serious note I hate when people joke about and laugh about my rush anxiety. Like it really actually bothers me so please just don’t.   \n",
       "9997                                       I think I’m having an anxiety attach? Is it like a shaking feelings were can feel all of your limps.   \n",
       "9998   Me tryna deal with anxiety depression Netflix and Apple Music bills https://twitter.com/memes_bizarre/status/1195701303047004160/video/1   \n",
       "9999                                       Interviews take way more out of you, I feel much more stress and anxiety that a common work day lmao   \n",
       "\n",
       "                 user                       date  retweet mention hashtags  \\\n",
       "9995         mmmeghan  2019-11-22 02:19:36+00:00        0     NaN      NaN   \n",
       "9996  justlikestephxx  2019-11-22 02:05:33+00:00        0     NaN      NaN   \n",
       "9997        momozelly  2019-11-22 02:04:16+00:00        0     NaN      NaN   \n",
       "9998       smittty_93  2019-11-22 01:58:51+00:00        0     NaN      NaN   \n",
       "9999  excusemeimjulia  2019-11-22 01:35:30+00:00        0     NaN      NaN   \n",
       "\n",
       "      location  \n",
       "9995       NaN  \n",
       "9996       NaN  \n",
       "9997       NaN  \n",
       "9998       NaN  \n",
       "9999       NaN  "
      ]
     },
     "execution_count": 4,
     "metadata": {},
     "output_type": "execute_result"
    }
   ],
   "source": [
    "df.tail(5)"
   ]
  },
  {
   "cell_type": "code",
   "execution_count": 5,
   "metadata": {},
   "outputs": [],
   "source": [
    "stop_words = stopwords.words('english')\n",
    "\n",
    "#add punctuation char's to stopwords list\n",
    "stop_words += list(string.punctuation)\n",
    "stop_words += ['anxiety','feel', 'give', 'giving', 'help', 'said', 'also', 'rt', 'gave', 'like', 'going', 'even']"
   ]
  },
  {
   "cell_type": "code",
   "execution_count": 6,
   "metadata": {},
   "outputs": [
    {
     "name": "stdout",
     "output_type": "stream",
     "text": [
      "!\"#$%&'()*+,-./:;<=>?@[\\]^_`{|}~\n"
     ]
    }
   ],
   "source": [
    "print(string.punctuation)"
   ]
  },
  {
   "cell_type": "code",
   "execution_count": 8,
   "metadata": {
    "collapsed": true,
    "jupyter": {
     "outputs_hidden": true
    }
   },
   "outputs": [
    {
     "data": {
      "text/plain": [
       "['i',\n",
       " 'me',\n",
       " 'my',\n",
       " 'myself',\n",
       " 'we',\n",
       " 'our',\n",
       " 'ours',\n",
       " 'ourselves',\n",
       " 'you',\n",
       " \"you're\",\n",
       " \"you've\",\n",
       " \"you'll\",\n",
       " \"you'd\",\n",
       " 'your',\n",
       " 'yours',\n",
       " 'yourself',\n",
       " 'yourselves',\n",
       " 'he',\n",
       " 'him',\n",
       " 'his',\n",
       " 'himself',\n",
       " 'she',\n",
       " \"she's\",\n",
       " 'her',\n",
       " 'hers',\n",
       " 'herself',\n",
       " 'it',\n",
       " \"it's\",\n",
       " 'its',\n",
       " 'itself',\n",
       " 'they',\n",
       " 'them',\n",
       " 'their',\n",
       " 'theirs',\n",
       " 'themselves',\n",
       " 'what',\n",
       " 'which',\n",
       " 'who',\n",
       " 'whom',\n",
       " 'this',\n",
       " 'that',\n",
       " \"that'll\",\n",
       " 'these',\n",
       " 'those',\n",
       " 'am',\n",
       " 'is',\n",
       " 'are',\n",
       " 'was',\n",
       " 'were',\n",
       " 'be',\n",
       " 'been',\n",
       " 'being',\n",
       " 'have',\n",
       " 'has',\n",
       " 'had',\n",
       " 'having',\n",
       " 'do',\n",
       " 'does',\n",
       " 'did',\n",
       " 'doing',\n",
       " 'a',\n",
       " 'an',\n",
       " 'the',\n",
       " 'and',\n",
       " 'but',\n",
       " 'if',\n",
       " 'or',\n",
       " 'because',\n",
       " 'as',\n",
       " 'until',\n",
       " 'while',\n",
       " 'of',\n",
       " 'at',\n",
       " 'by',\n",
       " 'for',\n",
       " 'with',\n",
       " 'about',\n",
       " 'against',\n",
       " 'between',\n",
       " 'into',\n",
       " 'through',\n",
       " 'during',\n",
       " 'before',\n",
       " 'after',\n",
       " 'above',\n",
       " 'below',\n",
       " 'to',\n",
       " 'from',\n",
       " 'up',\n",
       " 'down',\n",
       " 'in',\n",
       " 'out',\n",
       " 'on',\n",
       " 'off',\n",
       " 'over',\n",
       " 'under',\n",
       " 'again',\n",
       " 'further',\n",
       " 'then',\n",
       " 'once',\n",
       " 'here',\n",
       " 'there',\n",
       " 'when',\n",
       " 'where',\n",
       " 'why',\n",
       " 'how',\n",
       " 'all',\n",
       " 'any',\n",
       " 'both',\n",
       " 'each',\n",
       " 'few',\n",
       " 'more',\n",
       " 'most',\n",
       " 'other',\n",
       " 'some',\n",
       " 'such',\n",
       " 'no',\n",
       " 'nor',\n",
       " 'not',\n",
       " 'only',\n",
       " 'own',\n",
       " 'same',\n",
       " 'so',\n",
       " 'than',\n",
       " 'too',\n",
       " 'very',\n",
       " 's',\n",
       " 't',\n",
       " 'can',\n",
       " 'will',\n",
       " 'just',\n",
       " 'don',\n",
       " \"don't\",\n",
       " 'should',\n",
       " \"should've\",\n",
       " 'now',\n",
       " 'd',\n",
       " 'll',\n",
       " 'm',\n",
       " 'o',\n",
       " 're',\n",
       " 've',\n",
       " 'y',\n",
       " 'ain',\n",
       " 'aren',\n",
       " \"aren't\",\n",
       " 'couldn',\n",
       " \"couldn't\",\n",
       " 'didn',\n",
       " \"didn't\",\n",
       " 'doesn',\n",
       " \"doesn't\",\n",
       " 'hadn',\n",
       " \"hadn't\",\n",
       " 'hasn',\n",
       " \"hasn't\",\n",
       " 'haven',\n",
       " \"haven't\",\n",
       " 'isn',\n",
       " \"isn't\",\n",
       " 'ma',\n",
       " 'mightn',\n",
       " \"mightn't\",\n",
       " 'mustn',\n",
       " \"mustn't\",\n",
       " 'needn',\n",
       " \"needn't\",\n",
       " 'shan',\n",
       " \"shan't\",\n",
       " 'shouldn',\n",
       " \"shouldn't\",\n",
       " 'wasn',\n",
       " \"wasn't\",\n",
       " 'weren',\n",
       " \"weren't\",\n",
       " 'won',\n",
       " \"won't\",\n",
       " 'wouldn',\n",
       " \"wouldn't\",\n",
       " '!',\n",
       " '\"',\n",
       " '#',\n",
       " '$',\n",
       " '%',\n",
       " '&',\n",
       " \"'\",\n",
       " '(',\n",
       " ')',\n",
       " '*',\n",
       " '+',\n",
       " ',',\n",
       " '-',\n",
       " '.',\n",
       " '/',\n",
       " ':',\n",
       " ';',\n",
       " '<',\n",
       " '=',\n",
       " '>',\n",
       " '?',\n",
       " '@',\n",
       " '[',\n",
       " '\\\\',\n",
       " ']',\n",
       " '^',\n",
       " '_',\n",
       " '`',\n",
       " '{',\n",
       " '|',\n",
       " '}',\n",
       " '~',\n",
       " '0',\n",
       " '1',\n",
       " '2',\n",
       " '3',\n",
       " '4',\n",
       " '5',\n",
       " '6',\n",
       " '7',\n",
       " '8',\n",
       " '9',\n",
       " 'anxiety',\n",
       " 'feel',\n",
       " 'give',\n",
       " 'giving',\n",
       " 'help',\n",
       " 'said',\n",
       " 'also',\n",
       " 'rt']"
      ]
     },
     "execution_count": 8,
     "metadata": {},
     "output_type": "execute_result"
    }
   ],
   "source": [
    "stop_words"
   ]
  },
  {
   "cell_type": "code",
   "execution_count": 7,
   "metadata": {},
   "outputs": [],
   "source": [
    "def remove_urls(text):\n",
    "    return re.sub(r'http\\S+','', text)\n",
    "   "
   ]
  },
  {
   "cell_type": "code",
   "execution_count": 8,
   "metadata": {},
   "outputs": [],
   "source": [
    "df['text'] = df['text'].apply(remove_urls)"
   ]
  },
  {
   "cell_type": "markdown",
   "metadata": {},
   "source": [
    "Observing removal of url in df"
   ]
  },
  {
   "cell_type": "code",
   "execution_count": 10,
   "metadata": {},
   "outputs": [
    {
     "data": {
      "text/html": [
       "<div>\n",
       "<style scoped>\n",
       "    .dataframe tbody tr th:only-of-type {\n",
       "        vertical-align: middle;\n",
       "    }\n",
       "\n",
       "    .dataframe tbody tr th {\n",
       "        vertical-align: top;\n",
       "    }\n",
       "\n",
       "    .dataframe thead th {\n",
       "        text-align: right;\n",
       "    }\n",
       "</style>\n",
       "<table border=\"1\" class=\"dataframe\">\n",
       "  <thead>\n",
       "    <tr style=\"text-align: right;\">\n",
       "      <th></th>\n",
       "      <th>text</th>\n",
       "      <th>user</th>\n",
       "      <th>date</th>\n",
       "      <th>retweet</th>\n",
       "      <th>mention</th>\n",
       "      <th>hashtags</th>\n",
       "      <th>location</th>\n",
       "    </tr>\n",
       "  </thead>\n",
       "  <tbody>\n",
       "    <tr>\n",
       "      <th>9998</th>\n",
       "      <td>Me tryna deal with anxiety depression Netflix and Apple Music bills</td>\n",
       "      <td>smittty_93</td>\n",
       "      <td>2019-11-22 01:58:51+00:00</td>\n",
       "      <td>0</td>\n",
       "      <td>NaN</td>\n",
       "      <td>NaN</td>\n",
       "      <td>NaN</td>\n",
       "    </tr>\n",
       "    <tr>\n",
       "      <th>9999</th>\n",
       "      <td>Interviews take way more out of you, I feel much more stress and anxiety that a common work day lmao</td>\n",
       "      <td>excusemeimjulia</td>\n",
       "      <td>2019-11-22 01:35:30+00:00</td>\n",
       "      <td>0</td>\n",
       "      <td>NaN</td>\n",
       "      <td>NaN</td>\n",
       "      <td>NaN</td>\n",
       "    </tr>\n",
       "  </tbody>\n",
       "</table>\n",
       "</div>"
      ],
      "text/plain": [
       "                                                                                                      text  \\\n",
       "9998                                  Me tryna deal with anxiety depression Netflix and Apple Music bills    \n",
       "9999  Interviews take way more out of you, I feel much more stress and anxiety that a common work day lmao   \n",
       "\n",
       "                 user                       date  retweet mention hashtags  \\\n",
       "9998       smittty_93  2019-11-22 01:58:51+00:00        0     NaN      NaN   \n",
       "9999  excusemeimjulia  2019-11-22 01:35:30+00:00        0     NaN      NaN   \n",
       "\n",
       "      location  \n",
       "9998       NaN  \n",
       "9999       NaN  "
      ]
     },
     "execution_count": 10,
     "metadata": {},
     "output_type": "execute_result"
    }
   ],
   "source": [
    "df.tail(2)"
   ]
  },
  {
   "cell_type": "code",
   "execution_count": 11,
   "metadata": {},
   "outputs": [],
   "source": [
    "def tokenize_lowercase(text):\n",
    "    tokens = word_tokenize(text)\n",
    "    stopwords_removed = [token.lower() for token in tokens if token.lower() not in stop_words and len(token)>3]\n",
    "    return stopwords_removed"
   ]
  },
  {
   "cell_type": "code",
   "execution_count": 12,
   "metadata": {},
   "outputs": [],
   "source": [
    "df['text'] = df['text'].apply(tokenize_lowercase)"
   ]
  },
  {
   "cell_type": "code",
   "execution_count": 13,
   "metadata": {},
   "outputs": [
    {
     "data": {
      "text/plain": [
       "['okay',\n",
       " 'totally',\n",
       " 'understand',\n",
       " 'specific',\n",
       " 'struggles',\n",
       " 'queer',\n",
       " 'japanese',\n",
       " 'japanese',\n",
       " 'people',\n",
       " 'open',\n",
       " 'learning',\n",
       " 'personally',\n",
       " 'mean',\n",
       " 'exist',\n",
       " 'applies',\n",
       " 'racism',\n",
       " 'phobias',\n",
       " 'list',\n",
       " 'goes']"
      ]
     },
     "execution_count": 13,
     "metadata": {},
     "output_type": "execute_result"
    }
   ],
   "source": [
    "df['text'][0]"
   ]
  },
  {
   "cell_type": "code",
   "execution_count": 14,
   "metadata": {},
   "outputs": [
    {
     "data": {
      "text/plain": [
       "'going'"
      ]
     },
     "execution_count": 14,
     "metadata": {},
     "output_type": "execute_result"
    }
   ],
   "source": [
    "lemm = WordNetLemmatizer()\n",
    "lemm.lemmatize('going')"
   ]
  },
  {
   "cell_type": "code",
   "execution_count": 15,
   "metadata": {},
   "outputs": [],
   "source": [
    "lemmatizer = WordNetLemmatizer()\n",
    "\n",
    "def lemmatize_text(df_text):\n",
    "    lemmatized =[]\n",
    "    for w in df_text:\n",
    "        lemmatized.append(lemmatizer.lemmatize(w))\n",
    "    return lemmatized"
   ]
  },
  {
   "cell_type": "code",
   "execution_count": 16,
   "metadata": {},
   "outputs": [],
   "source": [
    "df['text'] = df['text'].apply(lemmatize_text)"
   ]
  },
  {
   "cell_type": "code",
   "execution_count": 17,
   "metadata": {},
   "outputs": [],
   "source": [
    "def remove_nums(text_object):\n",
    "    no_nums = list(filter(lambda x: x.isalpha(), text_object))\n",
    "    return no_nums"
   ]
  },
  {
   "cell_type": "code",
   "execution_count": 18,
   "metadata": {},
   "outputs": [],
   "source": [
    "df['text'] = df['text'].apply(remove_nums)"
   ]
  },
  {
   "cell_type": "code",
   "execution_count": 19,
   "metadata": {},
   "outputs": [
    {
     "name": "stdout",
     "output_type": "stream",
     "text": [
      "words total, with a vocabulary size of 97690\n",
      "Max tweet length is 32\n"
     ]
    }
   ],
   "source": [
    "all_words = [word for tokens in df['text'] for word in tokens]\n",
    "tweet_lengths = [len(tokens) for tokens in df['text']]\n",
    "vocab = sorted(list(set(all_words)))\n",
    "\n",
    "print('words total, with a vocabulary size of {}'.format(len(all_words), len(vocab)))\n",
    "print('Max tweet length is {}'.format(max(tweet_lengths)))"
   ]
  },
  {
   "cell_type": "code",
   "execution_count": 129,
   "metadata": {},
   "outputs": [
    {
     "data": {
      "text/plain": [
       "(10000, 7)"
      ]
     },
     "execution_count": 129,
     "metadata": {},
     "output_type": "execute_result"
    }
   ],
   "source": [
    "df.shape"
   ]
  },
  {
   "cell_type": "markdown",
   "metadata": {},
   "source": [
    "#### Observing df after stop words have been removed, text has been tokenized, lemmatized, url's removed, and any remaining non alpha characters have been stripped "
   ]
  },
  {
   "cell_type": "code",
   "execution_count": 20,
   "metadata": {},
   "outputs": [
    {
     "data": {
      "text/html": [
       "<div>\n",
       "<style scoped>\n",
       "    .dataframe tbody tr th:only-of-type {\n",
       "        vertical-align: middle;\n",
       "    }\n",
       "\n",
       "    .dataframe tbody tr th {\n",
       "        vertical-align: top;\n",
       "    }\n",
       "\n",
       "    .dataframe thead th {\n",
       "        text-align: right;\n",
       "    }\n",
       "</style>\n",
       "<table border=\"1\" class=\"dataframe\">\n",
       "  <thead>\n",
       "    <tr style=\"text-align: right;\">\n",
       "      <th></th>\n",
       "      <th>text</th>\n",
       "      <th>user</th>\n",
       "      <th>date</th>\n",
       "      <th>retweet</th>\n",
       "      <th>mention</th>\n",
       "      <th>hashtags</th>\n",
       "      <th>location</th>\n",
       "    </tr>\n",
       "  </thead>\n",
       "  <tbody>\n",
       "    <tr>\n",
       "      <th>9998</th>\n",
       "      <td>[tryna, deal, depression, netflix, apple, music, bill]</td>\n",
       "      <td>smittty_93</td>\n",
       "      <td>2019-11-22 01:58:51+00:00</td>\n",
       "      <td>0</td>\n",
       "      <td>NaN</td>\n",
       "      <td>NaN</td>\n",
       "      <td>NaN</td>\n",
       "    </tr>\n",
       "    <tr>\n",
       "      <th>9999</th>\n",
       "      <td>[interview, take, much, stress, common, work, lmao]</td>\n",
       "      <td>excusemeimjulia</td>\n",
       "      <td>2019-11-22 01:35:30+00:00</td>\n",
       "      <td>0</td>\n",
       "      <td>NaN</td>\n",
       "      <td>NaN</td>\n",
       "      <td>NaN</td>\n",
       "    </tr>\n",
       "  </tbody>\n",
       "</table>\n",
       "</div>"
      ],
      "text/plain": [
       "                                                        text             user  \\\n",
       "9998  [tryna, deal, depression, netflix, apple, music, bill]       smittty_93   \n",
       "9999     [interview, take, much, stress, common, work, lmao]  excusemeimjulia   \n",
       "\n",
       "                           date  retweet mention hashtags  location  \n",
       "9998  2019-11-22 01:58:51+00:00        0     NaN      NaN       NaN  \n",
       "9999  2019-11-22 01:35:30+00:00        0     NaN      NaN       NaN  "
      ]
     },
     "execution_count": 20,
     "metadata": {},
     "output_type": "execute_result"
    }
   ],
   "source": [
    "df.tail(2)"
   ]
  },
  {
   "cell_type": "markdown",
   "metadata": {},
   "source": [
    "### Exploring the Processed Text"
   ]
  },
  {
   "cell_type": "code",
   "execution_count": null,
   "metadata": {},
   "outputs": [],
   "source": [
    "plt.figure(figsize = (15,8))\n",
    "sns.countplot(tweet_lengths)\n",
    "plt.title('Tweet Length Distribution', fontsize = 18)\n",
    "plt.xlabel('Words per Tweet', fontsize = 12)\n",
    "plt.ylabel('Number of Tweets', fontsize =12)\n",
    "plt.show()"
   ]
  },
  {
   "cell_type": "code",
   "execution_count": null,
   "metadata": {},
   "outputs": [],
   "source": [
    "flat_words = [item for sublist in df['text'] for item in sublist]"
   ]
  },
  {
   "cell_type": "code",
   "execution_count": null,
   "metadata": {},
   "outputs": [],
   "source": [
    "word_freq = FreqDist(flat_words)"
   ]
  },
  {
   "cell_type": "code",
   "execution_count": null,
   "metadata": {},
   "outputs": [],
   "source": [
    "word_freq.most_common(40)"
   ]
  },
  {
   "cell_type": "code",
   "execution_count": null,
   "metadata": {},
   "outputs": [],
   "source": [
    "#create wordcloud here"
   ]
  },
  {
   "cell_type": "markdown",
   "metadata": {},
   "source": [
    "### Modeling"
   ]
  },
  {
   "cell_type": "code",
   "execution_count": 21,
   "metadata": {},
   "outputs": [],
   "source": [
    "text_dict = Dictionary(df.text)"
   ]
  },
  {
   "cell_type": "code",
   "execution_count": 22,
   "metadata": {},
   "outputs": [],
   "source": [
    "text_dict.filter_extremes(no_below = 5, no_above = .90)"
   ]
  },
  {
   "cell_type": "code",
   "execution_count": 28,
   "metadata": {},
   "outputs": [],
   "source": [
    "txt_out = text_dict.token2id\n",
    "\n",
    "# for k, v in txt_out.items():\n",
    "#     print(k,v)"
   ]
  },
  {
   "cell_type": "code",
   "execution_count": 26,
   "metadata": {},
   "outputs": [],
   "source": [
    "# text_dict.save_as_text('tweet_text_dict.txt')"
   ]
  },
  {
   "cell_type": "code",
   "execution_count": 29,
   "metadata": {},
   "outputs": [],
   "source": [
    "tweets_bow = [text_dict.doc2bow(tweet) for tweet in df['text']]"
   ]
  },
  {
   "cell_type": "code",
   "execution_count": 36,
   "metadata": {},
   "outputs": [
    {
     "data": {
      "text/plain": [
       "['interview', 'take', 'much', 'stress', 'common', 'work', 'lmao']"
      ]
     },
     "execution_count": 36,
     "metadata": {},
     "output_type": "execute_result"
    }
   ],
   "source": [
    "df['text'][9999]"
   ]
  },
  {
   "cell_type": "code",
   "execution_count": 37,
   "metadata": {},
   "outputs": [
    {
     "data": {
      "text/plain": [
       "[(0, 1),\n",
       " (1, 1),\n",
       " (2, 1),\n",
       " (3, 1),\n",
       " (4, 1),\n",
       " (5, 1),\n",
       " (6, 1),\n",
       " (7, 1),\n",
       " (8, 1),\n",
       " (9, 1),\n",
       " (10, 1),\n",
       " (11, 1),\n",
       " (12, 1),\n",
       " (13, 1),\n",
       " (14, 1)]"
      ]
     },
     "execution_count": 37,
     "metadata": {},
     "output_type": "execute_result"
    }
   ],
   "source": [
    "tweets_bow[0]"
   ]
  },
  {
   "cell_type": "code",
   "execution_count": 38,
   "metadata": {},
   "outputs": [],
   "source": [
    "k = 5\n",
    "tweets_lda = LdaModel(tweets_bow,\n",
    "                      num_topics = k,\n",
    "                      id2word = text_dict,\n",
    "                      random_state = 1,\n",
    "                      passes=10)"
   ]
  },
  {
   "cell_type": "code",
   "execution_count": 39,
   "metadata": {},
   "outputs": [
    {
     "data": {
      "text/plain": [
       "[(0,\n",
       "  '0.023*\"depression\" + 0.014*\"stress\" + 0.011*\"time\" + 0.011*\"mental\" + 0.010*\"health\" + 0.009*\"really\" + 0.008*\"need\" + 0.008*\"take\" + 0.008*\"help\" + 0.007*\"right\"'),\n",
       " (1,\n",
       "  '0.027*\"people\" + 0.013*\"social\" + 0.012*\"real\" + 0.012*\"depression\" + 0.012*\"fuck\" + 0.012*\"fear\" + 0.011*\"many\" + 0.008*\"pandemic\" + 0.007*\"life\" + 0.007*\"never\"'),\n",
       " (2,\n",
       "  '0.019*\"give\" + 0.015*\"time\" + 0.014*\"roof\" + 0.013*\"today\" + 0.010*\"watching\" + 0.010*\"much\" + 0.008*\"shit\" + 0.007*\"love\" + 0.007*\"video\" + 0.007*\"family\"'),\n",
       " (3,\n",
       "  '0.018*\"attack\" + 0.018*\"much\" + 0.014*\"time\" + 0.012*\"people\" + 0.012*\"sleep\" + 0.010*\"social\" + 0.008*\"night\" + 0.008*\"need\" + 0.008*\"make\" + 0.007*\"really\"'),\n",
       " (4,\n",
       "  '0.017*\"back\" + 0.013*\"work\" + 0.012*\"attack\" + 0.011*\"know\" + 0.011*\"think\" + 0.011*\"year\" + 0.010*\"today\" + 0.009*\"really\" + 0.009*\"day\" + 0.009*\"would\"')]"
      ]
     },
     "execution_count": 39,
     "metadata": {},
     "output_type": "execute_result"
    }
   ],
   "source": [
    "tweets_lda.show_topics()"
   ]
  },
  {
   "cell_type": "markdown",
   "metadata": {},
   "source": [
    "**From Eyeballing** \n",
    "\n",
    "* There does not seem to be a clear distinction between topics. Filler words such as \"like, give, gave, etc.\" should be added to stop words list before another iteration.\n",
    "\n",
    "* Topic 2 seems to be related to covid-19 and it's impact on peoples mental health\n"
   ]
  },
  {
   "cell_type": "code",
   "execution_count": 40,
   "metadata": {
    "collapsed": true,
    "jupyter": {
     "outputs_hidden": true
    }
   },
   "outputs": [
    {
     "data": {
      "text/html": [
       "<div>\n",
       "<style scoped>\n",
       "    .dataframe tbody tr th:only-of-type {\n",
       "        vertical-align: middle;\n",
       "    }\n",
       "\n",
       "    .dataframe tbody tr th {\n",
       "        vertical-align: top;\n",
       "    }\n",
       "\n",
       "    .dataframe thead th {\n",
       "        text-align: right;\n",
       "    }\n",
       "</style>\n",
       "<table border=\"1\" class=\"dataframe\">\n",
       "  <thead>\n",
       "    <tr style=\"text-align: right;\">\n",
       "      <th></th>\n",
       "      <th>Document_No</th>\n",
       "      <th>Dominant_Topic</th>\n",
       "      <th>Topic_Perc_Contrib</th>\n",
       "      <th>Keywords</th>\n",
       "      <th>Text</th>\n",
       "    </tr>\n",
       "  </thead>\n",
       "  <tbody>\n",
       "    <tr>\n",
       "      <th>0</th>\n",
       "      <td>0</td>\n",
       "      <td>3.0</td>\n",
       "      <td>0.6731</td>\n",
       "      <td>people, worst, social, phone, like, life, think, call, time, many</td>\n",
       "      <td>[okay, totally, understand, specific, struggle, queer, japanese, japanese, people, open, learning, personally, mean, exist, applies, racism, phobia, list, go]</td>\n",
       "    </tr>\n",
       "    <tr>\n",
       "      <th>1</th>\n",
       "      <td>1</td>\n",
       "      <td>0.0</td>\n",
       "      <td>0.7752</td>\n",
       "      <td>people, real, coronavirus, make, level, pandemic, time, face, reason, social</td>\n",
       "      <td>[thing, know, returning, hair, salon, excitement, normal, salon, barber, shop, long, island, enters, phase]</td>\n",
       "    </tr>\n",
       "    <tr>\n",
       "      <th>2</th>\n",
       "      <td>2</td>\n",
       "      <td>0.0</td>\n",
       "      <td>0.7335</td>\n",
       "      <td>people, real, coronavirus, make, level, pandemic, time, face, reason, social</td>\n",
       "      <td>[well, information, would, useful, month, avoided, wasted, every, single, time, person, came, even, slightly, close, entering, general, vicinity]</td>\n",
       "    </tr>\n",
       "    <tr>\n",
       "      <th>3</th>\n",
       "      <td>3</td>\n",
       "      <td>3.0</td>\n",
       "      <td>0.7082</td>\n",
       "      <td>people, worst, social, phone, like, life, think, call, time, many</td>\n",
       "      <td>[greatest, lately]</td>\n",
       "    </tr>\n",
       "    <tr>\n",
       "      <th>4</th>\n",
       "      <td>4</td>\n",
       "      <td>3.0</td>\n",
       "      <td>0.7542</td>\n",
       "      <td>people, worst, social, phone, like, life, think, call, time, many</td>\n",
       "      <td>[mostly, afraid, really, misunderstanding, past, kept, recently, reached, point, desperation, something, surprisingly, attentive, validating, glad, worried, nothing]</td>\n",
       "    </tr>\n",
       "    <tr>\n",
       "      <th>5</th>\n",
       "      <td>5</td>\n",
       "      <td>5.0</td>\n",
       "      <td>0.6509</td>\n",
       "      <td>like, time, really, thing, know, going, people, take, roof, today</td>\n",
       "      <td>[damn, stressed, time, need, find, outlet, else, crazy, roof]</td>\n",
       "    </tr>\n",
       "    <tr>\n",
       "      <th>6</th>\n",
       "      <td>6</td>\n",
       "      <td>7.0</td>\n",
       "      <td>0.4661</td>\n",
       "      <td>stress, sleep, help, depression, pain, next, time, family, relief, tonight</td>\n",
       "      <td>[eating, cause, mind, lmaoo, need, gain, weight]</td>\n",
       "    </tr>\n",
       "    <tr>\n",
       "      <th>7</th>\n",
       "      <td>7</td>\n",
       "      <td>2.0</td>\n",
       "      <td>0.5455</td>\n",
       "      <td>give, morning, much, since, listening, work, handle, test, train, time</td>\n",
       "      <td>[would, called, police, forcibly, restrained, attack, allison, think, justiceforjonathansalcido]</td>\n",
       "    </tr>\n",
       "    <tr>\n",
       "      <th>8</th>\n",
       "      <td>8</td>\n",
       "      <td>3.0</td>\n",
       "      <td>0.5586</td>\n",
       "      <td>people, worst, social, phone, like, life, think, call, time, many</td>\n",
       "      <td>[summe]</td>\n",
       "    </tr>\n",
       "    <tr>\n",
       "      <th>9</th>\n",
       "      <td>9</td>\n",
       "      <td>1.0</td>\n",
       "      <td>0.4313</td>\n",
       "      <td>like, much, fucking, right, attack, give, fuck, people, getting, bitch</td>\n",
       "      <td>[suck, prevalent, time, breathe, allow, ground, best, even, good, something, make, happy, write, anxious, driven, thought]</td>\n",
       "    </tr>\n",
       "  </tbody>\n",
       "</table>\n",
       "</div>"
      ],
      "text/plain": [
       "   Document_No  Dominant_Topic  Topic_Perc_Contrib  \\\n",
       "0            0             3.0              0.6731   \n",
       "1            1             0.0              0.7752   \n",
       "2            2             0.0              0.7335   \n",
       "3            3             3.0              0.7082   \n",
       "4            4             3.0              0.7542   \n",
       "5            5             5.0              0.6509   \n",
       "6            6             7.0              0.4661   \n",
       "7            7             2.0              0.5455   \n",
       "8            8             3.0              0.5586   \n",
       "9            9             1.0              0.4313   \n",
       "\n",
       "                                                                       Keywords  \\\n",
       "0             people, worst, social, phone, like, life, think, call, time, many   \n",
       "1  people, real, coronavirus, make, level, pandemic, time, face, reason, social   \n",
       "2  people, real, coronavirus, make, level, pandemic, time, face, reason, social   \n",
       "3             people, worst, social, phone, like, life, think, call, time, many   \n",
       "4             people, worst, social, phone, like, life, think, call, time, many   \n",
       "5             like, time, really, thing, know, going, people, take, roof, today   \n",
       "6    stress, sleep, help, depression, pain, next, time, family, relief, tonight   \n",
       "7        give, morning, much, since, listening, work, handle, test, train, time   \n",
       "8             people, worst, social, phone, like, life, think, call, time, many   \n",
       "9        like, much, fucking, right, attack, give, fuck, people, getting, bitch   \n",
       "\n",
       "                                                                                                                                                                    Text  \n",
       "0         [okay, totally, understand, specific, struggle, queer, japanese, japanese, people, open, learning, personally, mean, exist, applies, racism, phobia, list, go]  \n",
       "1                                                            [thing, know, returning, hair, salon, excitement, normal, salon, barber, shop, long, island, enters, phase]  \n",
       "2                      [well, information, would, useful, month, avoided, wasted, every, single, time, person, came, even, slightly, close, entering, general, vicinity]  \n",
       "3                                                                                                                                                     [greatest, lately]  \n",
       "4  [mostly, afraid, really, misunderstanding, past, kept, recently, reached, point, desperation, something, surprisingly, attentive, validating, glad, worried, nothing]  \n",
       "5                                                                                                          [damn, stressed, time, need, find, outlet, else, crazy, roof]  \n",
       "6                                                                                                                       [eating, cause, mind, lmaoo, need, gain, weight]  \n",
       "7                                                                       [would, called, police, forcibly, restrained, attack, allison, think, justiceforjonathansalcido]  \n",
       "8                                                                                                                                                                [summe]  \n",
       "9                                             [suck, prevalent, time, breathe, allow, ground, best, even, good, something, make, happy, write, anxious, driven, thought]  "
      ]
     },
     "execution_count": 40,
     "metadata": {},
     "output_type": "execute_result"
    }
   ],
   "source": [
    "def format_topics_sentences(ldamodel=None, corpus=tweets_corpus, texts=df['text']):\n",
    "    # Init output\n",
    "    sent_topics_df = pd.DataFrame()\n",
    "\n",
    "    # Get main topic in each document\n",
    "    for i, row_list in enumerate(ldamodel[tweets_corpus]):\n",
    "        row = row_list[0] if ldamodel.per_word_topics else row_list            \n",
    "        # print(row)\n",
    "        row = sorted(row, key=lambda x: (x[1]), reverse=True)\n",
    "        # Get the Dominant topic, Perc Contribution and Keywords for each document\n",
    "        for j, (topic_num, prop_topic) in enumerate(row):\n",
    "            if j == 0:  # => dominant topic\n",
    "                wp = ldamodel.show_topic(topic_num)\n",
    "                topic_keywords = \", \".join([word for word, prop in wp])\n",
    "                sent_topics_df = sent_topics_df.append(pd.Series([int(topic_num), round(prop_topic,4), topic_keywords]), ignore_index=True)\n",
    "            else:\n",
    "                break\n",
    "    sent_topics_df.columns = ['Dominant_Topic', 'Perc_Contribution', 'Topic_Keywords']\n",
    "\n",
    "    # Add original text to the end of the output\n",
    "    contents = pd.Series(texts)\n",
    "    sent_topics_df = pd.concat([sent_topics_df, contents], axis=1)\n",
    "    return(sent_topics_df)\n",
    "\n",
    "\n",
    "df_topic_sents_keywords = format_topics_sentences(ldamodel=tweets_lda, corpus=tweets_corpus, texts=df['text'])\n",
    "\n",
    "# Format\n",
    "df_dominant_topic = df_topic_sents_keywords.reset_index()\n",
    "df_dominant_tobpic.columns = ['Document_No', 'Dominant_Topic', 'Topic_Perc_Contrib', 'Keywords', 'Text']\n",
    "df_dominant_topic.head(10)"
   ]
  },
  {
   "cell_type": "code",
   "execution_count": 41,
   "metadata": {
    "collapsed": true,
    "jupyter": {
     "outputs_hidden": true
    }
   },
   "outputs": [
    {
     "data": {
      "text/html": [
       "<div>\n",
       "<style scoped>\n",
       "    .dataframe tbody tr th:only-of-type {\n",
       "        vertical-align: middle;\n",
       "    }\n",
       "\n",
       "    .dataframe tbody tr th {\n",
       "        vertical-align: top;\n",
       "    }\n",
       "\n",
       "    .dataframe thead th {\n",
       "        text-align: right;\n",
       "    }\n",
       "</style>\n",
       "<table border=\"1\" class=\"dataframe\">\n",
       "  <thead>\n",
       "    <tr style=\"text-align: right;\">\n",
       "      <th></th>\n",
       "      <th>Document_No</th>\n",
       "      <th>Dominant_Topic</th>\n",
       "      <th>Topic_Perc_Contrib</th>\n",
       "      <th>Keywords</th>\n",
       "      <th>Text</th>\n",
       "    </tr>\n",
       "  </thead>\n",
       "  <tbody>\n",
       "    <tr>\n",
       "      <th>0</th>\n",
       "      <td>0</td>\n",
       "      <td>3.0</td>\n",
       "      <td>0.6731</td>\n",
       "      <td>people, worst, social, phone, like, life, think, call, time, many</td>\n",
       "      <td>[okay, totally, understand, specific, struggle, queer, japanese, japanese, people, open, learning, personally, mean, exist, applies, racism, phobia, list, go]</td>\n",
       "    </tr>\n",
       "    <tr>\n",
       "      <th>1</th>\n",
       "      <td>1</td>\n",
       "      <td>0.0</td>\n",
       "      <td>0.7752</td>\n",
       "      <td>people, real, coronavirus, make, level, pandemic, time, face, reason, social</td>\n",
       "      <td>[thing, know, returning, hair, salon, excitement, normal, salon, barber, shop, long, island, enters, phase]</td>\n",
       "    </tr>\n",
       "    <tr>\n",
       "      <th>2</th>\n",
       "      <td>2</td>\n",
       "      <td>0.0</td>\n",
       "      <td>0.7335</td>\n",
       "      <td>people, real, coronavirus, make, level, pandemic, time, face, reason, social</td>\n",
       "      <td>[well, information, would, useful, month, avoided, wasted, every, single, time, person, came, even, slightly, close, entering, general, vicinity]</td>\n",
       "    </tr>\n",
       "    <tr>\n",
       "      <th>3</th>\n",
       "      <td>3</td>\n",
       "      <td>3.0</td>\n",
       "      <td>0.7082</td>\n",
       "      <td>people, worst, social, phone, like, life, think, call, time, many</td>\n",
       "      <td>[greatest, lately]</td>\n",
       "    </tr>\n",
       "    <tr>\n",
       "      <th>4</th>\n",
       "      <td>4</td>\n",
       "      <td>3.0</td>\n",
       "      <td>0.7542</td>\n",
       "      <td>people, worst, social, phone, like, life, think, call, time, many</td>\n",
       "      <td>[mostly, afraid, really, misunderstanding, past, kept, recently, reached, point, desperation, something, surprisingly, attentive, validating, glad, worried, nothing]</td>\n",
       "    </tr>\n",
       "    <tr>\n",
       "      <th>5</th>\n",
       "      <td>5</td>\n",
       "      <td>5.0</td>\n",
       "      <td>0.6509</td>\n",
       "      <td>like, time, really, thing, know, going, people, take, roof, today</td>\n",
       "      <td>[damn, stressed, time, need, find, outlet, else, crazy, roof]</td>\n",
       "    </tr>\n",
       "    <tr>\n",
       "      <th>6</th>\n",
       "      <td>6</td>\n",
       "      <td>7.0</td>\n",
       "      <td>0.4661</td>\n",
       "      <td>stress, sleep, help, depression, pain, next, time, family, relief, tonight</td>\n",
       "      <td>[eating, cause, mind, lmaoo, need, gain, weight]</td>\n",
       "    </tr>\n",
       "    <tr>\n",
       "      <th>7</th>\n",
       "      <td>7</td>\n",
       "      <td>2.0</td>\n",
       "      <td>0.5455</td>\n",
       "      <td>give, morning, much, since, listening, work, handle, test, train, time</td>\n",
       "      <td>[would, called, police, forcibly, restrained, attack, allison, think, justiceforjonathansalcido]</td>\n",
       "    </tr>\n",
       "    <tr>\n",
       "      <th>8</th>\n",
       "      <td>8</td>\n",
       "      <td>3.0</td>\n",
       "      <td>0.5586</td>\n",
       "      <td>people, worst, social, phone, like, life, think, call, time, many</td>\n",
       "      <td>[summe]</td>\n",
       "    </tr>\n",
       "    <tr>\n",
       "      <th>9</th>\n",
       "      <td>9</td>\n",
       "      <td>1.0</td>\n",
       "      <td>0.4313</td>\n",
       "      <td>like, much, fucking, right, attack, give, fuck, people, getting, bitch</td>\n",
       "      <td>[suck, prevalent, time, breathe, allow, ground, best, even, good, something, make, happy, write, anxious, driven, thought]</td>\n",
       "    </tr>\n",
       "    <tr>\n",
       "      <th>10</th>\n",
       "      <td>10</td>\n",
       "      <td>1.0</td>\n",
       "      <td>0.9122</td>\n",
       "      <td>like, much, fucking, right, attack, give, fuck, people, getting, bitch</td>\n",
       "      <td>[drink, cup, coffee, energy, drink, wonder, shakiness, ignorance, bliss]</td>\n",
       "    </tr>\n",
       "    <tr>\n",
       "      <th>11</th>\n",
       "      <td>11</td>\n",
       "      <td>6.0</td>\n",
       "      <td>0.7079</td>\n",
       "      <td>mental, like, health, attack, depression, social, love, fear, today, know</td>\n",
       "      <td>[much, force]</td>\n",
       "    </tr>\n",
       "    <tr>\n",
       "      <th>12</th>\n",
       "      <td>12</td>\n",
       "      <td>7.0</td>\n",
       "      <td>0.4108</td>\n",
       "      <td>stress, sleep, help, depression, pain, next, time, family, relief, tonight</td>\n",
       "      <td>[cancer, made, better, person, forgave, past, event, ashamed, much, fear, learned, resentment, judgment, pride, revel, small, loving, gesture]</td>\n",
       "    </tr>\n",
       "    <tr>\n",
       "      <th>13</th>\n",
       "      <td>13</td>\n",
       "      <td>4.0</td>\n",
       "      <td>0.9025</td>\n",
       "      <td>gave, watching, movie, shit, need, much, going, depression, give, still</td>\n",
       "      <td>[watching, people, using, beauty, blender, without, soaking, water]</td>\n",
       "    </tr>\n",
       "    <tr>\n",
       "      <th>14</th>\n",
       "      <td>14</td>\n",
       "      <td>6.0</td>\n",
       "      <td>0.7516</td>\n",
       "      <td>mental, like, health, attack, depression, social, love, fear, today, know</td>\n",
       "      <td>[even, wrote, series, combatting, financial, part, part, part]</td>\n",
       "    </tr>\n",
       "    <tr>\n",
       "      <th>15</th>\n",
       "      <td>15</td>\n",
       "      <td>0.0</td>\n",
       "      <td>0.4736</td>\n",
       "      <td>people, real, coronavirus, make, level, pandemic, time, face, reason, social</td>\n",
       "      <td>[season, reason, stressing, already, clay, really, think, batman]</td>\n",
       "    </tr>\n",
       "    <tr>\n",
       "      <th>16</th>\n",
       "      <td>16</td>\n",
       "      <td>0.0</td>\n",
       "      <td>0.4222</td>\n",
       "      <td>people, real, coronavirus, make, level, pandemic, time, face, reason, social</td>\n",
       "      <td>[fear, love, covid, horror, life, coronavirus, mentalhealth, depression, faith, hope, motivation, fearless, scary, dark, quote, courage, creepy, corona, peace, poetry, success, stress, selflove, i...</td>\n",
       "    </tr>\n",
       "    <tr>\n",
       "      <th>17</th>\n",
       "      <td>17</td>\n",
       "      <td>5.0</td>\n",
       "      <td>0.8540</td>\n",
       "      <td>like, time, really, thing, know, going, people, take, roof, today</td>\n",
       "      <td>[like, cheer, slowly, morphed, scream]</td>\n",
       "    </tr>\n",
       "    <tr>\n",
       "      <th>18</th>\n",
       "      <td>18</td>\n",
       "      <td>5.0</td>\n",
       "      <td>0.6189</td>\n",
       "      <td>like, time, really, thing, know, going, people, take, roof, today</td>\n",
       "      <td>[twitter, started, original, issue, twitter, wrong, place, unless, really, intent, professional, fact, thing, often, make, situation, worse]</td>\n",
       "    </tr>\n",
       "    <tr>\n",
       "      <th>19</th>\n",
       "      <td>19</td>\n",
       "      <td>5.0</td>\n",
       "      <td>0.6916</td>\n",
       "      <td>like, time, really, thing, know, going, people, take, roof, today</td>\n",
       "      <td>[thread, beautiful, moment, protest, attended, past, week, half, post, intended, glorify, protest, show, wish, spread, positivity, time, many, feeling, intense, anger, heartbreak]</td>\n",
       "    </tr>\n",
       "  </tbody>\n",
       "</table>\n",
       "</div>"
      ],
      "text/plain": [
       "    Document_No  Dominant_Topic  Topic_Perc_Contrib  \\\n",
       "0             0             3.0              0.6731   \n",
       "1             1             0.0              0.7752   \n",
       "2             2             0.0              0.7335   \n",
       "3             3             3.0              0.7082   \n",
       "4             4             3.0              0.7542   \n",
       "5             5             5.0              0.6509   \n",
       "6             6             7.0              0.4661   \n",
       "7             7             2.0              0.5455   \n",
       "8             8             3.0              0.5586   \n",
       "9             9             1.0              0.4313   \n",
       "10           10             1.0              0.9122   \n",
       "11           11             6.0              0.7079   \n",
       "12           12             7.0              0.4108   \n",
       "13           13             4.0              0.9025   \n",
       "14           14             6.0              0.7516   \n",
       "15           15             0.0              0.4736   \n",
       "16           16             0.0              0.4222   \n",
       "17           17             5.0              0.8540   \n",
       "18           18             5.0              0.6189   \n",
       "19           19             5.0              0.6916   \n",
       "\n",
       "                                                                        Keywords  \\\n",
       "0              people, worst, social, phone, like, life, think, call, time, many   \n",
       "1   people, real, coronavirus, make, level, pandemic, time, face, reason, social   \n",
       "2   people, real, coronavirus, make, level, pandemic, time, face, reason, social   \n",
       "3              people, worst, social, phone, like, life, think, call, time, many   \n",
       "4              people, worst, social, phone, like, life, think, call, time, many   \n",
       "5              like, time, really, thing, know, going, people, take, roof, today   \n",
       "6     stress, sleep, help, depression, pain, next, time, family, relief, tonight   \n",
       "7         give, morning, much, since, listening, work, handle, test, train, time   \n",
       "8              people, worst, social, phone, like, life, think, call, time, many   \n",
       "9         like, much, fucking, right, attack, give, fuck, people, getting, bitch   \n",
       "10        like, much, fucking, right, attack, give, fuck, people, getting, bitch   \n",
       "11     mental, like, health, attack, depression, social, love, fear, today, know   \n",
       "12    stress, sleep, help, depression, pain, next, time, family, relief, tonight   \n",
       "13       gave, watching, movie, shit, need, much, going, depression, give, still   \n",
       "14     mental, like, health, attack, depression, social, love, fear, today, know   \n",
       "15  people, real, coronavirus, make, level, pandemic, time, face, reason, social   \n",
       "16  people, real, coronavirus, make, level, pandemic, time, face, reason, social   \n",
       "17             like, time, really, thing, know, going, people, take, roof, today   \n",
       "18             like, time, really, thing, know, going, people, take, roof, today   \n",
       "19             like, time, really, thing, know, going, people, take, roof, today   \n",
       "\n",
       "                                                                                                                                                                                                       Text  \n",
       "0                                            [okay, totally, understand, specific, struggle, queer, japanese, japanese, people, open, learning, personally, mean, exist, applies, racism, phobia, list, go]  \n",
       "1                                                                                               [thing, know, returning, hair, salon, excitement, normal, salon, barber, shop, long, island, enters, phase]  \n",
       "2                                                         [well, information, would, useful, month, avoided, wasted, every, single, time, person, came, even, slightly, close, entering, general, vicinity]  \n",
       "3                                                                                                                                                                                        [greatest, lately]  \n",
       "4                                     [mostly, afraid, really, misunderstanding, past, kept, recently, reached, point, desperation, something, surprisingly, attentive, validating, glad, worried, nothing]  \n",
       "5                                                                                                                                             [damn, stressed, time, need, find, outlet, else, crazy, roof]  \n",
       "6                                                                                                                                                          [eating, cause, mind, lmaoo, need, gain, weight]  \n",
       "7                                                                                                          [would, called, police, forcibly, restrained, attack, allison, think, justiceforjonathansalcido]  \n",
       "8                                                                                                                                                                                                   [summe]  \n",
       "9                                                                                [suck, prevalent, time, breathe, allow, ground, best, even, good, something, make, happy, write, anxious, driven, thought]  \n",
       "10                                                                                                                                 [drink, cup, coffee, energy, drink, wonder, shakiness, ignorance, bliss]  \n",
       "11                                                                                                                                                                                            [much, force]  \n",
       "12                                                           [cancer, made, better, person, forgave, past, event, ashamed, much, fear, learned, resentment, judgment, pride, revel, small, loving, gesture]  \n",
       "13                                                                                                                                      [watching, people, using, beauty, blender, without, soaking, water]  \n",
       "14                                                                                                                                           [even, wrote, series, combatting, financial, part, part, part]  \n",
       "15                                                                                                                                        [season, reason, stressing, already, clay, really, think, batman]  \n",
       "16  [fear, love, covid, horror, life, coronavirus, mentalhealth, depression, faith, hope, motivation, fearless, scary, dark, quote, courage, creepy, corona, peace, poetry, success, stress, selflove, i...  \n",
       "17                                                                                                                                                                   [like, cheer, slowly, morphed, scream]  \n",
       "18                                                             [twitter, started, original, issue, twitter, wrong, place, unless, really, intent, professional, fact, thing, often, make, situation, worse]  \n",
       "19                      [thread, beautiful, moment, protest, attended, past, week, half, post, intended, glorify, protest, show, wish, spread, positivity, time, many, feeling, intense, anger, heartbreak]  "
      ]
     },
     "execution_count": 41,
     "metadata": {},
     "output_type": "execute_result"
    }
   ],
   "source": [
    "df_dominant_topic.head(20)"
   ]
  },
  {
   "cell_type": "code",
   "execution_count": 65,
   "metadata": {
    "collapsed": true,
    "jupyter": {
     "outputs_hidden": true,
     "source_hidden": true
    }
   },
   "outputs": [
    {
     "data": {
      "image/png": "[encoded data removed]",
      "text/plain": [
       "<Figure size 2160x1440 with 6 Axes>"
      ]
     },
     "metadata": {
      "needs_background": "light"
     },
     "output_type": "display_data"
    }
   ],
   "source": [
    "def plot_top_words(lda=tweets_lda, nb_topics=k, nb_words=10):\n",
    "    top_words = [[word for word,_ in lda.show_topic(topic_id, topn=50)] for topic_id in range(lda.num_topics)]\n",
    "    top_betas = [[beta for _,beta in lda.show_topic(topic_id, topn=50)] for topic_id in range(lda.num_topics)]\n",
    "\n",
    "    gs  = gridspec.GridSpec(round(math.sqrt(k))+1,round(math.sqrt(k))+1)\n",
    "    gs.update(wspace=.5, hspace=.5)\n",
    "    plt.figure(figsize=(30,20))\n",
    "    for i in range(nb_topics):\n",
    "        ax = plt.subplot(gs[i])\n",
    "        plt.barh(range(nb_words), top_betas[i][:nb_words], align='center',color='blue', ecolor='black')\n",
    "        ax.invert_yaxis()\n",
    "        ax.set_yticks(range(nb_words))\n",
    "        ax.set_yticklabels(top_words[i][:nb_words])\n",
    "        plt.title(\"Topic \"+str(i))\n",
    "        \n",
    "plot_top_words()"
   ]
  },
  {
   "cell_type": "code",
   "execution_count": 113,
   "metadata": {},
   "outputs": [
    {
     "data": {
      "text/html": [
       "\n",
       "<link rel=\"stylesheet\" type=\"text/css\" href=\"https://cdn.rawgit.com/bmabey/pyLDAvis/files/ldavis.v1.0.0.css\">\n",
       "\n",
       "\n",
       "<div id=\"ldavis_el2726351096446249243478999\"></div>\n",
       "<script type=\"text/javascript\">\n",
       "\n",
       "var ldavis_el2726351096446249243478999_data = {\"mdsDat\": {\"x\": [-0.06325746300811892, 0.05423220545430709, -0.02438069290454316, 0.06423292456376399, 0.21182353316847502, -0.2426505072738839], \"y\": [-0.13172872549445463, -0.1298222007437572, 0.0015503012572721509, -0.07360486076416767, 0.1857595924164911, 0.1478458933286163], \"topics\": [1, 2, 3, 4, 5, 6], \"cluster\": [1, 1, 1, 1, 1, 1], \"Freq\": [19.647491455078125, 18.21100425720215, 18.079288482666016, 16.237560272216797, 14.18484115600586, 13.63981819152832]}, \"tinfo\": {\"Term\": [\"give\", \"shit\", \"much\", \"gave\", \"roof\", \"sleep\", \"last\", \"social\", \"hate\", \"take\", \"even\", \"week\", \"work\", \"anxiety\", \"coronavirus\", \"going\", \"people\", \"night\", \"disorder\", \"family\", \"always\", \"morning\", \"many\", \"love\", \"attack\", \"fuck\", \"day\", \"hand\", \"watching\", \"thank\", \"inducing\", \"must\", \"lost\", \"sometimes\", \"film\", \"say\", \"pray\", \"doctor\", \"dont\", \"scary\", \"mess\", \"front\", \"animal\", \"sort\", \"size\", \"stand\", \"annoying\", \"interview\", \"performance\", \"hello\", \"motivation\", \"excuse\", \"overcome\", \"term\", \"missed\", \"nigga\", \"mindset\", \"certain\", \"dread\", \"forgot\", \"shit\", \"yeah\", \"self\", \"bitch\", \"soon\", \"kind\", \"therapist\", \"always\", \"take\", \"taking\", \"phone\", \"illness\", \"leave\", \"suffer\", \"call\", \"anxious\", \"people\", \"care\", \"stay\", \"think\", \"social\", \"something\", \"need\", \"good\", \"make\", \"would\", \"like\", \"time\", \"never\", \"mental\", \"know\", \"depression\", \"right\", \"away\", \"thing\", \"first\", \"someone\", \"really\", \"want\", \"friend\", \"work\", \"hate\", \"wish\", \"woke\", \"holiday\", \"weight\", \"breath\", \"later\", \"dying\", \"isolation\", \"joke\", \"loss\", \"physically\", \"trip\", \"friday\", \"texas\", \"mentally\", \"wake\", \"figure\", \"hair\", \"painrelief\", \"fibromyalgia\", \"noopioids\", \"thepainstopper\", \"stopopioids\", \"austin\", \"killeen\", \"backpain\", \"short\", \"shoulderpain\", \"muscle\", \"last\", \"night\", \"train\", \"week\", \"day\", \"waking\", \"past\", \"month\", \"worst\", \"okay\", \"work\", \"hour\", \"office\", \"going\", \"sleep\", \"today\", \"back\", \"since\", \"symptom\", \"next\", \"life\", \"getting\", \"year\", \"ever\", \"attack\", \"really\", \"want\", \"time\", \"right\", \"whole\", \"make\", \"depression\", \"thing\", \"like\", \"much\", \"every\", \"roof\", \"economic\", \"death\", \"kicking\", \"fighting\", \"parenting\", \"counseling\", \"newjersey\", \"single\", \"racist\", \"picture\", \"area\", \"increased\", \"speaking\", \"laugh\", \"sent\", \"everytime\", \"broke\", \"personally\", \"brought\", \"clear\", \"window\", \"soma\", \"mapso\", \"notification\", \"feed\", \"task\", \"mass\", \"ridden\", \"wave\", \"white\", \"anger\", \"trump\", \"family\", \"relationship\", \"police\", \"thru\", \"state\", \"others\", \"text\", \"level\", \"positive\", \"fear\", \"high\", \"couple\", \"many\", \"news\", \"fucking\", \"like\", \"even\", \"time\", \"cause\", \"nothing\", \"everyone\", \"depression\", \"right\", \"trying\", \"know\", \"stop\", \"could\", \"thing\", \"every\", \"going\", \"stress\", \"work\", \"life\", \"system\", \"honestly\", \"miss\", \"grateful\", \"individual\", \"seen\", \"song\", \"realize\", \"uncut\", \"gem\", \"chest\", \"power\", \"christmas\", \"plane\", \"gone\", \"asleep\", \"treat\", \"immune\", \"brings\", \"cute\", \"healing\", \"ignore\", \"dog\", \"usual\", \"funny\", \"falling\", \"shopping\", \"hoping\", \"visit\", \"gift\", \"though\", \"movie\", \"music\", \"even\", \"season\", \"attack\", \"walking\", \"calm\", \"like\", \"love\", \"york\", \"moment\", \"sound\", \"thought\", \"trying\", \"still\", \"something\", \"life\", \"making\", \"come\", \"panic\", \"back\", \"started\", \"good\", \"stress\", \"time\", \"show\", \"hard\", \"depression\", \"think\", \"take\", \"make\", \"going\", \"hand\", \"separation\", \"coffee\", \"either\", \"corona\", \"hurt\", \"apartment\", \"perfect\", \"building\", \"sitting\", \"related\", \"sunday\", \"nerve\", \"list\", \"yoga\", \"return\", \"drop\", \"cant\", \"hit\", \"discussion\", \"strength\", \"wherever\", \"somehow\", \"favorite\", \"schedule\", \"hemp\", \"patient\", \"condition\", \"code\", \"induced\", \"youtube\", \"walk\", \"morning\", \"exercise\", \"lord\", \"tweet\", \"manage\", \"fuck\", \"coronavirus\", \"close\", \"virus\", \"meditation\", \"support\", \"definitely\", \"relief\", \"great\", \"sleep\", \"stress\", \"already\", \"pain\", \"well\", \"free\", \"tonight\", \"please\", \"going\", \"people\", \"need\", \"today\", \"thing\", \"time\", \"depression\", \"pandemic\", \"gave\", \"eating\", \"playing\", \"helping\", \"cope\", \"cool\", \"marriage\", \"wishing\", \"sending\", \"send\", \"watched\", \"rather\", \"conversation\", \"project\", \"decade\", \"comment\", \"triggering\", \"seem\", \"teacher\", \"ball\", \"hang\", \"skill\", \"article\", \"jesus\", \"quickly\", \"driver\", \"addiction\", \"paper\", \"smoking\", \"taught\", \"anywhere\", \"game\", \"school\", \"trigger\", \"give\", \"disorder\", \"child\", \"much\", \"anxiety\", \"type\", \"watching\", \"thank\", \"issue\", \"social\", \"working\", \"health\", \"struggle\", \"people\", \"video\", \"know\", \"mental\", \"many\", \"love\", \"would\", \"quarantine\", \"food\", \"time\", \"really\", \"help\", \"depression\", \"still\", \"like\", \"today\", \"want\"], \"Freq\": [404.0, 312.0, 611.0, 193.0, 217.0, 277.0, 224.0, 420.0, 184.0, 344.0, 306.0, 268.0, 379.0, 192.0, 190.0, 436.0, 747.0, 192.0, 143.0, 194.0, 195.0, 121.0, 257.0, 318.0, 497.0, 161.0, 195.0, 87.0, 165.0, 157.0, 72.01007080078125, 54.94468307495117, 54.216697692871094, 93.56379699707031, 43.285423278808594, 40.010353088378906, 35.781246185302734, 51.75828170776367, 31.36302375793457, 30.058218002319336, 28.985553741455078, 28.818527221679688, 27.863933563232422, 27.578516006469727, 26.43332862854004, 26.36639404296875, 26.277740478515625, 25.081663131713867, 23.9880428314209, 23.62407684326172, 23.73004722595215, 23.0398006439209, 23.08234977722168, 23.03314781188965, 21.57111930847168, 21.17452621459961, 20.500986099243164, 28.485258102416992, 20.179000854492188, 19.720949172973633, 297.4276123046875, 53.422874450683594, 83.98592376708984, 70.69202423095703, 42.97654724121094, 71.4969253540039, 55.37432098388672, 149.10015869140625, 235.6082000732422, 104.73455047607422, 86.36193084716797, 47.07411193847656, 61.102134704589844, 53.23164749145508, 81.45527648925781, 73.19621276855469, 300.5628356933594, 82.12442016601562, 93.75476837158203, 156.7559051513672, 174.67648315429688, 123.45955657958984, 173.97833251953125, 137.2035675048828, 159.25021362304688, 127.75223541259766, 242.8213653564453, 210.0671844482422, 108.3397445678711, 103.11092376708984, 151.39944458007812, 160.46653747558594, 123.82390594482422, 85.05364227294922, 130.36871337890625, 84.8917236328125, 84.40231323242188, 96.0327377319336, 89.0508804321289, 83.23609161376953, 83.55232238769531, 184.0093994140625, 66.93439483642578, 51.28605651855469, 41.157894134521484, 40.262779235839844, 40.24479675292969, 37.592281341552734, 34.54487228393555, 34.18027114868164, 33.7026252746582, 32.408164978027344, 31.02373695373535, 30.8194637298584, 29.064891815185547, 28.23711395263672, 28.019184112548828, 32.161834716796875, 25.681150436401367, 24.40425682067871, 24.151718139648438, 23.397003173828125, 22.98297119140625, 22.98297119140625, 22.98297119140625, 22.98297119140625, 22.98297119140625, 22.981693267822266, 22.001243591308594, 21.813873291015625, 21.477567672729492, 209.48300170898438, 159.80538940429688, 51.28225326538086, 192.40882873535156, 144.1190948486328, 39.53934860229492, 83.39407348632812, 109.59671783447266, 82.02786254882812, 47.29671096801758, 213.2970733642578, 93.50115203857422, 35.427791595458984, 202.91464233398438, 145.021484375, 197.44229125976562, 150.67343139648438, 84.42668151855469, 59.86223602294922, 92.24667358398438, 148.43539428710938, 107.328857421875, 133.31809997558594, 87.73453521728516, 166.1106719970703, 157.74305725097656, 125.89144134521484, 199.33192443847656, 119.32540893554688, 72.82010650634766, 124.1090087890625, 135.9041748046875, 110.9909896850586, 120.00416564941406, 99.69678497314453, 85.29866790771484, 216.81141662597656, 77.16310119628906, 49.05276107788086, 44.6561164855957, 41.16813659667969, 38.46600341796875, 37.168724060058594, 34.95671844482422, 34.38932418823242, 32.36677551269531, 31.669391632080078, 31.54836082458496, 29.390146255493164, 28.953126907348633, 28.99053192138672, 26.521400451660156, 25.986080169677734, 24.62077522277832, 24.21109962463379, 23.56820297241211, 23.22737693786621, 22.568756103515625, 22.532623291015625, 22.532623291015625, 21.45724105834961, 21.59213638305664, 20.985721588134766, 20.709096908569336, 20.0778865814209, 19.949750900268555, 76.23786926269531, 53.112342834472656, 68.17655181884766, 159.8967742919922, 65.97574615478516, 46.63212203979492, 61.411563873291016, 67.55248260498047, 59.614952087402344, 56.69933319091797, 126.3206787109375, 51.11627960205078, 161.16188049316406, 128.4663543701172, 51.03202819824219, 123.91473388671875, 68.3329849243164, 91.49720001220703, 233.60816955566406, 112.92555236816406, 180.5811767578125, 85.57987976074219, 66.31648254394531, 74.78408813476562, 116.7518081665039, 94.42485046386719, 75.06537628173828, 97.15464782714844, 66.63975524902344, 67.26423645019531, 88.05451202392578, 75.02877807617188, 79.39519500732422, 77.4078140258789, 68.99762725830078, 66.54985809326172, 68.92081451416016, 61.481117248535156, 47.698280334472656, 45.929725646972656, 48.182334899902344, 43.56320571899414, 42.16910934448242, 39.396419525146484, 39.04348373413086, 38.54887008666992, 53.953887939453125, 36.580867767333984, 35.399383544921875, 35.0608024597168, 34.095699310302734, 32.52268981933594, 29.842910766601562, 28.049543380737305, 27.2413387298584, 26.853784561157227, 25.809228897094727, 25.71062469482422, 25.084257125854492, 25.067846298217773, 24.89920425415039, 24.495336532592773, 24.066177368164062, 24.1002254486084, 22.623762130737305, 22.33002471923828, 66.54633331298828, 72.48345184326172, 58.205448150634766, 150.14706420898438, 47.23519515991211, 203.93057250976562, 37.178367614746094, 85.42914581298828, 315.6478271484375, 136.23599243164062, 62.463890075683594, 64.07389831542969, 43.19576644897461, 92.68667602539062, 81.65312194824219, 85.79523468017578, 84.1683120727539, 95.0572509765625, 56.773475646972656, 70.58940124511719, 62.04585647583008, 78.10077667236328, 54.73015594482422, 77.98834228515625, 82.78872680664062, 99.77363586425781, 58.96449661254883, 60.39116668701172, 77.18900299072266, 65.88020324707031, 62.262718200683594, 58.90431213378906, 57.5547981262207, 86.85736846923828, 84.80652618408203, 74.31172943115234, 59.6566047668457, 53.417930603027344, 48.47923278808594, 46.501007080078125, 45.23182678222656, 40.33512496948242, 40.370506286621094, 38.36955261230469, 37.2667236328125, 36.16571044921875, 36.06947326660156, 35.00776672363281, 31.18233871459961, 31.11476707458496, 29.473522186279297, 28.926454544067383, 28.923118591308594, 28.260576248168945, 37.655879974365234, 27.25991439819336, 26.707292556762695, 22.267988204956055, 22.137971878051758, 33.055397033691406, 20.88636589050293, 19.87991714477539, 19.764175415039062, 35.05332565307617, 60.11669158935547, 110.07938385009766, 36.501068115234375, 26.229171752929688, 60.99034118652344, 59.58865737915039, 114.28619384765625, 129.9531707763672, 47.626731872558594, 61.667396545410156, 44.95825958251953, 64.30654907226562, 61.73292922973633, 64.62226104736328, 96.53833770751953, 131.44541931152344, 176.56349182128906, 76.6011734008789, 71.12492370605469, 80.81912231445312, 54.325321197509766, 56.78657531738281, 73.63182067871094, 96.00119018554688, 114.9942626953125, 94.60166931152344, 85.61499786376953, 70.78450012207031, 69.65513610839844, 64.35933685302734, 56.06198501586914, 192.96871948242188, 50.71015548706055, 41.565025329589844, 40.12381362915039, 39.714962005615234, 39.3131103515625, 39.762027740478516, 38.14253616333008, 35.44962692260742, 34.00970458984375, 33.38525390625, 30.352590560913086, 38.71474838256836, 28.662099838256836, 28.586585998535156, 28.06211280822754, 25.324827194213867, 25.135356903076172, 24.752574920654297, 24.679149627685547, 24.67524528503418, 23.71214485168457, 22.196935653686523, 21.6489315032959, 21.546009063720703, 21.437685012817383, 21.11996078491211, 20.307968139648438, 20.234230041503906, 19.893157958984375, 20.02655792236328, 70.64510345458984, 82.19234466552734, 47.62946319580078, 280.2555236816406, 109.295654296875, 61.37837600708008, 343.34136962890625, 122.09403991699219, 42.42877960205078, 97.4720230102539, 92.24170684814453, 72.8288345336914, 180.3665771484375, 70.82283782958984, 101.57215118408203, 42.80959701538086, 190.74935913085938, 57.132511138916016, 120.2856216430664, 80.25874328613281, 84.16870880126953, 84.90428161621094, 81.27182006835938, 52.6573371887207, 46.91767501831055, 80.90361785888672, 70.23137664794922, 55.00935363769531, 74.00157928466797, 60.03128433227539, 78.93920135498047, 63.55377197265625, 60.748626708984375], \"Total\": [404.0, 312.0, 611.0, 193.0, 217.0, 277.0, 224.0, 420.0, 184.0, 344.0, 306.0, 268.0, 379.0, 192.0, 190.0, 436.0, 747.0, 192.0, 143.0, 194.0, 195.0, 121.0, 257.0, 318.0, 497.0, 161.0, 195.0, 87.0, 165.0, 157.0, 72.841796875, 55.77730178833008, 55.049415588378906, 95.31637573242188, 44.11451721191406, 40.84366226196289, 36.61283493041992, 53.1173210144043, 32.19365692138672, 30.890256881713867, 29.818296432495117, 29.672555923461914, 28.701936721801758, 28.412918090820312, 27.265714645385742, 27.198749542236328, 27.108434677124023, 25.917055130004883, 24.825109481811523, 24.45392608642578, 24.570911407470703, 23.871458053588867, 23.916717529296875, 23.866464614868164, 22.400392532348633, 22.00519561767578, 21.332897186279297, 29.655420303344727, 21.010894775390625, 20.552204132080078, 312.1440124511719, 56.364768981933594, 92.11853790283203, 77.79039001464844, 46.927268981933594, 83.17635345458984, 63.78627395629883, 195.86614990234375, 344.6305236816406, 136.22593688964844, 113.42893981933594, 55.20429992675781, 76.77106475830078, 65.39715576171875, 118.03717803955078, 107.75302124023438, 747.0352783203125, 128.59063720703125, 155.89666748046875, 340.9556579589844, 420.2972412109375, 257.1532287597656, 438.1751708984375, 327.5751953125, 420.9713439941406, 322.36016845703125, 1046.058837890625, 840.3126831054688, 241.94854736328125, 220.23097229003906, 497.1204528808594, 628.6724243164062, 371.90325927734375, 156.95298767089844, 436.7961120605469, 186.05401611328125, 210.913818359375, 466.5612487792969, 327.5213623046875, 236.77162170410156, 379.24639892578125, 184.8839569091797, 67.76936340332031, 52.12040328979492, 42.006736755371094, 41.09563446044922, 41.080135345458984, 38.42742919921875, 35.379703521728516, 35.01893997192383, 34.53797149658203, 33.24352264404297, 31.857166290283203, 31.65597152709961, 29.899272918701172, 29.06842803955078, 28.856821060180664, 33.14071273803711, 26.515182495117188, 25.237815856933594, 24.98225975036621, 24.227632522583008, 23.81342315673828, 23.81342315673828, 23.81342315673828, 23.81342315673828, 23.81342315673828, 23.81271743774414, 22.83747100830078, 22.644359588623047, 22.314775466918945, 224.89796447753906, 192.4210662841797, 57.13169479370117, 268.6161193847656, 195.3817901611328, 44.6623420715332, 106.46730041503906, 148.6158905029297, 106.50739288330078, 55.86258316040039, 379.24639892578125, 136.02383422851562, 40.673484802246094, 436.19732666015625, 277.5787048339844, 440.7701416015625, 306.3212890625, 138.34109497070312, 84.70497131347656, 161.6991729736328, 337.9965515136719, 219.51995849609375, 316.62060546875, 166.8264617919922, 497.5448303222656, 466.5612487792969, 327.5213623046875, 840.3126831054688, 371.90325927734375, 136.0873565673828, 420.9713439941406, 628.6724243164062, 436.7961120605469, 1046.058837890625, 611.246826171875, 260.2341003417969, 217.63491821289062, 77.98226928710938, 49.909976959228516, 45.47765350341797, 42.00349426269531, 39.284523010253906, 37.98762893676758, 35.77534866333008, 35.210357666015625, 33.18634033203125, 32.490325927734375, 32.36774826049805, 30.20965576171875, 29.7733211517334, 29.81414031982422, 27.34160804748535, 26.80697250366211, 25.443641662597656, 25.032434463500977, 24.389789581298828, 24.054189682006836, 23.388774871826172, 23.351566314697266, 23.351566314697266, 22.27706527709961, 22.434980392456055, 21.80694007873535, 21.52892303466797, 20.90068244934082, 20.76944351196289, 80.6479263305664, 55.96996307373047, 72.57820129394531, 194.99510192871094, 75.34651184082031, 53.15660095214844, 73.41907501220703, 88.2918472290039, 76.36536407470703, 74.09130096435547, 212.71688842773438, 68.15196228027344, 324.66644287109375, 247.19830322265625, 70.23157501220703, 257.61114501953125, 110.55902862548828, 173.25315856933594, 1046.058837890625, 306.936767578125, 840.3126831054688, 213.3186492919922, 131.1974639892578, 180.76466369628906, 628.6724243164062, 371.90325927734375, 210.17581176757812, 497.1204528808594, 164.81134033203125, 171.9599151611328, 436.7961120605469, 260.2341003417969, 436.19732666015625, 438.9565734863281, 379.24639892578125, 337.9965515136719, 69.74964141845703, 62.30760955810547, 48.525604248046875, 46.75571823120117, 49.0662841796875, 44.390865325927734, 42.99653625488281, 40.224605560302734, 39.86833572387695, 39.373779296875, 55.15929412841797, 37.406768798828125, 36.23103332519531, 35.88859939575195, 34.92280197143555, 33.3487548828125, 30.671937942504883, 28.874828338623047, 28.0703125, 27.679641723632812, 26.635189056396484, 26.53974723815918, 25.91042709350586, 25.897573471069336, 25.726360321044922, 25.319852828979492, 24.892152786254883, 24.929264068603516, 23.449377059936523, 23.1561336517334, 71.27337646484375, 79.11202239990234, 69.97361755371094, 306.936767578125, 63.264102935791016, 497.5448303222656, 45.253135681152344, 150.17539978027344, 1046.058837890625, 318.04937744140625, 99.86116027832031, 105.32395935058594, 57.50720977783203, 220.06715393066406, 210.17581176757812, 261.3402099609375, 257.1532287597656, 337.9965515136719, 115.73992156982422, 205.22706604003906, 153.05445861816406, 306.3212890625, 110.44011688232422, 327.5751953125, 438.9565734863281, 840.3126831054688, 145.0909423828125, 166.03549194335938, 628.6724243164062, 340.9556579589844, 344.6305236816406, 420.9713439941406, 436.19732666015625, 87.68213653564453, 85.63141632080078, 75.13520812988281, 60.48532485961914, 54.244354248046875, 49.31175994873047, 47.327091217041016, 46.05876159667969, 41.160701751708984, 41.198360443115234, 39.194671630859375, 38.091251373291016, 36.990325927734375, 36.89667510986328, 35.83050537109375, 32.00779724121094, 31.939422607421875, 30.30287742614746, 29.751739501953125, 29.75000762939453, 29.08707046508789, 38.77106475830078, 28.086097717285156, 27.533458709716797, 23.093456268310547, 22.959386825561523, 34.30397415161133, 21.713062286376953, 20.708316802978516, 20.588829040527344, 36.89591979980469, 64.6480712890625, 121.9500961303711, 39.420013427734375, 27.59024429321289, 71.22720336914062, 71.66654968261719, 161.20050048828125, 190.43310546875, 55.51630783081055, 78.00636291503906, 53.325260162353516, 86.89445495605469, 82.51538848876953, 90.294189453125, 171.96572875976562, 277.5787048339844, 438.9565734863281, 136.47384643554688, 132.76654052734375, 187.76441955566406, 82.34335327148438, 96.9526138305664, 185.41558837890625, 436.19732666015625, 747.0352783203125, 438.1751708984375, 440.7701416015625, 436.7961120605469, 840.3126831054688, 628.6724243164062, 170.28067016601562, 193.79281616210938, 51.57436752319336, 42.39095687866211, 40.94963455200195, 40.54031753540039, 40.13774871826172, 40.60477828979492, 38.985660552978516, 36.27516555786133, 34.838294982910156, 34.212791442871094, 31.17891502380371, 39.790809631347656, 29.490888595581055, 29.418617248535156, 28.88850975036621, 26.14971923828125, 25.961471557617188, 25.578229904174805, 25.50486183166504, 25.500930786132812, 24.543357849121094, 23.02646827697754, 22.475847244262695, 22.370548248291016, 22.275062561035156, 21.94528579711914, 21.134920120239258, 21.05828285217285, 20.720300674438477, 20.863317489624023, 77.23616027832031, 93.48014068603516, 53.199607849121094, 404.0477294921875, 143.65591430664062, 74.2610855102539, 611.246826171875, 192.4732666015625, 52.00092315673828, 165.3430938720703, 157.4168701171875, 116.53929138183594, 420.2972412109375, 123.66648864746094, 214.4639434814453, 58.244537353515625, 747.0352783203125, 104.23040771484375, 497.1204528808594, 220.23097229003906, 257.61114501953125, 318.04937744140625, 322.36016845703125, 101.38397216796875, 72.87155151367188, 840.3126831054688, 466.5612487792969, 163.12461853027344, 628.6724243164062, 261.3402099609375, 1046.058837890625, 440.7701416015625, 327.5213623046875], \"Category\": [\"Default\", \"Default\", \"Default\", \"Default\", \"Default\", \"Default\", \"Default\", \"Default\", \"Default\", \"Default\", \"Default\", \"Default\", \"Default\", \"Default\", \"Default\", \"Default\", \"Default\", \"Default\", \"Default\", \"Default\", \"Default\", \"Default\", \"Default\", \"Default\", \"Default\", \"Default\", \"Default\", \"Default\", \"Default\", \"Default\", \"Topic1\", \"Topic1\", \"Topic1\", \"Topic1\", \"Topic1\", \"Topic1\", \"Topic1\", \"Topic1\", \"Topic1\", \"Topic1\", \"Topic1\", \"Topic1\", \"Topic1\", \"Topic1\", \"Topic1\", \"Topic1\", \"Topic1\", \"Topic1\", \"Topic1\", \"Topic1\", \"Topic1\", \"Topic1\", \"Topic1\", \"Topic1\", \"Topic1\", \"Topic1\", \"Topic1\", \"Topic1\", \"Topic1\", \"Topic1\", \"Topic1\", \"Topic1\", \"Topic1\", \"Topic1\", \"Topic1\", \"Topic1\", \"Topic1\", \"Topic1\", \"Topic1\", \"Topic1\", \"Topic1\", \"Topic1\", \"Topic1\", \"Topic1\", \"Topic1\", \"Topic1\", \"Topic1\", \"Topic1\", \"Topic1\", \"Topic1\", \"Topic1\", \"Topic1\", \"Topic1\", \"Topic1\", \"Topic1\", \"Topic1\", \"Topic1\", \"Topic1\", \"Topic1\", \"Topic1\", \"Topic1\", \"Topic1\", \"Topic1\", \"Topic1\", \"Topic1\", \"Topic1\", \"Topic1\", \"Topic1\", \"Topic1\", \"Topic1\", \"Topic1\", \"Topic2\", \"Topic2\", \"Topic2\", \"Topic2\", \"Topic2\", \"Topic2\", \"Topic2\", \"Topic2\", \"Topic2\", \"Topic2\", \"Topic2\", \"Topic2\", \"Topic2\", \"Topic2\", \"Topic2\", \"Topic2\", \"Topic2\", \"Topic2\", \"Topic2\", \"Topic2\", \"Topic2\", \"Topic2\", \"Topic2\", \"Topic2\", \"Topic2\", \"Topic2\", \"Topic2\", \"Topic2\", \"Topic2\", \"Topic2\", \"Topic2\", \"Topic2\", \"Topic2\", \"Topic2\", \"Topic2\", \"Topic2\", \"Topic2\", \"Topic2\", \"Topic2\", \"Topic2\", \"Topic2\", \"Topic2\", \"Topic2\", \"Topic2\", \"Topic2\", \"Topic2\", \"Topic2\", \"Topic2\", \"Topic2\", \"Topic2\", \"Topic2\", \"Topic2\", \"Topic2\", \"Topic2\", \"Topic2\", \"Topic2\", \"Topic2\", \"Topic2\", \"Topic2\", \"Topic2\", \"Topic2\", \"Topic2\", \"Topic2\", \"Topic2\", \"Topic2\", \"Topic2\", \"Topic3\", \"Topic3\", \"Topic3\", \"Topic3\", \"Topic3\", \"Topic3\", \"Topic3\", \"Topic3\", \"Topic3\", \"Topic3\", \"Topic3\", \"Topic3\", \"Topic3\", \"Topic3\", \"Topic3\", \"Topic3\", \"Topic3\", \"Topic3\", \"Topic3\", \"Topic3\", \"Topic3\", \"Topic3\", \"Topic3\", \"Topic3\", \"Topic3\", \"Topic3\", \"Topic3\", \"Topic3\", \"Topic3\", \"Topic3\", \"Topic3\", \"Topic3\", \"Topic3\", \"Topic3\", \"Topic3\", \"Topic3\", \"Topic3\", \"Topic3\", \"Topic3\", \"Topic3\", \"Topic3\", \"Topic3\", \"Topic3\", \"Topic3\", \"Topic3\", \"Topic3\", \"Topic3\", \"Topic3\", \"Topic3\", \"Topic3\", \"Topic3\", \"Topic3\", \"Topic3\", \"Topic3\", \"Topic3\", \"Topic3\", \"Topic3\", \"Topic3\", \"Topic3\", \"Topic3\", \"Topic3\", \"Topic3\", \"Topic3\", \"Topic3\", \"Topic3\", \"Topic3\", \"Topic4\", \"Topic4\", \"Topic4\", \"Topic4\", \"Topic4\", \"Topic4\", \"Topic4\", \"Topic4\", \"Topic4\", \"Topic4\", \"Topic4\", \"Topic4\", \"Topic4\", \"Topic4\", \"Topic4\", \"Topic4\", \"Topic4\", \"Topic4\", \"Topic4\", \"Topic4\", \"Topic4\", \"Topic4\", \"Topic4\", \"Topic4\", \"Topic4\", \"Topic4\", \"Topic4\", \"Topic4\", \"Topic4\", \"Topic4\", \"Topic4\", \"Topic4\", \"Topic4\", \"Topic4\", \"Topic4\", \"Topic4\", \"Topic4\", \"Topic4\", \"Topic4\", \"Topic4\", \"Topic4\", \"Topic4\", \"Topic4\", \"Topic4\", \"Topic4\", \"Topic4\", \"Topic4\", \"Topic4\", \"Topic4\", \"Topic4\", \"Topic4\", \"Topic4\", \"Topic4\", \"Topic4\", \"Topic4\", \"Topic4\", \"Topic4\", \"Topic4\", \"Topic4\", \"Topic4\", \"Topic4\", \"Topic4\", \"Topic4\", \"Topic5\", \"Topic5\", \"Topic5\", \"Topic5\", \"Topic5\", \"Topic5\", \"Topic5\", \"Topic5\", \"Topic5\", \"Topic5\", \"Topic5\", \"Topic5\", \"Topic5\", \"Topic5\", \"Topic5\", \"Topic5\", \"Topic5\", \"Topic5\", \"Topic5\", \"Topic5\", \"Topic5\", \"Topic5\", \"Topic5\", \"Topic5\", \"Topic5\", \"Topic5\", \"Topic5\", \"Topic5\", \"Topic5\", \"Topic5\", \"Topic5\", \"Topic5\", \"Topic5\", \"Topic5\", \"Topic5\", \"Topic5\", \"Topic5\", \"Topic5\", \"Topic5\", \"Topic5\", \"Topic5\", \"Topic5\", \"Topic5\", \"Topic5\", \"Topic5\", \"Topic5\", \"Topic5\", \"Topic5\", \"Topic5\", \"Topic5\", \"Topic5\", \"Topic5\", \"Topic5\", \"Topic5\", \"Topic5\", \"Topic5\", \"Topic5\", \"Topic5\", \"Topic5\", \"Topic5\", \"Topic5\", \"Topic5\", \"Topic6\", \"Topic6\", \"Topic6\", \"Topic6\", \"Topic6\", \"Topic6\", \"Topic6\", \"Topic6\", \"Topic6\", \"Topic6\", \"Topic6\", \"Topic6\", \"Topic6\", \"Topic6\", \"Topic6\", \"Topic6\", \"Topic6\", \"Topic6\", \"Topic6\", \"Topic6\", \"Topic6\", \"Topic6\", \"Topic6\", \"Topic6\", \"Topic6\", \"Topic6\", \"Topic6\", \"Topic6\", \"Topic6\", \"Topic6\", \"Topic6\", \"Topic6\", \"Topic6\", \"Topic6\", \"Topic6\", \"Topic6\", \"Topic6\", \"Topic6\", \"Topic6\", \"Topic6\", \"Topic6\", \"Topic6\", \"Topic6\", \"Topic6\", \"Topic6\", \"Topic6\", \"Topic6\", \"Topic6\", \"Topic6\", \"Topic6\", \"Topic6\", \"Topic6\", \"Topic6\", \"Topic6\", \"Topic6\", \"Topic6\", \"Topic6\", \"Topic6\", \"Topic6\", \"Topic6\", \"Topic6\", \"Topic6\", \"Topic6\", \"Topic6\"], \"logprob\": [30.0, 29.0, 28.0, 27.0, 26.0, 25.0, 24.0, 23.0, 22.0, 21.0, 20.0, 19.0, 18.0, 17.0, 16.0, 15.0, 14.0, 13.0, 12.0, 11.0, 10.0, 9.0, 8.0, 7.0, 6.0, 5.0, 4.0, 3.0, 2.0, 1.0, -5.42710018157959, -5.6975998878479, -5.710899829864502, -5.165299892425537, -5.936100006103516, -6.014800071716309, -6.126500129699707, -5.757299900054932, -6.258299827575684, -6.30079984664917, -6.337100028991699, -6.342899799346924, -6.3765997886657715, -6.386899948120117, -6.429299831390381, -6.43179988861084, -6.435200214385986, -6.481800079345703, -6.526299953460693, -6.541600227355957, -6.537199974060059, -6.566699981689453, -6.564799785614014, -6.566999912261963, -6.632500171661377, -6.651100158691406, -6.6834001541137695, -6.354499816894531, -6.6992998123168945, -6.7221999168396, -4.008699893951416, -5.7256999015808105, -5.273200035095215, -5.4456000328063965, -5.94320011138916, -5.434199810028076, -5.689799785614014, -4.6992998123168945, -4.241700172424316, -5.052499771118164, -5.245299816131592, -5.852200031280518, -5.591300010681152, -5.7291998863220215, -5.303800106048584, -5.410799980163574, -3.998199939727783, -5.2957000732421875, -5.1631999015808105, -4.649199962615967, -4.540999889373779, -4.888000011444092, -4.545000076293945, -4.782400131225586, -4.633399963378906, -4.853799819946289, -4.211599826812744, -4.356500148773193, -5.018599987030029, -5.0680999755859375, -4.684000015258789, -4.625800132751465, -4.885000228881836, -5.2606000900268555, -4.833499908447266, -5.262499809265137, -5.2683000564575195, -5.139200210571289, -5.214700222015381, -5.282199859619141, -5.27839994430542, -4.413000106811523, -5.424300193786621, -5.6905999183654785, -5.910600185394287, -5.932499885559082, -5.933000087738037, -6.001200199127197, -6.085700035095215, -6.09630012512207, -6.110400199890137, -6.149600028991699, -6.19320011138916, -6.19980001449585, -6.258399963378906, -6.287300109863281, -6.295100212097168, -6.157199859619141, -6.382199764251709, -6.433199882507324, -6.443600177764893, -6.475399971008301, -6.493199825286865, -6.493199825286865, -6.493199825286865, -6.493199825286865, -6.493199825286865, -6.493299961090088, -6.536900043487549, -6.545400142669678, -6.560999870300293, -4.283299922943115, -4.553999900817871, -5.6905999183654785, -4.368299961090088, -4.657299995422363, -5.950699806213379, -5.204400062561035, -4.93120002746582, -5.220900058746338, -5.771500110626221, -4.2652997970581055, -5.090000152587891, -6.060500144958496, -4.315199851989746, -4.651100158691406, -4.34250020980835, -4.6128997802734375, -5.1921000480651855, -5.535900115966797, -5.103499889373779, -4.627799987792969, -4.952099800109863, -4.735199928283691, -5.15369987487793, -4.5152997970581055, -4.566999912261963, -4.792600154876709, -4.333000183105469, -4.846099853515625, -5.340000152587891, -4.80679988861084, -4.716000080108643, -4.918499946594238, -4.840400218963623, -5.0258002281188965, -5.18179988861084, -4.241700172424316, -5.274799823760986, -5.727799892425537, -5.821700096130371, -5.9029998779296875, -5.970900058746338, -6.005199909210205, -6.0665998458862305, -6.083000183105469, -6.143599987030029, -6.16540002822876, -6.1691999435424805, -6.240099906921387, -6.255000114440918, -6.253699779510498, -6.342800140380859, -6.3632001876831055, -6.417099952697754, -6.433899879455566, -6.4608001708984375, -6.475399971008301, -6.5040998458862305, -6.50570011138916, -6.50570011138916, -6.554599761962891, -6.548399925231934, -6.576900005340576, -6.590099811553955, -6.621099948883057, -6.627500057220459, -5.286900043487549, -5.6483001708984375, -5.398600101470947, -4.546199798583984, -5.431399822235107, -5.77839994430542, -5.5030999183654785, -5.407800197601318, -5.532800197601318, -5.582900047302246, -4.781899929046631, -5.686600208282471, -4.538300037384033, -4.764999866485596, -5.688300132751465, -4.80109977722168, -5.396299839019775, -5.104400157928467, -4.167099952697754, -4.894000053405762, -4.424499988555908, -5.171299934387207, -5.426300048828125, -5.306099891662598, -4.8607001304626465, -5.07289981842041, -5.3024001121521, -5.044400215148926, -5.42140007019043, -5.412099838256836, -5.1427998542785645, -5.302800178527832, -5.246300220489502, -5.271599769592285, -5.386600017547607, -5.422800064086914, -5.280300140380859, -5.394499778747559, -5.648399829864502, -5.686200141906738, -5.638299942016602, -5.739099979400635, -5.771599769592285, -5.839600086212158, -5.848599910736084, -5.861299991607666, -5.525100231170654, -5.913700103759766, -5.946599960327148, -5.956200122833252, -5.984099864959717, -6.031300067901611, -6.117300033569336, -6.179299831390381, -6.208499908447266, -6.222899913787842, -6.262499809265137, -6.26639986038208, -6.290999889373779, -6.2916998863220215, -6.298399925231934, -6.314799785614014, -6.332499980926514, -6.331099987030029, -6.3942999839782715, -6.407299995422363, -5.315400123596191, -5.229899883270264, -5.4492998123168945, -4.501699924468994, -5.658100128173828, -4.195499897003174, -5.897500038146973, -5.0655999183654785, -3.7585999965667725, -4.598899841308594, -5.378699779510498, -5.3531999588012695, -5.747499942779541, -4.984000205993652, -5.110799789428711, -5.061299800872803, -5.08050012588501, -4.958799839019775, -5.4741997718811035, -5.256400108337402, -5.38539981842041, -5.155300140380859, -5.510900020599365, -5.156700134277344, -5.0970001220703125, -4.910399913787842, -5.436299800872803, -5.412399768829346, -5.166999816894531, -5.325399875640869, -5.381899833679199, -5.437399864196777, -5.4604997634887695, -4.913899898529053, -4.937699794769287, -5.069799900054932, -5.2895002365112305, -5.400000095367432, -5.497000217437744, -5.538599967956543, -5.566299915313721, -5.6809000968933105, -5.679999828338623, -5.730899810791016, -5.760000228881836, -5.789999961853027, -5.792699813842773, -5.822500228881836, -5.938300132751465, -5.940400123596191, -5.99459981918335, -6.013400077819824, -6.013500213623047, -6.0366997718811035, -5.749599933624268, -6.072700023651123, -6.093200206756592, -6.275000095367432, -6.280799865722656, -5.879899978637695, -6.339000225067139, -6.388400077819824, -6.394199848175049, -5.821199893951416, -5.281799793243408, -4.6768999099731445, -5.780799865722656, -6.111199855804443, -5.267399787902832, -5.2906999588012695, -4.639400005340576, -4.510900020599365, -5.514699935913086, -5.256400108337402, -5.572400093078613, -5.2144999504089355, -5.255300045013428, -5.20959997177124, -4.808199882507324, -4.499499797821045, -4.204400062561035, -5.0395002365112305, -5.113699913024902, -4.985899925231934, -5.3831000328063965, -5.338799953460693, -5.078999996185303, -4.813799858093262, -4.633200168609619, -4.828400135040283, -4.928299903869629, -5.118500232696533, -5.1346001625061035, -5.213600158691406, -5.3516998291015625, -4.076399803161621, -5.412799835205078, -5.611700057983398, -5.646999835968018, -5.657199859619141, -5.667399883270264, -5.656000137329102, -5.6975998878479, -5.7708001136779785, -5.812300205230713, -5.8308000564575195, -5.92609977722168, -5.682700157165527, -5.983399868011475, -5.986000061035156, -6.004499912261963, -6.1072001457214355, -6.114699840545654, -6.130000114440918, -6.132999897003174, -6.1331000328063965, -6.172999858856201, -6.238999843597412, -6.263999938964844, -6.268700122833252, -6.273799896240234, -6.288700103759766, -6.327899932861328, -6.331600189208984, -6.348599910736084, -6.341899871826172, -5.081299781799316, -4.929900169372559, -5.475500106811523, -3.703200101852417, -4.644899845123291, -5.22189998626709, -3.500200033187866, -4.53410005569458, -5.591100215911865, -4.759399890899658, -4.814499855041504, -5.05079984664917, -4.143899917602539, -5.078800201416016, -4.718200206756592, -5.582200050354004, -4.0879998207092285, -5.293600082397461, -4.549099922180176, -4.953700065612793, -4.906099796295166, -4.89739990234375, -4.941100120544434, -5.375100135803223, -5.490499973297119, -4.945700168609619, -5.087100028991699, -5.331399917602539, -5.034900188446045, -5.244100093841553, -4.970300197601318, -5.187099933624268, -5.2322001457214355], \"loglift\": [30.0, 29.0, 28.0, 27.0, 26.0, 25.0, 24.0, 23.0, 22.0, 21.0, 20.0, 19.0, 18.0, 17.0, 16.0, 15.0, 14.0, 13.0, 12.0, 11.0, 10.0, 9.0, 8.0, 7.0, 6.0, 5.0, 4.0, 3.0, 2.0, 1.0, 1.6157000064849854, 1.6122000217437744, 1.6119999885559082, 1.6087000370025635, 1.608199954032898, 1.606600046157837, 1.604200005531311, 1.6013000011444092, 1.601099967956543, 1.5999000072479248, 1.5988999605178833, 1.5980000495910645, 1.597599983215332, 1.5973999500274658, 1.5961999893188477, 1.5960999727249146, 1.5960999727249146, 1.594499945640564, 1.592900037765503, 1.5927000045776367, 1.5923999547958374, 1.5917999744415283, 1.5916999578475952, 1.5916999578475952, 1.5894999504089355, 1.5887000560760498, 1.587399959564209, 1.5870000123977661, 1.5867999792099, 1.5858999490737915, 1.5788999795913696, 1.5736000537872314, 1.5348000526428223, 1.531499981880188, 1.5392999649047852, 1.4759000539779663, 1.48580002784729, 1.3544000387191772, 1.246899962425232, 1.364300012588501, 1.354599952697754, 1.467900037765503, 1.398900032043457, 1.4213999509811401, 1.2562999725341797, 1.2404999732971191, 0.7167999744415283, 1.1787999868392944, 1.1187000274658203, 0.8501999974250793, 0.7491999864578247, 0.8934999704360962, 0.703499972820282, 0.7570000290870667, 0.6550999879837036, 0.7016000151634216, 0.16680000722408295, 0.24089999496936798, 0.8238000273704529, 0.8683000206947327, 0.4383000135421753, 0.26170000433921814, 0.527400016784668, 1.0146000385284424, 0.4180999994277954, 0.8425999879837036, 0.7113999724388123, 0.04650000110268593, 0.3249000012874603, 0.5817999839782715, 0.1145000010728836, 1.6984000205993652, 1.6907000541687012, 1.687000036239624, 1.6827000379562378, 1.6827000379562378, 1.6826000213623047, 1.6812000274658203, 1.6792999505996704, 1.6789000034332275, 1.6786999702453613, 1.6777000427246094, 1.6765999794006348, 1.6763999462127686, 1.6748000383377075, 1.6741000413894653, 1.673699975013733, 1.673200011253357, 1.6712000370025635, 1.669600009918213, 1.6692999601364136, 1.6683000326156616, 1.6676000356674194, 1.6676000356674194, 1.6676000356674194, 1.6676000356674194, 1.6676000356674194, 1.6676000356674194, 1.6657999753952026, 1.6657999753952026, 1.6648999452590942, 1.632099986076355, 1.5174000263214111, 1.5951000452041626, 1.3695000410079956, 1.398800015449524, 1.5813000202178955, 1.458899974822998, 1.3985999822616577, 1.4420000314712524, 1.5367000102996826, 1.1275999546051025, 1.3282999992370605, 1.5650999546051025, 0.9377999901771545, 1.0539000034332275, 0.9000999927520752, 0.9936000108718872, 1.2093000411987305, 1.3559999465942383, 1.1418999433517456, 0.880299985408783, 0.9876000285148621, 0.8381999731063843, 1.0605000257492065, 0.6061000227928162, 0.6187000274658203, 0.746999979019165, 0.26429998874664307, 0.5663999915122986, 1.0778000354766846, 0.48170000314712524, 0.17149999737739563, 0.33309999108314514, -0.46209999918937683, -0.11020000278949738, 0.5877000093460083, 1.7065999507904053, 1.6998000144958496, 1.6930999755859375, 1.692199945449829, 1.6902999877929688, 1.6892999410629272, 1.688599944114685, 1.6872999668121338, 1.6868000030517578, 1.6854000091552734, 1.6848000288009644, 1.6848000288009644, 1.6828999519348145, 1.6825000047683716, 1.6823999881744385, 1.679900050163269, 1.6792999505996704, 1.6775000095367432, 1.6770000457763672, 1.6761000156402588, 1.6754000186920166, 1.6747000217437744, 1.6747000217437744, 1.6747000217437744, 1.6728999614715576, 1.6720999479293823, 1.6720000505447388, 1.6715999841690063, 1.670199990272522, 1.6700999736785889, 1.6541999578475952, 1.6579999923706055, 1.6477999687194824, 1.5119999647140503, 1.5776000022888184, 1.5794999599456787, 1.5318000316619873, 1.4427000284194946, 1.4628000259399414, 1.4428999423980713, 1.1892999410629272, 1.4227999448776245, 1.0099999904632568, 1.055899977684021, 1.3911000490188599, 0.9785000085830688, 1.229200005531311, 1.0720000267028809, 0.21130000054836273, 0.7105000019073486, 0.1728000044822693, 0.7971000075340271, 1.0281000137329102, 0.8277999758720398, 0.026799999177455902, 0.33959999680519104, 0.6808000206947327, 0.0778999999165535, 0.8048999905586243, 0.7717999815940857, 0.10890000313520432, 0.4666999876499176, 0.0066999997943639755, -0.024900000542402267, 0.006300000008195639, 0.08529999852180481, 1.805899977684021, 1.8044999837875366, 1.8006000518798828, 1.7999999523162842, 1.7997000217437744, 1.7990000247955322, 1.7984000444412231, 1.7970000505447388, 1.7969000339508057, 1.7967000007629395, 1.795699954032898, 1.7955000400543213, 1.794600009918213, 1.7944999933242798, 1.7939000129699707, 1.792799949645996, 1.7904000282287598, 1.7888000011444092, 1.7878999710083008, 1.787600040435791, 1.7862999439239502, 1.7861000299453735, 1.7854000329971313, 1.7853000164031982, 1.7851999998092651, 1.7847000360488892, 1.78410005569458, 1.784000039100647, 1.781999945640564, 1.781499981880188, 1.7491999864578247, 1.730299949645996, 1.6337000131607056, 1.1028000116348267, 1.5256999731063843, 0.9258999824523926, 1.6212999820709229, 1.2537000179290771, 0.619700014591217, 0.9700000286102295, 1.3487000465393066, 1.3207999467849731, 1.5317000150680542, 0.9531000256538391, 0.8723999857902527, 0.7039999961853027, 0.7009999752044678, 0.5493000149726868, 1.1055999994277954, 0.7505999803543091, 0.914900004863739, 0.451200008392334, 1.1158000230789185, 0.38269999623298645, 0.14970000088214874, -0.31299999356269836, 0.9174000024795532, 0.8065000176429749, -0.27950000762939453, 0.17389999330043793, 0.10670000314712524, -0.14880000054836273, -0.20749999582767487, 1.94350004196167, 1.9433000087738037, 1.9420000314712524, 1.9392000436782837, 1.937600016593933, 1.9359999895095825, 1.9354000091552734, 1.9349000453948975, 1.9327000379562378, 1.9327000379562378, 1.9316999912261963, 1.9311000108718872, 1.9305000305175781, 1.930299997329712, 1.929800033569336, 1.926900029182434, 1.926800012588501, 1.9251999855041504, 1.9249000549316406, 1.9248000383377075, 1.9242000579833984, 1.923799991607666, 1.9230999946594238, 1.9225000143051147, 1.916599988937378, 1.916599988937378, 1.9158999919891357, 1.914199948310852, 1.9121999740600586, 1.9120999574661255, 1.9018000364303589, 1.8803000450134277, 1.850600004196167, 1.876099944114685, 1.902400016784668, 1.7977999448776245, 1.768399953842163, 1.6090999841690063, 1.5708999633789062, 1.7997000217437744, 1.718000054359436, 1.7822999954223633, 1.6519999504089355, 1.6627999544143677, 1.618499994277954, 1.375599980354309, 1.2055000066757202, 1.0422999858856201, 1.375499963760376, 1.3287999629974365, 1.1100000143051147, 1.5370999574661255, 1.4180999994277954, 1.0295000076293945, 0.439300000667572, 0.08179999887943268, 0.42010000348091125, 0.314300000667572, 0.133200004696846, -0.5371999740600586, -0.3260999917984009, 0.8420000076293945, 1.9879000186920166, 1.9752999544143677, 1.972499966621399, 1.9717999696731567, 1.97160005569458, 1.9714000225067139, 1.9711999893188477, 1.9702999591827393, 1.9692000150680542, 1.9680999517440796, 1.9677000045776367, 1.9652999639511108, 1.9648000001907349, 1.9637000560760498, 1.9635000228881836, 1.9631999731063843, 1.9601000547409058, 1.9598000049591064, 1.9594000577926636, 1.9593000411987305, 1.9593000411987305, 1.9577000141143799, 1.9555000066757202, 1.954699993133545, 1.9545999765396118, 1.9538999795913696, 1.9537999629974365, 1.952299952507019, 1.952299952507019, 1.9514000415802002, 1.951200008392334, 1.902999997138977, 1.8634999990463257, 1.881600022315979, 1.6262999773025513, 1.7187999486923218, 1.8015999794006348, 1.4154000282287598, 1.5369999408721924, 1.788699984550476, 1.4637000560760498, 1.4577000141143799, 1.5220999717712402, 1.1461999416351318, 1.4348000288009644, 1.2447999715805054, 1.6842999458312988, 0.6269999742507935, 1.3909000158309937, 0.573199987411499, 0.9828000068664551, 0.8734999895095825, 0.671500027179718, 0.614300012588501, 1.3371000289916992, 1.551900029182434, -0.3483000099658966, 0.09860000014305115, 0.9052000045776367, -0.14730000495910645, 0.5212000012397766, -0.5918999910354614, 0.05550000071525574, 0.3073999881744385]}, \"token.table\": {\"Topic\": [6, 3, 4, 5, 1, 3, 6, 1, 3, 1, 1, 1, 4, 6, 1, 2, 6, 5, 3, 6, 4, 1, 2, 3, 4, 5, 6, 2, 1, 2, 3, 5, 1, 2, 3, 4, 5, 6, 2, 6, 1, 6, 2, 4, 3, 3, 5, 1, 2, 4, 2, 3, 4, 5, 5, 1, 2, 3, 4, 5, 6, 1, 2, 3, 5, 6, 1, 3, 4, 3, 6, 4, 3, 3, 5, 5, 5, 1, 2, 3, 4, 5, 6, 6, 5, 6, 6, 6, 5, 3, 4, 5, 6, 1, 3, 4, 5, 3, 2, 3, 4, 1, 2, 3, 4, 3, 6, 2, 5, 6, 1, 2, 3, 4, 5, 6, 5, 1, 2, 6, 1, 4, 4, 1, 1, 6, 5, 2, 6, 3, 5, 1, 2, 3, 4, 1, 2, 4, 1, 2, 3, 4, 5, 6, 1, 2, 3, 4, 5, 6, 3, 1, 4, 5, 4, 1, 2, 3, 4, 6, 5, 1, 2, 3, 4, 5, 6, 3, 2, 3, 2, 1, 1, 2, 3, 4, 6, 1, 3, 4, 6, 1, 1, 2, 5, 2, 1, 2, 3, 4, 5, 6, 1, 3, 5, 6, 2, 3, 6, 4, 1, 6, 6, 4, 1, 2, 3, 4, 5, 6, 4, 1, 2, 3, 4, 6, 2, 3, 4, 5, 4, 1, 2, 3, 4, 5, 6, 4, 2, 3, 4, 5, 6, 2, 5, 6, 1, 2, 3, 4, 6, 2, 4, 1, 2, 4, 5, 6, 1, 3, 4, 5, 6, 6, 5, 1, 2, 3, 5, 5, 2, 4, 4, 2, 4, 5, 6, 5, 4, 1, 3, 4, 3, 4, 5, 1, 1, 2, 2, 3, 6, 6, 2, 3, 2, 1, 2, 1, 2, 3, 4, 5, 6, 1, 2, 3, 5, 2, 3, 1, 3, 5, 2, 3, 4, 5, 1, 2, 3, 4, 5, 1, 2, 3, 4, 5, 6, 5, 1, 5, 2, 1, 1, 2, 4, 5, 6, 1, 2, 3, 4, 5, 2, 3, 4, 6, 5, 6, 1, 2, 3, 6, 3, 6, 3, 4, 5, 1, 2, 3, 4, 6, 2, 1, 1, 4, 1, 2, 3, 4, 5, 1, 2, 3, 4, 5, 2, 4, 5, 1, 1, 4, 1, 2, 3, 4, 5, 6, 2, 4, 5, 1, 1, 2, 3, 4, 5, 6, 5, 1, 2, 3, 4, 3, 1, 3, 4, 2, 3, 5, 6, 1, 1, 2, 5, 2, 1, 2, 3, 4, 6, 3, 2, 6, 1, 2, 3, 6, 1, 1, 2, 4, 5, 2, 3, 4, 5, 6, 1, 2, 3, 4, 6, 6, 3, 2, 3, 4, 2, 5, 1, 2, 3, 4, 5, 6, 5, 1, 3, 1, 6, 2, 3, 4, 6, 1, 3, 5, 6, 1, 3, 6, 3, 5, 6, 4, 1, 6, 2, 3, 6, 6, 3, 6, 4, 1, 2, 3, 4, 5, 6, 5, 3, 6, 2, 5, 5, 3, 1, 2, 3, 4, 5, 3, 1, 1, 5, 3, 5, 6, 1, 4, 6, 4, 1, 3, 4, 6, 6, 6, 3, 5, 1, 2, 3, 4, 2, 2, 1, 2, 4, 5, 6, 1, 2, 3, 4, 3, 5, 1, 6, 2, 3, 5, 6, 1, 2, 3, 4, 6, 3, 5, 1, 2, 3, 4, 5, 6, 1, 3, 4, 6, 1, 6, 4, 1, 2, 1, 2, 4, 5, 3, 1, 1, 3, 4, 6, 3, 5, 1, 2, 3, 4, 1, 2, 3, 4, 5, 6, 1, 2, 3, 5, 6, 2, 5, 1, 2, 3, 4, 5, 6, 5, 6, 1, 3, 5, 4, 5, 2, 3, 4, 4, 1, 2, 4, 5, 6, 1, 2, 3, 6, 6, 1, 2, 1, 3, 1, 3, 6, 2, 1, 5, 1, 2, 3, 4, 5, 6, 1, 2, 3, 4, 5, 3, 4, 1, 2, 3, 4, 5, 1, 3, 1, 2, 3, 4, 5, 6, 1, 2, 3, 4, 5, 6, 1, 4, 5, 2, 6, 4, 5, 6, 6, 2, 3, 4, 2, 3, 4, 5, 6, 4, 5, 3, 6, 4, 4, 2, 3, 5, 6, 3, 5, 4, 2, 1, 2, 2, 5, 1, 4, 1, 2, 3, 4, 5, 6, 6, 3, 4, 6, 3, 2, 3, 4, 5, 2, 1, 2, 3, 4, 5, 5, 1, 3, 1, 2, 3, 4, 3, 2, 6, 2, 1, 2, 3, 4, 5, 3, 4, 6, 1, 2, 1, 2, 3, 4, 6, 1, 3, 1, 2, 3, 4, 6, 5, 4, 5, 3, 5], \"Freq\": [0.9569253325462341, 0.1978401094675064, 0.23447716236114502, 0.5642106533050537, 0.7607235908508301, 0.22464320063591003, 0.010211055167019367, 0.035733453929424286, 0.9469364881515503, 0.9755439162254333, 0.9591110944747925, 0.2961450219154358, 0.06234632059931755, 0.6338542699813843, 0.6774752140045166, 0.31553640961647034, 0.9586203098297119, 0.9930887222290039, 0.9886384606361389, 0.9554222226142883, 0.9895421862602234, 0.10853293538093567, 0.3336382806301117, 0.04019738361239433, 0.4100133180618286, 0.02612829953432083, 0.08240463584661484, 0.9658418297767639, 0.5415634512901306, 0.07008468359708786, 0.025485338643193245, 0.3567947447299957, 0.13384638726711273, 0.49294647574424744, 0.006529092323035002, 0.2546345889568329, 0.08487819880247116, 0.02938091568648815, 0.9658704400062561, 0.9802052974700928, 0.91270911693573, 0.07713034749031067, 0.9737066030502319, 0.9618703126907349, 0.9825637340545654, 0.9840183258056641, 0.9718007445335388, 0.6862244606018066, 0.220269575715065, 0.08471906930208206, 0.006658880040049553, 0.14649537205696106, 0.5660048127174377, 0.273014098405838, 0.9570048451423645, 0.6376824975013733, 0.03888307884335518, 0.13220247626304626, 0.046659696847200394, 0.05443631112575531, 0.09331939369440079, 0.07969298213720322, 0.2109520137310028, 0.4031527638435364, 0.11719556897878647, 0.18751290440559387, 0.9441781640052795, 0.033720649778842926, 0.9789828062057495, 0.161592036485672, 0.8214261531829834, 0.9660226702690125, 0.956174373626709, 0.12608908116817474, 0.8646107912063599, 0.9657955169677734, 0.9848911166191101, 0.26799583435058594, 0.14130689203739166, 0.11207098513841629, 0.34595826268196106, 0.11207098513841629, 0.01949060708284378, 0.9692434668540955, 0.9671597480773926, 0.9801258444786072, 0.9716538786888123, 0.9866721034049988, 0.9770601987838745, 0.026255939155817032, 0.2625593841075897, 0.6826544404029846, 0.03150712698698044, 0.3954409956932068, 0.3896256983280182, 0.15119802951812744, 0.06396839767694473, 0.9740012884140015, 0.25629496574401855, 0.7261691093444824, 0.9754461646080017, 0.056300025433301926, 0.7370185256004333, 0.1484273374080658, 0.051181841641664505, 0.9817676544189453, 0.9857703447341919, 0.20602217316627502, 0.7513750195503235, 0.0363568551838398, 0.25450456142425537, 0.21632887423038483, 0.18610645830631256, 0.12248031795024872, 0.10180182754993439, 0.11770836263895035, 0.9747896790504456, 0.22971557080745697, 0.00696107791736722, 0.758757472038269, 0.9789650440216064, 0.018826249986886978, 0.9648625254631042, 0.9629226326942444, 0.9518871307373047, 0.942758321762085, 0.9705873727798462, 0.9892677664756775, 0.9888632893562317, 0.987403929233551, 0.9919761419296265, 0.1303199976682663, 0.009774000383913517, 0.36815398931503296, 0.4887000024318695, 0.2457643747329712, 0.5274942517280579, 0.22778160870075226, 0.1421796828508377, 0.32662898302078247, 0.28820204734802246, 0.06916849315166473, 0.07301118224859238, 0.09991004317998886, 0.06085260212421417, 0.30426299571990967, 0.41490408778190613, 0.011064109392464161, 0.07191670686006546, 0.13830137252807617, 0.9698969125747681, 0.9634937047958374, 0.05073564872145653, 0.9386095404624939, 0.9478728175163269, 0.010256667621433735, 0.0051283338107168674, 0.8205334544181824, 0.08205334097146988, 0.08205334097146988, 0.9806250929832458, 0.1262834519147873, 0.0030800842214375734, 0.49589356780052185, 0.09856269508600235, 0.16016438603401184, 0.11396311968564987, 0.9806115031242371, 0.9493292570114136, 0.9761092662811279, 0.9805702567100525, 0.9747357964515686, 0.4568565785884857, 0.2741139531135559, 0.0913713127374649, 0.06449739634990692, 0.10749566555023193, 0.027445552870631218, 0.027445552870631218, 0.28817829489707947, 0.6449704766273499, 0.9731316566467285, 0.13358698785305023, 0.194308340549469, 0.6557906270027161, 0.9699232578277588, 0.35054877400398254, 0.2322913557291031, 0.1267043799161911, 0.0886930599808693, 0.06757566332817078, 0.13515132665634155, 0.9773340821266174, 0.14267945289611816, 0.7071938514709473, 0.14267945289611816, 0.36940163373947144, 0.5252429246902466, 0.10389421135187149, 0.97176593542099, 0.07768382132053375, 0.9192585349082947, 0.9959089756011963, 0.9905068874359131, 0.004555394407361746, 0.4874272048473358, 0.1639941930770874, 0.12755104899406433, 0.05922012776136398, 0.15943880379199982, 0.9500722289085388, 0.05197405815124512, 0.12869766354560852, 0.12127280235290527, 0.0024749550502747297, 0.6929874420166016, 0.46538570523262024, 0.1811106950044632, 0.13296733796596527, 0.22008387744426727, 0.9735759496688843, 0.418224573135376, 0.11905663460493088, 0.02136913873255253, 0.23811326920986176, 0.13432030379772186, 0.07021288573741913, 0.9838368892669678, 0.029075561091303825, 0.08141157031059265, 0.029075561091303825, 0.5640658736228943, 0.29657071828842163, 0.9509539008140564, 0.9922203421592712, 0.9803563952445984, 0.22284391522407532, 0.14454740285873413, 0.15057021379470825, 0.3613685071468353, 0.11443336308002472, 0.9952188730239868, 0.976152241230011, 0.23780220746994019, 0.20982548594474792, 0.07460461556911469, 0.004662788473069668, 0.47560441493988037, 0.9814375042915344, 0.3003838360309601, 0.11034508794546127, 0.24521130323410034, 0.3371655344963074, 0.9768096804618835, 0.958213746547699, 0.0970880463719368, 0.16990408301353455, 0.517802894115448, 0.2103574275970459, 0.9747329354286194, 0.9760339260101318, 0.9790136218070984, 0.962723970413208, 0.6910553574562073, 0.058813221752643585, 0.06616487354040146, 0.18379132449626923, 0.9733986258506775, 0.9796626567840576, 0.8513829708099365, 0.12680171430110931, 0.9697027206420898, 0.9599579572677612, 0.9782685041427612, 0.9714005589485168, 0.9884434938430786, 0.9646157622337341, 0.9709031581878662, 0.3003278970718384, 0.0686463788151741, 0.6263982057571411, 0.978828489780426, 0.9844237565994263, 0.9894969463348389, 0.9658418297767639, 0.8536080121994019, 0.1322491317987442, 0.30374932289123535, 0.12270668148994446, 0.19512373208999634, 0.03822011500597, 0.09655607491731644, 0.2413901835680008, 0.040018148720264435, 0.9293103218078613, 0.0044464608654379845, 0.022232305258512497, 0.98887699842453, 0.9726927876472473, 0.7945702075958252, 0.18236036598682404, 0.013025741092860699, 0.1786412000656128, 0.5923365950584412, 0.02820650488138199, 0.20214661955833435, 0.07988247275352478, 0.43787428736686707, 0.19822686910629272, 0.28106796741485596, 0.0029586099553853273, 0.2323005050420761, 0.1147162988781929, 0.2236967831850052, 0.3020862638950348, 0.05257830396294594, 0.0755215659737587, 0.9756976962089539, 0.03624469414353371, 0.9423620700836182, 0.9625935554504395, 0.9809368252754211, 0.23581244051456451, 0.0031441659666597843, 0.4276065528392792, 0.06602748483419418, 0.267254114151001, 0.3776979148387909, 0.2945568561553955, 0.13302567601203918, 0.14015205204486847, 0.05226008966565132, 0.33696237206459045, 0.16416116058826447, 0.4924834966659546, 0.008640061132609844, 0.8372106552124023, 0.1534886211156845, 0.18632733821868896, 0.0038818195462226868, 0.48134562373161316, 0.3260728418827057, 0.9849446415901184, 0.9851057529449463, 0.9754319787025452, 0.1500227153301239, 0.8438777327537537, 0.4676907956600189, 0.15892405807971954, 0.0045406874269247055, 0.0045406874269247055, 0.36325499415397644, 0.9703078269958496, 0.9725572466850281, 0.9843951463699341, 0.9891685247421265, 0.9821256399154663, 0.07595612853765488, 0.03797806426882744, 0.607649028301239, 0.2658464312553406, 0.00672875577583909, 0.7401630878448486, 0.13457511365413666, 0.04037253186106682, 0.08074506372213364, 0.07380068302154541, 0.024600226432085037, 0.9020082950592041, 0.9767647385597229, 0.07584182173013687, 0.9101018905639648, 0.1276080310344696, 0.16360002756118774, 0.09488801658153534, 0.04253600910305977, 0.011452002450823784, 0.5611481070518494, 0.9410805106163025, 0.8288838267326355, 0.1572021096944809, 0.9860641956329346, 0.3971014618873596, 0.1346493512392044, 0.07759454101324081, 0.13008496165275574, 0.2168082743883133, 0.045643847435712814, 0.9732274413108826, 0.44637590646743774, 0.30585014820098877, 0.15292507410049438, 0.09092842042446136, 0.9783272743225098, 0.2713482677936554, 0.615056037902832, 0.09949436038732529, 0.5689577460289001, 0.22881996631622314, 0.16697673499584198, 0.03710594028234482, 0.9543200731277466, 0.0883479118347168, 0.8315097689628601, 0.07795403897762299, 0.9658418297767639, 0.11433147639036179, 0.27439555525779724, 0.5030584931373596, 0.09908728301525116, 0.007622098550200462, 0.9426735639572144, 0.8605114817619324, 0.12293020635843277, 0.1432085633277893, 0.841350257396698, 0.7856965065002441, 0.20951907336711884, 0.961670458316803, 0.10544825345277786, 0.28621670603752136, 0.07532018423080444, 0.5347732901573181, 0.9606817364692688, 0.3582320809364319, 0.24077893793582916, 0.3288688063621521, 0.0704718828201294, 0.26134487986564636, 0.12413881719112396, 0.026134489104151726, 0.4050845801830292, 0.18947504460811615, 0.9463011622428894, 0.9673020839691162, 0.7795820832252502, 0.15967343747615814, 0.04696277529001236, 0.02915114164352417, 0.9619876742362976, 0.40292608737945557, 0.044174619019031525, 0.08031748980283737, 0.06425399333238602, 0.15394185483455658, 0.25567734241485596, 0.9770128130912781, 0.9667630791664124, 0.958756148815155, 0.7581839561462402, 0.22921839356422424, 0.9730934500694275, 0.9849085807800293, 0.9752400517463684, 0.9907773733139038, 0.4098900258541107, 0.1348322480916977, 0.39910343289375305, 0.05393289774656296, 0.03762467950582504, 0.884179949760437, 0.07524935901165009, 0.7483276724815369, 0.0733654573559761, 0.17607709765434265, 0.9891257882118225, 0.98326176404953, 0.9833545684814453, 0.2959047555923462, 0.17754285037517548, 0.5227651000022888, 0.983435869216919, 0.9642521739006042, 0.962188720703125, 0.9695557951927185, 0.20576076209545135, 0.3386479318141937, 0.10931040346622467, 0.10073704272508621, 0.09430702030658722, 0.1500338912010193, 0.9695195555686951, 0.875952959060669, 0.11944813281297684, 0.27687275409698486, 0.7198691368103027, 0.9685140252113342, 0.9569065570831299, 0.3334200382232666, 0.31997567415237427, 0.2527539134025574, 0.04302193969488144, 0.05108855292201042, 0.9970826506614685, 0.9793441295623779, 0.9711800217628479, 0.9526508450508118, 0.0320923775434494, 0.08557967096567154, 0.8771916627883911, 0.23710128664970398, 0.7429173588752747, 0.9629654288291931, 0.9911949038505554, 0.9118685722351074, 0.021711155772209167, 0.043422311544418335, 0.021711155772209167, 0.97593754529953, 0.9648474454879761, 0.9875059127807617, 0.9926263689994812, 0.9514839053153992, 0.003203649539500475, 0.044851090759038925, 0.9641592502593994, 0.9633290767669678, 0.9715443849563599, 0.05513783171772957, 0.18609018623828888, 0.40664151310920715, 0.18609018623828888, 0.165413498878479, 0.15179871022701263, 0.6071948409080505, 0.2313123196363449, 0.007228509988635778, 0.9656249284744263, 0.9709123969078064, 0.953578531742096, 0.9778612852096558, 0.5223743915557861, 0.003602581797167659, 0.47193822264671326, 0.9497450590133667, 0.41637200117111206, 0.07851586490869522, 0.07375732809305191, 0.002379268640652299, 0.42826834321022034, 0.9849446415901184, 0.9613296985626221, 0.3982669413089752, 0.0995667353272438, 0.1612032800912857, 0.03318891301751137, 0.11379054933786392, 0.1991334706544876, 0.47831404209136963, 0.062219712883234024, 0.32665348052978516, 0.12832815945148468, 0.9861894249916077, 0.010491376742720604, 0.9768228530883789, 0.9163115620613098, 0.06392871588468552, 0.985467255115509, 0.03477824851870537, 0.7477323412895203, 0.19128036499023438, 0.9740263819694519, 0.9559262990951538, 0.009054680354893208, 0.3621872365474701, 0.4980074465274811, 0.12676553428173065, 0.7701730132102966, 0.22652147710323334, 0.6029635071754456, 0.0320725254714489, 0.282238245010376, 0.0833885669708252, 0.007652859669178724, 0.1989743560552597, 0.11479289829730988, 0.3290729820728302, 0.11479289829730988, 0.22958579659461975, 0.19416140019893646, 0.11528333276510239, 0.4065254330635071, 0.139553502202034, 0.139553502202034, 0.9658418297767639, 0.9626269936561584, 0.041006334125995636, 0.11618461459875107, 0.1754159927368164, 0.18908476829528809, 0.4032289683818817, 0.07517828047275543, 0.2575348913669586, 0.73826664686203, 0.8104327917098999, 0.16820304095745087, 0.971351683139801, 0.25318071246147156, 0.7365257143974304, 0.7083409428596497, 0.09444545954465866, 0.18889091908931732, 0.9892523884773254, 0.6847913265228271, 0.1276729553937912, 0.1799028068780899, 0.002901658182963729, 0.005803316365927458, 0.7707783579826355, 0.22756312787532806, 0.9629961848258972, 0.9652369618415833, 0.9773936867713928, 0.9636952877044678, 0.9632443785667419, 0.2294466346502304, 0.769321084022522, 0.10164094716310501, 0.3112753927707672, 0.5844354629516602, 0.9658418297767639, 0.8622545003890991, 0.12541882693767548, 0.2976216971874237, 0.25412315130233765, 0.20146699249744415, 0.05494554340839386, 0.16254723072052002, 0.02976216934621334, 0.46047043800354004, 0.04985985532402992, 0.1906406283378601, 0.19357356429100037, 0.10558557510375977, 0.056121937930583954, 0.9400424361228943, 0.27264404296875, 0.004544067662209272, 0.27718812227249146, 0.422598272562027, 0.0227203369140625, 0.1498248279094696, 0.8308467268943787, 0.2499069720506668, 0.2368166148662567, 0.21539601683616638, 0.11900331825017929, 0.0833023265004158, 0.0963926911354065, 0.1225128322839737, 0.4469449818134308, 0.004537512548267841, 0.08621273934841156, 0.19511303305625916, 0.14520040154457092, 0.09282885491847992, 0.3197438418865204, 0.5879160761833191, 0.8926743865013123, 0.08751709759235382, 0.9780927300453186, 0.0939856544137001, 0.902262270450592, 0.9560332298278809, 0.9792780876159668, 0.9369204640388489, 0.055112965404987335, 0.19507478177547455, 0.35684409737586975, 0.3901495635509491, 0.03330545127391815, 0.023789606988430023, 0.14039579033851624, 0.8564143776893616, 0.17307384312152863, 0.8076779842376709, 0.9782199263572693, 0.9653413891792297, 0.1631001979112625, 0.2782297432422638, 0.009594129398465157, 0.5468653440475464, 0.20511147379875183, 0.794806957244873, 0.9808362722396851, 0.9655796885490417, 0.08956091105937958, 0.8956090807914734, 0.06187346205115318, 0.9281019568443298, 0.15468540787696838, 0.8176229000091553, 0.2717379927635193, 0.3847077190876007, 0.0885438397526741, 0.058011483401060104, 0.012212944217026234, 0.18624739348888397, 0.9645515084266663, 0.18144090473651886, 0.22377711534500122, 0.5866588950157166, 0.9629530906677246, 0.7147746682167053, 0.1377430409193039, 0.029782278463244438, 0.11168354004621506, 0.9733393788337708, 0.3781334161758423, 0.07988733798265457, 0.015977468341588974, 0.09586481004953384, 0.4313916265964508, 0.9801123738288879, 0.04959829896688461, 0.942367672920227, 0.007348221261054277, 0.5364201664924622, 0.09552687406539917, 0.360062837600708, 0.9833776950836182, 0.9886473417282104, 0.974717378616333, 0.9785035848617554, 0.22149188816547394, 0.5616401433944702, 0.1819397658109665, 0.02636808156967163, 0.010547232814133167, 0.29919180274009705, 0.1293802410364151, 0.574124813079834, 0.2253364771604538, 0.7698996067047119, 0.39707139134407043, 0.12718692421913147, 0.1489017754793167, 0.07445088773965836, 0.25127172470092773, 0.9403036832809448, 0.03548315912485123, 0.21160972118377686, 0.4200611114501953, 0.14844264090061188, 0.16423441469669342, 0.05369202047586441, 0.9768213033676147, 0.6208620071411133, 0.3705144226551056, 0.02710326761007309, 0.9486143589019775], \"Term\": [\"addiction\", \"already\", \"already\", \"already\", \"always\", \"always\", \"always\", \"anger\", \"anger\", \"animal\", \"annoying\", \"anxiety\", \"anxiety\", \"anxiety\", \"anxious\", \"anxious\", \"anywhere\", \"apartment\", \"area\", \"article\", \"asleep\", \"attack\", \"attack\", \"attack\", \"attack\", \"attack\", \"attack\", \"austin\", \"away\", \"away\", \"away\", \"away\", \"back\", \"back\", \"back\", \"back\", \"back\", \"back\", \"backpain\", \"ball\", \"bitch\", \"bitch\", \"breath\", \"brings\", \"broke\", \"brought\", \"building\", \"call\", \"call\", \"call\", \"calm\", \"calm\", \"calm\", \"calm\", \"cant\", \"care\", \"care\", \"care\", \"care\", \"care\", \"care\", \"cause\", \"cause\", \"cause\", \"cause\", \"cause\", \"certain\", \"certain\", \"chest\", \"child\", \"child\", \"christmas\", \"clear\", \"close\", \"close\", \"code\", \"coffee\", \"come\", \"come\", \"come\", \"come\", \"come\", \"come\", \"comment\", \"condition\", \"conversation\", \"cool\", \"cope\", \"corona\", \"coronavirus\", \"coronavirus\", \"coronavirus\", \"coronavirus\", \"could\", \"could\", \"could\", \"could\", \"counseling\", \"couple\", \"couple\", \"cute\", \"day\", \"day\", \"day\", \"day\", \"death\", \"decade\", \"definitely\", \"definitely\", \"definitely\", \"depression\", \"depression\", \"depression\", \"depression\", \"depression\", \"depression\", \"discussion\", \"disorder\", \"disorder\", \"disorder\", \"doctor\", \"doctor\", \"dog\", \"dont\", \"dread\", \"driver\", \"drop\", \"dying\", \"eating\", \"economic\", \"either\", \"even\", \"even\", \"even\", \"even\", \"ever\", \"ever\", \"ever\", \"every\", \"every\", \"every\", \"every\", \"every\", \"every\", \"everyone\", \"everyone\", \"everyone\", \"everyone\", \"everyone\", \"everyone\", \"everytime\", \"excuse\", \"exercise\", \"exercise\", \"falling\", \"family\", \"family\", \"family\", \"family\", \"family\", \"favorite\", \"fear\", \"fear\", \"fear\", \"fear\", \"fear\", \"fear\", \"feed\", \"fibromyalgia\", \"fighting\", \"figure\", \"film\", \"first\", \"first\", \"first\", \"first\", \"first\", \"food\", \"food\", \"food\", \"food\", \"forgot\", \"free\", \"free\", \"free\", \"friday\", \"friend\", \"friend\", \"friend\", \"friend\", \"friend\", \"friend\", \"front\", \"fuck\", \"fuck\", \"fuck\", \"fucking\", \"fucking\", \"fucking\", \"funny\", \"game\", \"game\", \"gave\", \"gem\", \"getting\", \"getting\", \"getting\", \"getting\", \"getting\", \"getting\", \"gift\", \"give\", \"give\", \"give\", \"give\", \"give\", \"going\", \"going\", \"going\", \"going\", \"gone\", \"good\", \"good\", \"good\", \"good\", \"good\", \"good\", \"grateful\", \"great\", \"great\", \"great\", \"great\", \"great\", \"hair\", \"hand\", \"hang\", \"hard\", \"hard\", \"hard\", \"hard\", \"hard\", \"hate\", \"healing\", \"health\", \"health\", \"health\", \"health\", \"health\", \"hello\", \"help\", \"help\", \"help\", \"help\", \"helping\", \"hemp\", \"high\", \"high\", \"high\", \"high\", \"hit\", \"holiday\", \"honestly\", \"hoping\", \"hour\", \"hour\", \"hour\", \"hour\", \"hurt\", \"ignore\", \"illness\", \"illness\", \"immune\", \"increased\", \"individual\", \"induced\", \"inducing\", \"interview\", \"isolation\", \"issue\", \"issue\", \"issue\", \"jesus\", \"joke\", \"kicking\", \"killeen\", \"kind\", \"kind\", \"know\", \"know\", \"know\", \"know\", \"know\", \"know\", \"last\", \"last\", \"last\", \"last\", \"later\", \"laugh\", \"leave\", \"leave\", \"leave\", \"level\", \"level\", \"level\", \"level\", \"life\", \"life\", \"life\", \"life\", \"life\", \"like\", \"like\", \"like\", \"like\", \"like\", \"like\", \"list\", \"lord\", \"lord\", \"loss\", \"lost\", \"love\", \"love\", \"love\", \"love\", \"love\", \"make\", \"make\", \"make\", \"make\", \"make\", \"making\", \"making\", \"making\", \"making\", \"manage\", \"manage\", \"many\", \"many\", \"many\", \"many\", \"mapso\", \"marriage\", \"mass\", \"meditation\", \"meditation\", \"mental\", \"mental\", \"mental\", \"mental\", \"mental\", \"mentally\", \"mess\", \"mindset\", \"miss\", \"missed\", \"moment\", \"moment\", \"moment\", \"moment\", \"month\", \"month\", \"month\", \"month\", \"month\", \"morning\", \"morning\", \"morning\", \"motivation\", \"movie\", \"movie\", \"much\", \"much\", \"much\", \"much\", \"much\", \"much\", \"muscle\", \"music\", \"music\", \"must\", \"need\", \"need\", \"need\", \"need\", \"need\", \"need\", \"nerve\", \"never\", \"never\", \"never\", \"never\", \"newjersey\", \"news\", \"news\", \"news\", \"next\", \"next\", \"next\", \"next\", \"nigga\", \"night\", \"night\", \"night\", \"noopioids\", \"nothing\", \"nothing\", \"nothing\", \"nothing\", \"nothing\", \"notification\", \"office\", \"office\", \"okay\", \"okay\", \"others\", \"others\", \"overcome\", \"pain\", \"pain\", \"pain\", \"pain\", \"painrelief\", \"pandemic\", \"pandemic\", \"pandemic\", \"pandemic\", \"panic\", \"panic\", \"panic\", \"panic\", \"panic\", \"paper\", \"parenting\", \"past\", \"past\", \"past\", \"patient\", \"patient\", \"people\", \"people\", \"people\", \"people\", \"people\", \"people\", \"perfect\", \"performance\", \"personally\", \"phone\", \"phone\", \"physically\", \"picture\", \"plane\", \"playing\", \"please\", \"please\", \"please\", \"please\", \"police\", \"police\", \"police\", \"positive\", \"positive\", \"positive\", \"power\", \"pray\", \"project\", \"quarantine\", \"quarantine\", \"quarantine\", \"quickly\", \"racist\", \"rather\", \"realize\", \"really\", \"really\", \"really\", \"really\", \"really\", \"really\", \"related\", \"relationship\", \"relationship\", \"relief\", \"relief\", \"return\", \"ridden\", \"right\", \"right\", \"right\", \"right\", \"right\", \"roof\", \"say\", \"scary\", \"schedule\", \"school\", \"school\", \"school\", \"season\", \"season\", \"seem\", \"seen\", \"self\", \"self\", \"self\", \"self\", \"send\", \"sending\", \"sent\", \"separation\", \"shit\", \"shit\", \"shit\", \"shopping\", \"short\", \"shoulderpain\", \"show\", \"show\", \"show\", \"show\", \"show\", \"since\", \"since\", \"since\", \"since\", \"single\", \"sitting\", \"size\", \"skill\", \"sleep\", \"sleep\", \"sleep\", \"smoking\", \"social\", \"social\", \"social\", \"social\", \"social\", \"soma\", \"somehow\", \"someone\", \"someone\", \"someone\", \"someone\", \"someone\", \"someone\", \"something\", \"something\", \"something\", \"something\", \"sometimes\", \"sometimes\", \"song\", \"soon\", \"soon\", \"sort\", \"sound\", \"sound\", \"sound\", \"speaking\", \"stand\", \"started\", \"started\", \"started\", \"started\", \"state\", \"state\", \"stay\", \"stay\", \"stay\", \"stay\", \"still\", \"still\", \"still\", \"still\", \"still\", \"still\", \"stop\", \"stop\", \"stop\", \"stop\", \"stop\", \"stopopioids\", \"strength\", \"stress\", \"stress\", \"stress\", \"stress\", \"stress\", \"stress\", \"struggle\", \"struggle\", \"suffer\", \"suffer\", \"sunday\", \"support\", \"support\", \"symptom\", \"symptom\", \"symptom\", \"system\", \"take\", \"take\", \"take\", \"take\", \"take\", \"taking\", \"taking\", \"task\", \"taught\", \"teacher\", \"term\", \"texas\", \"text\", \"text\", \"thank\", \"thank\", \"thank\", \"thepainstopper\", \"therapist\", \"therapist\", \"thing\", \"thing\", \"thing\", \"thing\", \"thing\", \"thing\", \"think\", \"think\", \"think\", \"think\", \"think\", \"though\", \"though\", \"thought\", \"thought\", \"thought\", \"thought\", \"thought\", \"thru\", \"thru\", \"time\", \"time\", \"time\", \"time\", \"time\", \"time\", \"today\", \"today\", \"today\", \"today\", \"today\", \"today\", \"tonight\", \"tonight\", \"tonight\", \"train\", \"train\", \"treat\", \"trigger\", \"trigger\", \"triggering\", \"trip\", \"trump\", \"trump\", \"trying\", \"trying\", \"trying\", \"trying\", \"trying\", \"tweet\", \"tweet\", \"type\", \"type\", \"uncut\", \"usual\", \"video\", \"video\", \"video\", \"video\", \"virus\", \"virus\", \"visit\", \"wake\", \"waking\", \"waking\", \"walk\", \"walk\", \"walking\", \"walking\", \"want\", \"want\", \"want\", \"want\", \"want\", \"want\", \"watched\", \"watching\", \"watching\", \"watching\", \"wave\", \"week\", \"week\", \"week\", \"week\", \"weight\", \"well\", \"well\", \"well\", \"well\", \"well\", \"wherever\", \"white\", \"white\", \"whole\", \"whole\", \"whole\", \"whole\", \"window\", \"wish\", \"wishing\", \"woke\", \"work\", \"work\", \"work\", \"work\", \"work\", \"working\", \"working\", \"working\", \"worst\", \"worst\", \"would\", \"would\", \"would\", \"would\", \"would\", \"yeah\", \"yeah\", \"year\", \"year\", \"year\", \"year\", \"year\", \"yoga\", \"york\", \"york\", \"youtube\", \"youtube\"]}, \"R\": 30, \"lambda.step\": 0.01, \"plot.opts\": {\"xlab\": \"PC1\", \"ylab\": \"PC2\"}, \"topic.order\": [4, 6, 1, 2, 3, 5]};\n",
       "\n",
       "function LDAvis_load_lib(url, callback){\n",
       "  var s = document.createElement('script');\n",
       "  s.src = url;\n",
       "  s.async = true;\n",
       "  s.onreadystatechange = s.onload = callback;\n",
       "  s.onerror = function(){console.warn(\"failed to load library \" + url);};\n",
       "  document.getElementsByTagName(\"head\")[0].appendChild(s);\n",
       "}\n",
       "\n",
       "if(typeof(LDAvis) !== \"undefined\"){\n",
       "   // already loaded: just create the visualization\n",
       "   !function(LDAvis){\n",
       "       new LDAvis(\"#\" + \"ldavis_el2726351096446249243478999\", ldavis_el2726351096446249243478999_data);\n",
       "   }(LDAvis);\n",
       "}else if(typeof define === \"function\" && define.amd){\n",
       "   // require.js is available: use it to load d3/LDAvis\n",
       "   require.config({paths: {d3: \"https://cdnjs.cloudflare.com/ajax/libs/d3/3.5.5/d3.min\"}});\n",
       "   require([\"d3\"], function(d3){\n",
       "      window.d3 = d3;\n",
       "      LDAvis_load_lib(\"https://cdn.rawgit.com/bmabey/pyLDAvis/files/ldavis.v1.0.0.js\", function(){\n",
       "        new LDAvis(\"#\" + \"ldavis_el2726351096446249243478999\", ldavis_el2726351096446249243478999_data);\n",
       "      });\n",
       "    });\n",
       "}else{\n",
       "    // require.js not available: dynamically load d3 & LDAvis\n",
       "    LDAvis_load_lib(\"https://cdnjs.cloudflare.com/ajax/libs/d3/3.5.5/d3.min.js\", function(){\n",
       "         LDAvis_load_lib(\"https://cdn.rawgit.com/bmabey/pyLDAvis/files/ldavis.v1.0.0.js\", function(){\n",
       "                 new LDAvis(\"#\" + \"ldavis_el2726351096446249243478999\", ldavis_el2726351096446249243478999_data);\n",
       "            })\n",
       "         });\n",
       "}\n",
       "</script>"
      ],
      "text/plain": [
       "PreparedData(topic_coordinates=              x         y  topics  cluster       Freq\n",
       "topic                                                \n",
       "3     -0.063257 -0.131729       1        1  19.647491\n",
       "5      0.054232 -0.129822       2        1  18.211004\n",
       "0     -0.024381  0.001550       3        1  18.079288\n",
       "1      0.064233 -0.073605       4        1  16.237560\n",
       "2      0.211824  0.185760       5        1  14.184841\n",
       "4     -0.242651  0.147846       6        1  13.639818, topic_info=           Term        Freq        Total Category  logprob  loglift\n",
       "235        give  404.000000   404.000000  Default  30.0000  30.0000\n",
       "195        shit  312.000000   312.000000  Default  29.0000  29.0000\n",
       "90         much  611.000000   611.000000  Default  28.0000  28.0000\n",
       "481        gave  193.000000   193.000000  Default  27.0000  27.0000\n",
       "60         roof  217.000000   217.000000  Default  26.0000  26.0000\n",
       "..          ...         ...          ...      ...      ...      ...\n",
       "122  depression   74.001579   628.672424   Topic6  -5.0349  -0.1473\n",
       "205       still   60.031284   261.340210   Topic6  -5.2441   0.5212\n",
       "142        like   78.939201  1046.058838   Topic6  -4.9703  -0.5919\n",
       "220       today   63.553772   440.770142   Topic6  -5.1871   0.0555\n",
       "408        want   60.748627   327.521362   Topic6  -5.2322   0.3074\n",
       "\n",
       "[422 rows x 6 columns], token_table=      Topic      Freq       Term\n",
       "term                            \n",
       "1692      6  0.956925  addiction\n",
       "112       3  0.197840    already\n",
       "112       4  0.234477    already\n",
       "112       5  0.564211    already\n",
       "247       1  0.760724     always\n",
       "...     ...       ...        ...\n",
       "724       5  0.976821       yoga\n",
       "1178      4  0.620862       york\n",
       "1178      5  0.370514       york\n",
       "1122      3  0.027103    youtube\n",
       "1122      5  0.948614    youtube\n",
       "\n",
       "[751 rows x 3 columns], R=30, lambda_step=0.01, plot_opts={'xlab': 'PC1', 'ylab': 'PC2'}, topic_order=[4, 6, 1, 2, 3, 5])"
      ]
     },
     "execution_count": 113,
     "metadata": {},
     "output_type": "execute_result"
    }
   ],
   "source": [
    "import pyLDAvis.gensim\n",
    "\n",
    "pyLDAvis.enable_notebook()\n",
    "\n",
    "vis = pyLDAvis.gensim.prepare(tweets_lda, tweets_corpus, dictionary=tweets_lda.id2word)\n",
    "vis"
   ]
  },
  {
   "cell_type": "markdown",
   "metadata": {},
   "source": [
    "### Using Random Tweets Dataset\n"
   ]
  },
  {
   "cell_type": "code",
   "execution_count": 45,
   "metadata": {},
   "outputs": [],
   "source": [
    "df = pd.read_csv('csv_files/random_tweets.csv', index_col= [0])"
   ]
  },
  {
   "cell_type": "code",
   "execution_count": 46,
   "metadata": {},
   "outputs": [
    {
     "data": {
      "text/html": [
       "<div>\n",
       "<style scoped>\n",
       "    .dataframe tbody tr th:only-of-type {\n",
       "        vertical-align: middle;\n",
       "    }\n",
       "\n",
       "    .dataframe tbody tr th {\n",
       "        vertical-align: top;\n",
       "    }\n",
       "\n",
       "    .dataframe thead th {\n",
       "        text-align: right;\n",
       "    }\n",
       "</style>\n",
       "<table border=\"1\" class=\"dataframe\">\n",
       "  <thead>\n",
       "    <tr style=\"text-align: right;\">\n",
       "      <th></th>\n",
       "      <th>text</th>\n",
       "      <th>user</th>\n",
       "      <th>date</th>\n",
       "      <th>retweet</th>\n",
       "      <th>mention</th>\n",
       "      <th>hashtags</th>\n",
       "      <th>location</th>\n",
       "    </tr>\n",
       "  </thead>\n",
       "  <tbody>\n",
       "    <tr>\n",
       "      <th>0</th>\n",
       "      <td>Who you taking ? I’m saying jada</td>\n",
       "      <td>JanuaryCes</td>\n",
       "      <td>2020-06-29 23:59:59+00:00</td>\n",
       "      <td>0</td>\n",
       "      <td>NaN</td>\n",
       "      <td>NaN</td>\n",
       "      <td>NaN</td>\n",
       "    </tr>\n",
       "    <tr>\n",
       "      <th>1</th>\n",
       "      <td>He was always ready</td>\n",
       "      <td>J_BreezyLuv_</td>\n",
       "      <td>2020-06-29 23:59:59+00:00</td>\n",
       "      <td>0</td>\n",
       "      <td>NaN</td>\n",
       "      <td>NaN</td>\n",
       "      <td>NaN</td>\n",
       "    </tr>\n",
       "    <tr>\n",
       "      <th>2</th>\n",
       "      <td>Kind of</td>\n",
       "      <td>hayzawa</td>\n",
       "      <td>2020-06-29 23:59:59+00:00</td>\n",
       "      <td>0</td>\n",
       "      <td>NaN</td>\n",
       "      <td>NaN</td>\n",
       "      <td>NaN</td>\n",
       "    </tr>\n",
       "    <tr>\n",
       "      <th>3</th>\n",
       "      <td>NaN</td>\n",
       "      <td>_Spasmolytic_</td>\n",
       "      <td>2020-06-29 23:59:59+00:00</td>\n",
       "      <td>0</td>\n",
       "      <td>NaN</td>\n",
       "      <td>NaN</td>\n",
       "      <td>NaN</td>\n",
       "    </tr>\n",
       "    <tr>\n",
       "      <th>4</th>\n",
       "      <td>Place oyo azalaki kolobela yango soit courant ekenda ou bien tu dorme....</td>\n",
       "      <td>aldylukinda</td>\n",
       "      <td>2020-06-29 23:59:59+00:00</td>\n",
       "      <td>0</td>\n",
       "      <td>NaN</td>\n",
       "      <td>NaN</td>\n",
       "      <td>NaN</td>\n",
       "    </tr>\n",
       "  </tbody>\n",
       "</table>\n",
       "</div>"
      ],
      "text/plain": [
       "                                                                        text  \\\n",
       "0                                           Who you taking ? I’m saying jada   \n",
       "1                                                       He was always ready    \n",
       "2                                                                    Kind of   \n",
       "3                                                                        NaN   \n",
       "4  Place oyo azalaki kolobela yango soit courant ekenda ou bien tu dorme....   \n",
       "\n",
       "            user                       date  retweet mention hashtags  \\\n",
       "0     JanuaryCes  2020-06-29 23:59:59+00:00        0     NaN      NaN   \n",
       "1   J_BreezyLuv_  2020-06-29 23:59:59+00:00        0     NaN      NaN   \n",
       "2        hayzawa  2020-06-29 23:59:59+00:00        0     NaN      NaN   \n",
       "3  _Spasmolytic_  2020-06-29 23:59:59+00:00        0     NaN      NaN   \n",
       "4    aldylukinda  2020-06-29 23:59:59+00:00        0     NaN      NaN   \n",
       "\n",
       "   location  \n",
       "0       NaN  \n",
       "1       NaN  \n",
       "2       NaN  \n",
       "3       NaN  \n",
       "4       NaN  "
      ]
     },
     "execution_count": 46,
     "metadata": {},
     "output_type": "execute_result"
    }
   ],
   "source": [
    "df.head()"
   ]
  },
  {
   "cell_type": "code",
   "execution_count": 47,
   "metadata": {},
   "outputs": [],
   "source": [
    "df.drop(columns = ['user', 'date',  'retweet', 'mention', 'hashtags', 'location'], inplace = True)"
   ]
  },
  {
   "cell_type": "code",
   "execution_count": 48,
   "metadata": {},
   "outputs": [],
   "source": [
    "df.dropna(inplace = True)"
   ]
  },
  {
   "cell_type": "code",
   "execution_count": 49,
   "metadata": {},
   "outputs": [],
   "source": [
    "stop_words = stopwords.words('english')\n",
    "#add punctuation char's to stopwords list\n",
    "stop_words += list(string.punctuation)\n"
   ]
  },
  {
   "cell_type": "code",
   "execution_count": 50,
   "metadata": {},
   "outputs": [],
   "source": [
    "def remove_urls(text):\n",
    "    return re.sub(r'http\\S+','', text)"
   ]
  },
  {
   "cell_type": "code",
   "execution_count": 51,
   "metadata": {},
   "outputs": [],
   "source": [
    "df['text'] = df['text'].apply(remove_urls)"
   ]
  },
  {
   "cell_type": "code",
   "execution_count": 52,
   "metadata": {},
   "outputs": [],
   "source": [
    "lemmatizer = WordNetLemmatizer()\n",
    "\n",
    "def preprocess(df_text):\n",
    "    tokens = word_tokenize(df_text)\n",
    "    stopwords_removed = [token.lower() for token in tokens if token.lower() not in stop_words and len(token) > 3]\n",
    "    \n",
    "    lemmatized =[]\n",
    "    \n",
    "    for w in stopwords_removed:\n",
    "        lemmatized.append(lemmatizer.lemmatize(w))\n",
    "        \n",
    "    processed = list(filter(lambda x: x.isalpha(), lemmatized))  \n",
    "        \n",
    "    return processed\n",
    "    "
   ]
  },
  {
   "cell_type": "code",
   "execution_count": 53,
   "metadata": {},
   "outputs": [],
   "source": [
    "df['text'] = df['text'].apply(preprocess)"
   ]
  },
  {
   "cell_type": "code",
   "execution_count": 54,
   "metadata": {},
   "outputs": [
    {
     "data": {
      "text/html": [
       "<div>\n",
       "<style scoped>\n",
       "    .dataframe tbody tr th:only-of-type {\n",
       "        vertical-align: middle;\n",
       "    }\n",
       "\n",
       "    .dataframe tbody tr th {\n",
       "        vertical-align: top;\n",
       "    }\n",
       "\n",
       "    .dataframe thead th {\n",
       "        text-align: right;\n",
       "    }\n",
       "</style>\n",
       "<table border=\"1\" class=\"dataframe\">\n",
       "  <thead>\n",
       "    <tr style=\"text-align: right;\">\n",
       "      <th></th>\n",
       "      <th>text</th>\n",
       "    </tr>\n",
       "  </thead>\n",
       "  <tbody>\n",
       "    <tr>\n",
       "      <th>0</th>\n",
       "      <td>[taking, saying, jada]</td>\n",
       "    </tr>\n",
       "    <tr>\n",
       "      <th>1</th>\n",
       "      <td>[always, ready]</td>\n",
       "    </tr>\n",
       "    <tr>\n",
       "      <th>2</th>\n",
       "      <td>[kind]</td>\n",
       "    </tr>\n",
       "    <tr>\n",
       "      <th>4</th>\n",
       "      <td>[place, azalaki, kolobela, yango, soit, courant, ekenda, bien, dorme]</td>\n",
       "    </tr>\n",
       "    <tr>\n",
       "      <th>5</th>\n",
       "      <td>[sound, like, someone, never, quoted, porn, film]</td>\n",
       "    </tr>\n",
       "  </tbody>\n",
       "</table>\n",
       "</div>"
      ],
      "text/plain": [
       "                                                                    text\n",
       "0                                                 [taking, saying, jada]\n",
       "1                                                        [always, ready]\n",
       "2                                                                 [kind]\n",
       "4  [place, azalaki, kolobela, yango, soit, courant, ekenda, bien, dorme]\n",
       "5                      [sound, like, someone, never, quoted, porn, film]"
      ]
     },
     "execution_count": 54,
     "metadata": {},
     "output_type": "execute_result"
    }
   ],
   "source": [
    "df.head()"
   ]
  },
  {
   "cell_type": "code",
   "execution_count": 55,
   "metadata": {},
   "outputs": [
    {
     "data": {
      "text/plain": [
       "(11574, 1)"
      ]
     },
     "execution_count": 55,
     "metadata": {},
     "output_type": "execute_result"
    }
   ],
   "source": [
    "df.shape"
   ]
  },
  {
   "cell_type": "code",
   "execution_count": 56,
   "metadata": {},
   "outputs": [
    {
     "name": "stdout",
     "output_type": "stream",
     "text": [
      "64424 words total, with a vocabulary size of 16263\n",
      "Max tweet length is 32\n"
     ]
    }
   ],
   "source": [
    "all_words = [word for tokens in df['text'] for word in tokens]\n",
    "tweet_lengths = [len(tokens) for tokens in df['text']]\n",
    "vocab = sorted(list(set(all_words)))\n",
    "\n",
    "print('{} words total, with a vocabulary size of {}'.format(len(all_words), len(vocab)))\n",
    "print('Max tweet length is {}'.format(max(tweet_lengths)))"
   ]
  },
  {
   "cell_type": "code",
   "execution_count": 63,
   "metadata": {},
   "outputs": [
    {
     "data": {
      "text/plain": [
       "[('like', 671),\n",
       " ('people', 417),\n",
       " ('know', 383),\n",
       " ('time', 340),\n",
       " ('love', 276),\n",
       " ('need', 271),\n",
       " ('would', 268),\n",
       " ('good', 266),\n",
       " ('really', 247),\n",
       " ('right', 230),\n",
       " ('make', 229),\n",
       " ('think', 221),\n",
       " ('even', 205),\n",
       " ('want', 205),\n",
       " ('going', 200),\n",
       " ('look', 199),\n",
       " ('shit', 193),\n",
       " ('back', 192),\n",
       " ('thing', 188),\n",
       " ('year', 188),\n",
       " ('thank', 188),\n",
       " ('still', 182),\n",
       " ('trump', 175),\n",
       " ('never', 164),\n",
       " ('black', 154),\n",
       " ('take', 153),\n",
       " ('better', 151),\n",
       " ('much', 151),\n",
       " ('work', 150),\n",
       " ('also', 149)]"
      ]
     },
     "execution_count": 63,
     "metadata": {},
     "output_type": "execute_result"
    }
   ],
   "source": [
    "flat_words = [item for sublist in df['text'] for item in sublist]\n",
    "\n",
    "freq = FreqDist(flat_words)\n",
    "\n",
    "freq.most_common(30)"
   ]
  },
  {
   "cell_type": "code",
   "execution_count": 58,
   "metadata": {},
   "outputs": [],
   "source": [
    "text_dict = Dictionary(df.text)\n",
    "text_dict.filter_extremes(no_below = 5, no_above = .90)"
   ]
  },
  {
   "cell_type": "code",
   "execution_count": 59,
   "metadata": {},
   "outputs": [],
   "source": [
    "tweets_bow = [text_dict.doc2bow(tweet) for tweet in df['text']]"
   ]
  },
  {
   "cell_type": "code",
   "execution_count": 60,
   "metadata": {},
   "outputs": [],
   "source": [
    "k = 6\n",
    "tweets_lda = LdaModel(tweets_bow,\n",
    "                      num_topics = k,\n",
    "                      id2word = text_dict,\n",
    "                      random_state = 1,\n",
    "                      passes=10)"
   ]
  },
  {
   "cell_type": "code",
   "execution_count": 61,
   "metadata": {},
   "outputs": [
    {
     "data": {
      "text/plain": [
       "[(0,\n",
       "  '0.028*\"good\" + 0.018*\"really\" + 0.017*\"well\" + 0.016*\"lmao\" + 0.014*\"done\" + 0.013*\"tell\" + 0.011*\"work\" + 0.011*\"hope\" + 0.010*\"trump\" + 0.010*\"believe\"'),\n",
       " (1,\n",
       "  '0.024*\"thank\" + 0.019*\"take\" + 0.015*\"please\" + 0.014*\"time\" + 0.013*\"thanks\" + 0.012*\"right\" + 0.011*\"still\" + 0.011*\"life\" + 0.009*\"today\" + 0.009*\"stop\"'),\n",
       " (2,\n",
       "  '0.029*\"people\" + 0.025*\"shit\" + 0.025*\"look\" + 0.018*\"like\" + 0.017*\"white\" + 0.015*\"black\" + 0.012*\"great\" + 0.010*\"yeah\" + 0.008*\"care\" + 0.008*\"release\"'),\n",
       " (3,\n",
       "  '0.017*\"ever\" + 0.017*\"video\" + 0.013*\"word\" + 0.013*\"tweet\" + 0.012*\"best\" + 0.012*\"watch\" + 0.011*\"happy\" + 0.010*\"live\" + 0.010*\"damn\" + 0.010*\"nigga\"'),\n",
       " (4,\n",
       "  '0.035*\"like\" + 0.019*\"need\" + 0.017*\"people\" + 0.015*\"thing\" + 0.015*\"would\" + 0.012*\"said\" + 0.011*\"fuck\" + 0.011*\"make\" + 0.010*\"could\" + 0.010*\"last\"'),\n",
       " (5,\n",
       "  '0.035*\"know\" + 0.031*\"love\" + 0.019*\"like\" + 0.015*\"going\" + 0.013*\"better\" + 0.012*\"back\" + 0.011*\"feel\" + 0.011*\"virgil\" + 0.009*\"someone\" + 0.009*\"anyone\"')]"
      ]
     },
     "execution_count": 61,
     "metadata": {},
     "output_type": "execute_result"
    }
   ],
   "source": [
    "tweets_lda.show_topics()"
   ]
  },
  {
   "cell_type": "code",
   "execution_count": null,
   "metadata": {},
   "outputs": [],
   "source": []
  }
 ],
 "metadata": {
  "kernelspec": {
   "display_name": "Python 3",
   "language": "python",
   "name": "python3"
  },
  "language_info": {
   "codemirror_mode": {
    "name": "ipython",
    "version": 3
   },
   "file_extension": ".py",
   "mimetype": "text/x-python",
   "name": "python",
   "nbconvert_exporter": "python",
   "pygments_lexer": "ipython3",
   "version": "3.7.4"
  }
 },
 "nbformat": 4,
 "nbformat_minor": 4
}

{
 "cells": [
  {
   "cell_type": "code",
   "execution_count": 2,
   "metadata": {},
   "outputs": [],
   "source": [
    "import pandas as pd\n",
    "\n",
    "import string\n",
    "import re\n",
    "\n",
    "from nltk.tokenize import word_tokenize\n",
    "from nltk.corpus import stopwords\n",
    "from nltk.stem import WordNetLemmatizer\n",
    "from nltk.probability import FreqDist"
   ]
  },
  {
   "cell_type": "code",
   "execution_count": 2,
   "metadata": {},
   "outputs": [],
   "source": [
    "pd.set_option('display.min_rows', 50)\n",
    "pd.set_option('display.width', 1000)\n",
    "\n",
    "pd.options.display.max_colwidth = 150"
   ]
  },
  {
   "cell_type": "code",
   "execution_count": 3,
   "metadata": {},
   "outputs": [],
   "source": [
    "#read in tweets queried containing 'anxiety'\n",
    "df = pd.read_csv('anxiety_tweets.csv')"
   ]
  },
  {
   "cell_type": "code",
   "execution_count": 4,
   "metadata": {},
   "outputs": [],
   "source": [
    "#removing unwanted columns for this analysis\n",
    "df.drop(columns = ['user', 'date', 'retweet','mention', 'hashtags', 'location'], inplace = True)"
   ]
  },
  {
   "cell_type": "code",
   "execution_count": 5,
   "metadata": {},
   "outputs": [
    {
     "data": {
      "text/html": [
       "<div>\n",
       "<style scoped>\n",
       "    .dataframe tbody tr th:only-of-type {\n",
       "        vertical-align: middle;\n",
       "    }\n",
       "\n",
       "    .dataframe tbody tr th {\n",
       "        vertical-align: top;\n",
       "    }\n",
       "\n",
       "    .dataframe thead th {\n",
       "        text-align: right;\n",
       "    }\n",
       "</style>\n",
       "<table border=\"1\" class=\"dataframe\">\n",
       "  <thead>\n",
       "    <tr style=\"text-align: right;\">\n",
       "      <th></th>\n",
       "      <th>text</th>\n",
       "    </tr>\n",
       "  </thead>\n",
       "  <tbody>\n",
       "    <tr>\n",
       "      <th>0</th>\n",
       "      <td>It's okay to not totally understand the specific struggles of queer Japanese / Japanese people... but you can be open to learning about it. Just b...</td>\n",
       "    </tr>\n",
       "    <tr>\n",
       "      <th>1</th>\n",
       "      <td>10 things to know before returning to your hair salon Excitement, anxiety and a new normal at salons and barber shops as Long Island enters Phase ...</td>\n",
       "    </tr>\n",
       "    <tr>\n",
       "      <th>2</th>\n",
       "      <td>Well that information would have been useful 2 months ago, and avoided wasted anxiety every single time a person came even slightly close to enter...</td>\n",
       "    </tr>\n",
       "    <tr>\n",
       "      <th>3</th>\n",
       "      <td>My anxiety hasn’t been the greatest lately.</td>\n",
       "    </tr>\n",
       "    <tr>\n",
       "      <th>4</th>\n",
       "      <td>i was mostly afraid because i have really bad anxiety and we've had misunderstandings in the past so i kept a lot to myself but recently it reache...</td>\n",
       "    </tr>\n",
       "  </tbody>\n",
       "</table>\n",
       "</div>"
      ],
      "text/plain": [
       "                                                                                                                                                    text\n",
       "0  It's okay to not totally understand the specific struggles of queer Japanese / Japanese people... but you can be open to learning about it. Just b...\n",
       "1  10 things to know before returning to your hair salon Excitement, anxiety and a new normal at salons and barber shops as Long Island enters Phase ...\n",
       "2  Well that information would have been useful 2 months ago, and avoided wasted anxiety every single time a person came even slightly close to enter...\n",
       "3                                                                                                            My anxiety hasn’t been the greatest lately.\n",
       "4  i was mostly afraid because i have really bad anxiety and we've had misunderstandings in the past so i kept a lot to myself but recently it reache..."
      ]
     },
     "execution_count": 5,
     "metadata": {},
     "output_type": "execute_result"
    }
   ],
   "source": [
    "#sanity check\n",
    "df.head()"
   ]
  },
  {
   "cell_type": "code",
   "execution_count": 13,
   "metadata": {},
   "outputs": [],
   "source": [
    "test = list(df['text'][15:20])\n",
    "\n",
    "test2 = df['text'][9973]"
   ]
  },
  {
   "cell_type": "code",
   "execution_count": 14,
   "metadata": {},
   "outputs": [
    {
     "data": {
      "text/plain": [
       "'#painting. #anxiety #batman. @procreate #pocket. #art #color #paint #iphone #finger #mark #stroke #brush @Manhattan, New York https://www.instagram.com/p/B5LxQgylvx0/?igshid=j68k86tqc9l'"
      ]
     },
     "execution_count": 14,
     "metadata": {},
     "output_type": "execute_result"
    }
   ],
   "source": [
    "test2"
   ]
  },
  {
   "cell_type": "code",
   "execution_count": 15,
   "metadata": {},
   "outputs": [
    {
     "data": {
      "text/plain": [
       "['Season 4 of 13 Reasons Why is stressing me tf out already. Clay really think he Batman. That’s why he has anxiety now.',\n",
       " '#fear #love #anxiety #covid #horror #life #coronavirus #mentalhealth #art #depression #faith #hope #motivation #fearless #scary #dark #quotes #courage #creepy #corona #peace #poetry #success #stress #selflove #inspiration #terror #halloween #pain #formylus',\n",
       " 'I feel like the 7pm cheer has slowly morphed into the 7pm scream of anxiety.',\n",
       " \"if twitter started your original anxiety issues then twitter is the wrong place to get help from unless that's really not what your intent was.Twitter isn't professional help and in fact the things said here can often make a situation worse.\",\n",
       " 'Thread: Some beautiful moments from protests I’ve attended in NYC over the past week and a half. This post is not intended to glorify protests or to show off - I only wish to spread a bit of positivity during a time when so many are feeling intense anger, heartbreak, & anxiety.',\n",
       " '#painting. #anxiety #batman. @procreate #pocket. #art #color #paint #iphone #finger #mark #stroke #brush @Manhattan, New York https://www.instagram.com/p/B5LxQgylvx0/?igshid=j68k86tqc9l']"
      ]
     },
     "execution_count": 15,
     "metadata": {},
     "output_type": "execute_result"
    }
   ],
   "source": [
    "test.append(test2)\n",
    "test"
   ]
  },
  {
   "cell_type": "code",
   "execution_count": 19,
   "metadata": {},
   "outputs": [
    {
     "data": {
      "text/plain": [
       "text    #painting. #anxiety #batman. @procreate #pocket. #art #color #paint #iphone #finger #mark #stroke #brush @Manhattan, New York \n",
       "Name: 9973, dtype: object"
      ]
     },
     "execution_count": 19,
     "metadata": {},
     "output_type": "execute_result"
    }
   ],
   "source": [
    "df.iloc[9973]"
   ]
  },
  {
   "cell_type": "code",
   "execution_count": 37,
   "metadata": {},
   "outputs": [],
   "source": [
    "remove_hashtags(df)"
   ]
  },
  {
   "cell_type": "code",
   "execution_count": 54,
   "metadata": {},
   "outputs": [
    {
     "data": {
      "text/plain": [
       "text    #painting. #anxiety #batman. @procreate #pocket. #art #color #paint #iphone #finger #mark #stroke #brush @Manhattan, New York https://www.instagram.com/p/B5LxQgylvx0/?igshid=j68k86tqc9l\n",
       "Name: 9973, dtype: object"
      ]
     },
     "execution_count": 54,
     "metadata": {},
     "output_type": "execute_result"
    }
   ],
   "source": [
    "df.iloc[9973]"
   ]
  },
  {
   "cell_type": "code",
   "execution_count": 39,
   "metadata": {},
   "outputs": [],
   "source": [
    "#mentions and hashtags appear to have been removed by stopwords punctuation list.\n",
    "\n",
    "# def remove_mentions(df):\n",
    "#     df['text'] = df['text'].str.replace('@', '')\n",
    "    \n",
    "\n",
    "# def remove_hashtags(df):\n",
    "#     df['text'] = df['text'].str.replace('#', '')\n",
    "\n",
    "#URLS?\n",
    "\n",
    "# def remove_urls(df):\n",
    "#     df['text'] = df['text'].str.replace(r\"http\\S+\", \"\")\n",
    "\n",
    "# remove_urls(df)\n",
    "\n",
    "\n",
    "#put everything into preprocess function"
   ]
  },
  {
   "cell_type": "code",
   "execution_count": 41,
   "metadata": {},
   "outputs": [
    {
     "data": {
      "text/plain": [
       "text    painting. anxiety batman. procreate pocket. art color paint iphone finger mark stroke brush Manhattan, New York \n",
       "Name: 9973, dtype: object"
      ]
     },
     "execution_count": 41,
     "metadata": {},
     "output_type": "execute_result"
    }
   ],
   "source": [
    "df.iloc[9973]"
   ]
  },
  {
   "cell_type": "code",
   "execution_count": 104,
   "metadata": {
    "collapsed": true,
    "jupyter": {
     "outputs_hidden": true
    }
   },
   "outputs": [
    {
     "data": {
      "text/plain": [
       "15                                                                                     Season 4 of 13 Reasons Why is stressing me tf out already. Clay really think he Batman. That’s why he has anxiety now.\n",
       "16    #fear #love #anxiety #covid #horror #life #coronavirus #mentalhealth #art #depression #faith #hope #motivation #fearless #scary #dark #quotes #courage #creepy #corona #peace #poetry #success #stre...\n",
       "17                                                                                                                               I feel like the 7pm cheer has slowly morphed into the 7pm scream of anxiety.\n",
       "18    if twitter started your original anxiety issues then twitter is the wrong place to get help from unless that's really not what your intent was.Twitter isn't professional help and in fact the thing...\n",
       "19    Thread: Some beautiful moments from protests I’ve attended in NYC over the past week and a half. This post is not intended to glorify protests or to show off - I only wish to spread a bit of posit...\n",
       "Name: text, dtype: object"
      ]
     },
     "execution_count": 104,
     "metadata": {},
     "output_type": "execute_result"
    }
   ],
   "source": [
    "test"
   ]
  },
  {
   "cell_type": "code",
   "execution_count": 16,
   "metadata": {},
   "outputs": [],
   "source": [
    "stop_words = stopwords.words('english')\n",
    "\n",
    "#add punctuation char's to stopwords list\n",
    "stop_words += list(string.punctuation)\n",
    "stop_words += ['0', '1', '2', '3', '4', '5', '6', '7', '8', '9', 'anxiety', 'rt']"
   ]
  },
  {
   "cell_type": "code",
   "execution_count": 69,
   "metadata": {
    "collapsed": true,
    "jupyter": {
     "outputs_hidden": true
    }
   },
   "outputs": [
    {
     "data": {
      "text/plain": [
       "['i',\n",
       " 'me',\n",
       " 'my',\n",
       " 'myself',\n",
       " 'we',\n",
       " 'our',\n",
       " 'ours',\n",
       " 'ourselves',\n",
       " 'you',\n",
       " \"you're\",\n",
       " \"you've\",\n",
       " \"you'll\",\n",
       " \"you'd\",\n",
       " 'your',\n",
       " 'yours',\n",
       " 'yourself',\n",
       " 'yourselves',\n",
       " 'he',\n",
       " 'him',\n",
       " 'his',\n",
       " 'himself',\n",
       " 'she',\n",
       " \"she's\",\n",
       " 'her',\n",
       " 'hers',\n",
       " 'herself',\n",
       " 'it',\n",
       " \"it's\",\n",
       " 'its',\n",
       " 'itself',\n",
       " 'they',\n",
       " 'them',\n",
       " 'their',\n",
       " 'theirs',\n",
       " 'themselves',\n",
       " 'what',\n",
       " 'which',\n",
       " 'who',\n",
       " 'whom',\n",
       " 'this',\n",
       " 'that',\n",
       " \"that'll\",\n",
       " 'these',\n",
       " 'those',\n",
       " 'am',\n",
       " 'is',\n",
       " 'are',\n",
       " 'was',\n",
       " 'were',\n",
       " 'be',\n",
       " 'been',\n",
       " 'being',\n",
       " 'have',\n",
       " 'has',\n",
       " 'had',\n",
       " 'having',\n",
       " 'do',\n",
       " 'does',\n",
       " 'did',\n",
       " 'doing',\n",
       " 'a',\n",
       " 'an',\n",
       " 'the',\n",
       " 'and',\n",
       " 'but',\n",
       " 'if',\n",
       " 'or',\n",
       " 'because',\n",
       " 'as',\n",
       " 'until',\n",
       " 'while',\n",
       " 'of',\n",
       " 'at',\n",
       " 'by',\n",
       " 'for',\n",
       " 'with',\n",
       " 'about',\n",
       " 'against',\n",
       " 'between',\n",
       " 'into',\n",
       " 'through',\n",
       " 'during',\n",
       " 'before',\n",
       " 'after',\n",
       " 'above',\n",
       " 'below',\n",
       " 'to',\n",
       " 'from',\n",
       " 'up',\n",
       " 'down',\n",
       " 'in',\n",
       " 'out',\n",
       " 'on',\n",
       " 'off',\n",
       " 'over',\n",
       " 'under',\n",
       " 'again',\n",
       " 'further',\n",
       " 'then',\n",
       " 'once',\n",
       " 'here',\n",
       " 'there',\n",
       " 'when',\n",
       " 'where',\n",
       " 'why',\n",
       " 'how',\n",
       " 'all',\n",
       " 'any',\n",
       " 'both',\n",
       " 'each',\n",
       " 'few',\n",
       " 'more',\n",
       " 'most',\n",
       " 'other',\n",
       " 'some',\n",
       " 'such',\n",
       " 'no',\n",
       " 'nor',\n",
       " 'not',\n",
       " 'only',\n",
       " 'own',\n",
       " 'same',\n",
       " 'so',\n",
       " 'than',\n",
       " 'too',\n",
       " 'very',\n",
       " 's',\n",
       " 't',\n",
       " 'can',\n",
       " 'will',\n",
       " 'just',\n",
       " 'don',\n",
       " \"don't\",\n",
       " 'should',\n",
       " \"should've\",\n",
       " 'now',\n",
       " 'd',\n",
       " 'll',\n",
       " 'm',\n",
       " 'o',\n",
       " 're',\n",
       " 've',\n",
       " 'y',\n",
       " 'ain',\n",
       " 'aren',\n",
       " \"aren't\",\n",
       " 'couldn',\n",
       " \"couldn't\",\n",
       " 'didn',\n",
       " \"didn't\",\n",
       " 'doesn',\n",
       " \"doesn't\",\n",
       " 'hadn',\n",
       " \"hadn't\",\n",
       " 'hasn',\n",
       " \"hasn't\",\n",
       " 'haven',\n",
       " \"haven't\",\n",
       " 'isn',\n",
       " \"isn't\",\n",
       " 'ma',\n",
       " 'mightn',\n",
       " \"mightn't\",\n",
       " 'mustn',\n",
       " \"mustn't\",\n",
       " 'needn',\n",
       " \"needn't\",\n",
       " 'shan',\n",
       " \"shan't\",\n",
       " 'shouldn',\n",
       " \"shouldn't\",\n",
       " 'wasn',\n",
       " \"wasn't\",\n",
       " 'weren',\n",
       " \"weren't\",\n",
       " 'won',\n",
       " \"won't\",\n",
       " 'wouldn',\n",
       " \"wouldn't\",\n",
       " '!',\n",
       " '\"',\n",
       " '#',\n",
       " '$',\n",
       " '%',\n",
       " '&',\n",
       " \"'\",\n",
       " '(',\n",
       " ')',\n",
       " '*',\n",
       " '+',\n",
       " ',',\n",
       " '-',\n",
       " '.',\n",
       " '/',\n",
       " ':',\n",
       " ';',\n",
       " '<',\n",
       " '=',\n",
       " '>',\n",
       " '?',\n",
       " '@',\n",
       " '[',\n",
       " '\\\\',\n",
       " ']',\n",
       " '^',\n",
       " '_',\n",
       " '`',\n",
       " '{',\n",
       " '|',\n",
       " '}',\n",
       " '~',\n",
       " '0',\n",
       " '1',\n",
       " '2',\n",
       " '3',\n",
       " '4',\n",
       " '5',\n",
       " '6',\n",
       " '7',\n",
       " '8',\n",
       " '9',\n",
       " 'anxiety',\n",
       " 'rt']"
      ]
     },
     "execution_count": 69,
     "metadata": {},
     "output_type": "execute_result"
    }
   ],
   "source": [
    "stop_words"
   ]
  },
  {
   "cell_type": "code",
   "execution_count": 17,
   "metadata": {},
   "outputs": [],
   "source": [
    "def process_text(text):\n",
    "    tokens = word_tokenize(text)\n",
    "    stopwords_removed = [token.lower() for token in tokens if token.lower() not in stop_words]\n",
    "    return stopwords_removed"
   ]
  },
  {
   "cell_type": "code",
   "execution_count": 18,
   "metadata": {},
   "outputs": [],
   "source": [
    "df['text'] = df['text'].apply(process_text)"
   ]
  },
  {
   "cell_type": "markdown",
   "metadata": {},
   "source": [
    "### Checking words to see where preprocessing failed."
   ]
  },
  {
   "cell_type": "code",
   "execution_count": 113,
   "metadata": {
    "collapsed": true,
    "jupyter": {
     "outputs_hidden": true
    }
   },
   "outputs": [
    {
     "data": {
      "text/html": [
       "<div>\n",
       "<style scoped>\n",
       "    .dataframe tbody tr th:only-of-type {\n",
       "        vertical-align: middle;\n",
       "    }\n",
       "\n",
       "    .dataframe tbody tr th {\n",
       "        vertical-align: top;\n",
       "    }\n",
       "\n",
       "    .dataframe thead th {\n",
       "        text-align: right;\n",
       "    }\n",
       "</style>\n",
       "<table border=\"1\" class=\"dataframe\">\n",
       "  <thead>\n",
       "    <tr style=\"text-align: right;\">\n",
       "      <th></th>\n",
       "      <th>text</th>\n",
       "    </tr>\n",
       "  </thead>\n",
       "  <tbody>\n",
       "    <tr>\n",
       "      <th>104</th>\n",
       "      <td>MTA just gave me so much anxiety!!! I’ve been stuck in the train inside a tunnel since 3 o clock !!!! They kept announcing it a track fire!!!!! The guy almost broke the conductor door!!!!! I need ...</td>\n",
       "    </tr>\n",
       "    <tr>\n",
       "      <th>126</th>\n",
       "      <td>someone posted the line to get inside dmv and I exited it super quick shit was already giving me anxiety</td>\n",
       "    </tr>\n",
       "    <tr>\n",
       "      <th>694</th>\n",
       "      <td>I have two so we will have a poll “Someone else’s anxiety is not your reality.” “There is no difference between a powerful man and a weak man they are both the same inside.” Which should I chose.</td>\n",
       "    </tr>\n",
       "    <tr>\n",
       "      <th>1013</th>\n",
       "      <td>Every time a cop has approached me or my father, or anybody I love— there’s a voice inside of me that says “this could be the end” and I’d like to say that voice is just irrational anxiety but how...</td>\n",
       "    </tr>\n",
       "    <tr>\n",
       "      <th>1052</th>\n",
       "      <td>Yeah I was thinking about that too. Just being inside and following whats been happening has made my anxiety go through the mf roof past few weeks. I would probably have a anxiety attack if I went...</td>\n",
       "    </tr>\n",
       "    <tr>\n",
       "      <th>1235</th>\n",
       "      <td>Like he’s so extra .. but this is season is more about mental health and being inside Clay’s schizophrenic head. (highkey gives me anxiety)</td>\n",
       "    </tr>\n",
       "    <tr>\n",
       "      <th>1689</th>\n",
       "      <td>Thank you chile. I was at a peaceful protest so I was thankful, but my anxiety needs me to stay inside and donate and educate my friends.</td>\n",
       "    </tr>\n",
       "    <tr>\n",
       "      <th>1990</th>\n",
       "      <td>I'm a white New Yorker. A few days of helicopters &amp; militarized police nearby are causing me fear, anxiety, stress, irritability &amp;amp; disorientation, even though I'm safe inside. I don't know wha...</td>\n",
       "    </tr>\n",
       "    <tr>\n",
       "      <th>1991</th>\n",
       "      <td>I'm a white New Yorker. A few days of helicopters &amp; militarized police nearby are causing me fear, anxiety, stress, irritability &amp;amp; disorientation, even though I'm safe inside. I don't know wha...</td>\n",
       "    </tr>\n",
       "    <tr>\n",
       "      <th>2072</th>\n",
       "      <td>\"Signs of anxiety inside the Trump team are evident across the electoral map.\"</td>\n",
       "    </tr>\n",
       "    <tr>\n",
       "      <th>2262</th>\n",
       "      <td>We had 18,000 cases in Hudson county, which is the most in NJ now. I live in a 17 story building on the 11 floor, it's not easy being in here all day. I officially worked fron home before this, bu...</td>\n",
       "    </tr>\n",
       "    <tr>\n",
       "      <th>2917</th>\n",
       "      <td>Ya'll dont even understand the anxiety attacks you feel from being in the same place as your abuser, the pain a person feels inside when they have to interact with their abusers. They literally sc...</td>\n",
       "    </tr>\n",
       "    <tr>\n",
       "      <th>3233</th>\n",
       "      <td>the type of anxiety that makes you feel like your entire insides and outsides are shivering &amp;lt;</td>\n",
       "    </tr>\n",
       "    <tr>\n",
       "      <th>3469</th>\n",
       "      <td>If your stress about work is keeping you up at night: 1. Make a to-do list to organize what's ahead. 2. Keep a journal. Process your anxiety instead of keeping it inside. 3. Exercise self-compassi...</td>\n",
       "    </tr>\n",
       "    <tr>\n",
       "      <th>3941</th>\n",
       "      <td>I’ve been taking walks around my neighborhood for 10-15 mins. It helps to cope with anxiety &amp;amp; staying cooped inside the house all day.</td>\n",
       "    </tr>\n",
       "    <tr>\n",
       "      <th>4204</th>\n",
       "      <td>I’m hurting so much for people with loved ones inside COVID infested prisons. I know what it’s like having no idea what’s going on with your loved one,just knowing they’re in danger. The constant ...</td>\n",
       "    </tr>\n",
       "    <tr>\n",
       "      <th>4257</th>\n",
       "      <td>If we want to see those fucking idiots, we’ll go to a news site. But most of us, trapped inside and helpless to do anything more then keep our heads down, are skipping the news right now because o...</td>\n",
       "    </tr>\n",
       "    <tr>\n",
       "      <th>4348</th>\n",
       "      <td>Call me selfish but I refuse to be trapped in my house all day everyday. When I do go outside I take precautions and wear everything for OTHER people. If I sit inside and watch the news all day it...</td>\n",
       "    </tr>\n",
       "    <tr>\n",
       "      <th>4547</th>\n",
       "      <td>My anxiety has manifested as me impulse buying plants. I can't stop buying plants. Does anyone have a recommendation for good outdoor balcony plants? I've moved on from greening my inside and now ...</td>\n",
       "    </tr>\n",
       "    <tr>\n",
       "      <th>4818</th>\n",
       "      <td>It’s my birthday today and I feel like nothing’s changed since this photo! This little kid inside me still laughs a lot despite being under lockdown for three weeks and the world changing in the m...</td>\n",
       "    </tr>\n",
       "    <tr>\n",
       "      <th>4904</th>\n",
       "      <td>I JUST KEEP READING and im wondering if I can get sick while being inside bc the amount of times I've had anxiety induced asthma attacks these past two weeks???</td>\n",
       "    </tr>\n",
       "    <tr>\n",
       "      <th>5018</th>\n",
       "      <td>This is a time for us to consciously choose how we respond to what is around us: With fear, anxiety, anger, frustration. OR with positive action, reaching out to others, forgiving transgressions, ...</td>\n",
       "    </tr>\n",
       "    <tr>\n",
       "      <th>5021</th>\n",
       "      <td>Everyone freaking me out thinking they’re going to swab the back of my skull, I was on the verge of a full on anxiety attack and the guy just swabs the inside of my nose, back of my throat and sen...</td>\n",
       "    </tr>\n",
       "    <tr>\n",
       "      <th>5087</th>\n",
       "      <td>This whole COVID-19 situation is a bit harrowing, to say the least. For anyone that wrestles with anxiety it’s even tougher being forced to stay inside all the time and not being able to plan ahea...</td>\n",
       "    </tr>\n",
       "    <tr>\n",
       "      <th>5196</th>\n",
       "      <td>The way the apples are cut, the insides of the chicken or whatever that is, the non seasoned chicken AND the cat on the counter is sending my anxiety through the roof. YIKES.</td>\n",
       "    </tr>\n",
       "    <tr>\n",
       "      <th>5525</th>\n",
       "      <td>With my depression and anxiety staying inside leads to some really dark thoughts so yesterday I took a walk in Forest Park. It was so peaceful, I'm going to do my best to #StayHome but a quick wal...</td>\n",
       "    </tr>\n",
       "    <tr>\n",
       "      <th>5685</th>\n",
       "      <td>Just general anxiety from being trapped inside, and hearing pandemic news, especially since I live alone.</td>\n",
       "    </tr>\n",
       "    <tr>\n",
       "      <th>5749</th>\n",
       "      <td>Us millennials are not out partying. Our asses are in an anxiety-driven quarantine calling our parents and yelling at them to stay inside. It’s gen Z you want! #CoronavirusPandemic</td>\n",
       "    </tr>\n",
       "    <tr>\n",
       "      <th>5831</th>\n",
       "      <td>Being trapped inside has really been fucking with my anxiety bro. It’s like I get so worried and nervous. Shaking, stuck sitting on my bed.</td>\n",
       "    </tr>\n",
       "    <tr>\n",
       "      <th>5911</th>\n",
       "      <td>Schedules can also be a stabilizing force in a time of anxiety and change. Pre-Kers especially crave routine, but schedules are found in all grades and—as we’re learning day-to-day, as our own sch...</td>\n",
       "    </tr>\n",
       "    <tr>\n",
       "      <th>5923</th>\n",
       "      <td>Hey marissa stop going to places where minimum wage employees are forced to work in the middle of a pandemic. They don’t want to be there, and if how they blow off the anxiety steam is jokes you h...</td>\n",
       "    </tr>\n",
       "    <tr>\n",
       "      <th>5937</th>\n",
       "      <td>If anything if he’s doing it and you notice when you get home or something. You gotta crate him so he values being alone. Cus Mielo was doing it when he had anxiety with separation. If not get od ...</td>\n",
       "    </tr>\n",
       "    <tr>\n",
       "      <th>5985</th>\n",
       "      <td>Being trapped inside is anxiety inducing having grown up in abusive homes. Going outside was freedom. My heart goes out to all the kids who are stuck with someone they should trust but can’t.</td>\n",
       "    </tr>\n",
       "    <tr>\n",
       "      <th>6239</th>\n",
       "      <td>As @Atul_Gawande shared https://medium.com/p/social-distancing-this-is-not-a-snow-day-ac21d7fa78b4 #socialdistancing does NOT mean staying inside alone. And stress isn’t great for your immune syst...</td>\n",
       "    </tr>\n",
       "    <tr>\n",
       "      <th>6284</th>\n",
       "      <td>“There is some confusion inside the administration about how quickly the Bay Area pilot could be ready and anxiety that the president might under deliver on his promises.” No need to be anxious: o...</td>\n",
       "    </tr>\n",
       "    <tr>\n",
       "      <th>6306</th>\n",
       "      <td>if I'm going to be stuck inside and panicking the least @netflix could do is release more seasons of the Great British Bakeoff, the true anxiety relief these days</td>\n",
       "    </tr>\n",
       "    <tr>\n",
       "      <th>6386</th>\n",
       "      <td>Listen, I'm playing it as cool as I can during these weird, scary times, but I'd be lying if I said I wasn't walking around with a simmering amount of frustration and anxiety inside of me. Like so...</td>\n",
       "    </tr>\n",
       "    <tr>\n",
       "      <th>6619</th>\n",
       "      <td>• Clean your mind as well as you clean every corner of your house. • Cancel every thought of anxiety and sadness from the root of love for yourself. • Clean from the inside out, and let everything...</td>\n",
       "    </tr>\n",
       "    <tr>\n",
       "      <th>6697</th>\n",
       "      <td>Wtf is mass buying toilet paper gunna do? The news starting to piss me off fr. I will never stop going outside. Anxiety too vicious to be trapped inside b/c of some virus we haven’t even seen the ...</td>\n",
       "    </tr>\n",
       "    <tr>\n",
       "      <th>7684</th>\n",
       "      <td>I watch this and cannot help but seizing inside, to think how her anxiety must have been ramping, I mean, wouldn't t have been? She was either getting caught out or learning in that moment that so...</td>\n",
       "    </tr>\n",
       "    <tr>\n",
       "      <th>8446</th>\n",
       "      <td>Pls stop staring @me on the train. You’re giving me an anxiety attack inside lmao.</td>\n",
       "    </tr>\n",
       "    <tr>\n",
       "      <th>8735</th>\n",
       "      <td>there is a five year old next to me exited af because he’s about to be on a plane and i’m literally crying inside bc i got MAJOR flying anxiety</td>\n",
       "    </tr>\n",
       "    <tr>\n",
       "      <th>9643</th>\n",
       "      <td>“The seasonal depression outside is frightful, but the burning anxiety inside is delightful.” Idk #christmasmusic</td>\n",
       "    </tr>\n",
       "    <tr>\n",
       "      <th>9853</th>\n",
       "      <td>My anxiety is at the roof I left my whole entire wallet in the shopping cart i started panicking. I get back to the damn store and the cart missing yo. This man like “I put it inside baby” I check...</td>\n",
       "    </tr>\n",
       "  </tbody>\n",
       "</table>\n",
       "</div>"
      ],
      "text/plain": [
       "                                                                                                                                                                                                         text\n",
       "104   MTA just gave me so much anxiety!!! I’ve been stuck in the train inside a tunnel since 3 o clock !!!! They kept announcing it a track fire!!!!! The guy almost broke the conductor door!!!!! I need ...\n",
       "126                                                                                                  someone posted the line to get inside dmv and I exited it super quick shit was already giving me anxiety\n",
       "694       I have two so we will have a poll “Someone else’s anxiety is not your reality.” “There is no difference between a powerful man and a weak man they are both the same inside.” Which should I chose.\n",
       "1013  Every time a cop has approached me or my father, or anybody I love— there’s a voice inside of me that says “this could be the end” and I’d like to say that voice is just irrational anxiety but how...\n",
       "1052  Yeah I was thinking about that too. Just being inside and following whats been happening has made my anxiety go through the mf roof past few weeks. I would probably have a anxiety attack if I went...\n",
       "1235                                                              Like he’s so extra .. but this is season is more about mental health and being inside Clay’s schizophrenic head. (highkey gives me anxiety)\n",
       "1689                                                               Thank you chile. I was at a peaceful protest so I was thankful, but my anxiety needs me to stay inside and donate and educate my friends. \n",
       "1990  I'm a white New Yorker. A few days of helicopters & militarized police nearby are causing me fear, anxiety, stress, irritability &amp; disorientation, even though I'm safe inside. I don't know wha...\n",
       "1991  I'm a white New Yorker. A few days of helicopters & militarized police nearby are causing me fear, anxiety, stress, irritability &amp; disorientation, even though I'm safe inside. I don't know wha...\n",
       "2072                                                                                                                          \"Signs of anxiety inside the Trump team are evident across the electoral map.\" \n",
       "2262  We had 18,000 cases in Hudson county, which is the most in NJ now. I live in a 17 story building on the 11 floor, it's not easy being in here all day. I officially worked fron home before this, bu...\n",
       "2917  Ya'll dont even understand the anxiety attacks you feel from being in the same place as your abuser, the pain a person feels inside when they have to interact with their abusers. They literally sc...\n",
       "3233                                                                                                         the type of anxiety that makes you feel like your entire insides and outsides are shivering &lt;\n",
       "3469  If your stress about work is keeping you up at night: 1. Make a to-do list to organize what's ahead. 2. Keep a journal. Process your anxiety instead of keeping it inside. 3. Exercise self-compassi...\n",
       "3941                                                               I’ve been taking walks around my neighborhood for 10-15 mins. It helps to cope with anxiety &amp; staying cooped inside the house all day.\n",
       "4204  I’m hurting so much for people with loved ones inside COVID infested prisons. I know what it’s like having no idea what’s going on with your loved one,just knowing they’re in danger. The constant ...\n",
       "4257  If we want to see those fucking idiots, we’ll go to a news site. But most of us, trapped inside and helpless to do anything more then keep our heads down, are skipping the news right now because o...\n",
       "4348  Call me selfish but I refuse to be trapped in my house all day everyday. When I do go outside I take precautions and wear everything for OTHER people. If I sit inside and watch the news all day it...\n",
       "4547  My anxiety has manifested as me impulse buying plants. I can't stop buying plants. Does anyone have a recommendation for good outdoor balcony plants? I've moved on from greening my inside and now ...\n",
       "4818  It’s my birthday today and I feel like nothing’s changed since this photo! This little kid inside me still laughs a lot despite being under lockdown for three weeks and the world changing in the m...\n",
       "4904                                        I JUST KEEP READING and im wondering if I can get sick while being inside bc the amount of times I've had anxiety induced asthma attacks these past two weeks??? \n",
       "5018  This is a time for us to consciously choose how we respond to what is around us: With fear, anxiety, anger, frustration. OR with positive action, reaching out to others, forgiving transgressions, ...\n",
       "5021  Everyone freaking me out thinking they’re going to swab the back of my skull, I was on the verge of a full on anxiety attack and the guy just swabs the inside of my nose, back of my throat and sen...\n",
       "5087  This whole COVID-19 situation is a bit harrowing, to say the least. For anyone that wrestles with anxiety it’s even tougher being forced to stay inside all the time and not being able to plan ahea...\n",
       "5196                           The way the apples are cut, the insides of the chicken or whatever that is, the non seasoned chicken AND the cat on the counter is sending my anxiety through the roof. YIKES.\n",
       "5525  With my depression and anxiety staying inside leads to some really dark thoughts so yesterday I took a walk in Forest Park. It was so peaceful, I'm going to do my best to #StayHome but a quick wal...\n",
       "5685                                                                                               Just general anxiety from being trapped inside, and hearing pandemic news, especially since I live alone. \n",
       "5749                     Us millennials are not out partying. Our asses are in an anxiety-driven quarantine calling our parents and yelling at them to stay inside. It’s gen Z you want! #CoronavirusPandemic\n",
       "5831                                                              Being trapped inside has really been fucking with my anxiety bro. It’s like I get so worried and nervous. Shaking, stuck sitting on my bed.\n",
       "5911  Schedules can also be a stabilizing force in a time of anxiety and change. Pre-Kers especially crave routine, but schedules are found in all grades and—as we’re learning day-to-day, as our own sch...\n",
       "5923  Hey marissa stop going to places where minimum wage employees are forced to work in the middle of a pandemic. They don’t want to be there, and if how they blow off the anxiety steam is jokes you h...\n",
       "5937  If anything if he’s doing it and you notice when you get home or something. You gotta crate him so he values being alone. Cus Mielo was doing it when he had anxiety with separation. If not get od ...\n",
       "5985          Being trapped inside is anxiety inducing having grown up in abusive homes. Going outside was freedom. My heart goes out to all the kids who are stuck with someone they should trust but can’t.\n",
       "6239  As @Atul_Gawande shared https://medium.com/p/social-distancing-this-is-not-a-snow-day-ac21d7fa78b4 #socialdistancing does NOT mean staying inside alone. And stress isn’t great for your immune syst...\n",
       "6284  “There is some confusion inside the administration about how quickly the Bay Area pilot could be ready and anxiety that the president might under deliver on his promises.” No need to be anxious: o...\n",
       "6306                                       if I'm going to be stuck inside and panicking the least @netflix could do is release more seasons of the Great British Bakeoff, the true anxiety relief these days\n",
       "6386  Listen, I'm playing it as cool as I can during these weird, scary times, but I'd be lying if I said I wasn't walking around with a simmering amount of frustration and anxiety inside of me. Like so...\n",
       "6619  • Clean your mind as well as you clean every corner of your house. • Cancel every thought of anxiety and sadness from the root of love for yourself. • Clean from the inside out, and let everything...\n",
       "6697  Wtf is mass buying toilet paper gunna do? The news starting to piss me off fr. I will never stop going outside. Anxiety too vicious to be trapped inside b/c of some virus we haven’t even seen the ...\n",
       "7684  I watch this and cannot help but seizing inside, to think how her anxiety must have been ramping, I mean, wouldn't t have been? She was either getting caught out or learning in that moment that so...\n",
       "8446                                                                                                                       Pls stop staring @me on the train. You’re giving me an anxiety attack inside lmao.\n",
       "8735                                                          there is a five year old next to me exited af because he’s about to be on a plane and i’m literally crying inside bc i got MAJOR flying anxiety\n",
       "9643                                                                                        “The seasonal depression outside is frightful, but the burning anxiety inside is delightful.” Idk #christmasmusic\n",
       "9853  My anxiety is at the roof I left my whole entire wallet in the shopping cart i started panicking. I get back to the damn store and the cart missing yo. This man like “I put it inside baby” I check..."
      ]
     },
     "execution_count": 113,
     "metadata": {},
     "output_type": "execute_result"
    }
   ],
   "source": [
    "df[df['text'].str.contains('inside')]"
   ]
  },
  {
   "cell_type": "code",
   "execution_count": 19,
   "metadata": {},
   "outputs": [
    {
     "data": {
      "text/plain": [
       "15                                                                            [season, 13, reasons, stressing, tf, already, clay, really, think, batman, ’]\n",
       "16    [fear, love, covid, horror, life, coronavirus, mentalhealth, art, depression, faith, hope, motivation, fearless, scary, dark, quotes, courage, cre...\n",
       "17                                                                                                   [feel, like, 7pm, cheer, slowly, morphed, 7pm, scream]\n",
       "18    [twitter, started, original, issues, twitter, wrong, place, get, help, unless, 's, really, intent, was.twitter, n't, professional, help, fact, thi...\n",
       "19    [thread, beautiful, moments, protests, ’, attended, nyc, past, week, half, post, intended, glorify, protests, show, wish, spread, bit, positivity,...\n",
       "Name: text, dtype: object"
      ]
     },
     "execution_count": 19,
     "metadata": {},
     "output_type": "execute_result"
    }
   ],
   "source": [
    "df['text'][15:20]"
   ]
  },
  {
   "cell_type": "code",
   "execution_count": 22,
   "metadata": {},
   "outputs": [
    {
     "name": "stdout",
     "output_type": "stream",
     "text": [
      "['painting', 'batman', 'procreate', 'pocket', 'art', 'color', 'paint', 'iphone', 'finger', 'mark', 'stroke', 'brush', 'manhattan', 'new', 'york', 'https', '//www.instagram.com/p/b5lxqgylvx0/', 'igshid=j68k86tqc9l']\n"
     ]
    }
   ],
   "source": [
    "print(df['text'][9973])"
   ]
  },
  {
   "cell_type": "markdown",
   "metadata": {},
   "source": [
    "#### Results\n",
    "* Tokens appear to have been split effectively with some exceptions. \n",
    "* Hashtags and mentions have been removed. Standalone punctuation has been removed. \n",
    "* Stop words are not present. However, URL's have been split. In order to prevent the extra noise from the URL's, I will remove them prior to the split."
   ]
  },
  {
   "cell_type": "markdown",
   "metadata": {},
   "source": [
    "## Iteration 2 "
   ]
  },
  {
   "cell_type": "code",
   "execution_count": 89,
   "metadata": {},
   "outputs": [],
   "source": [
    "df = pd.read_csv('anxiety_tweets.csv')"
   ]
  },
  {
   "cell_type": "code",
   "execution_count": 90,
   "metadata": {},
   "outputs": [],
   "source": [
    "#removing unwanted columns for this analysis\n",
    "df.drop(columns = ['user', 'date', 'retweet','mention', 'hashtags', 'location'], inplace = True)"
   ]
  },
  {
   "cell_type": "markdown",
   "metadata": {},
   "source": [
    "### Proposed Steps\n",
    "\n",
    "* Remove Urls\n",
    "* Remove stopwords\n",
    "* Lowercase text\n",
    "* Analyze text to see what was missed\n"
   ]
  },
  {
   "cell_type": "code",
   "execution_count": 191,
   "metadata": {},
   "outputs": [
    {
     "data": {
      "text/html": [
       "<div>\n",
       "<style scoped>\n",
       "    .dataframe tbody tr th:only-of-type {\n",
       "        vertical-align: middle;\n",
       "    }\n",
       "\n",
       "    .dataframe tbody tr th {\n",
       "        vertical-align: top;\n",
       "    }\n",
       "\n",
       "    .dataframe thead th {\n",
       "        text-align: right;\n",
       "    }\n",
       "</style>\n",
       "<table border=\"1\" class=\"dataframe\">\n",
       "  <thead>\n",
       "    <tr style=\"text-align: right;\">\n",
       "      <th></th>\n",
       "      <th>text</th>\n",
       "    </tr>\n",
       "  </thead>\n",
       "  <tbody>\n",
       "    <tr>\n",
       "      <th>0</th>\n",
       "      <td>[okay, totally, understand, specific, struggles, queer, japanese, japanese, people, open, learning, feel, personally, mean, exist, applies, racism...</td>\n",
       "    </tr>\n",
       "    <tr>\n",
       "      <th>1</th>\n",
       "      <td>[things, know, returning, hair, salon, excitement, new, normal, salons, barber, shops, long, island, enters, phase]</td>\n",
       "    </tr>\n",
       "  </tbody>\n",
       "</table>\n",
       "</div>"
      ],
      "text/plain": [
       "                                                                                                                                                    text\n",
       "0  [okay, totally, understand, specific, struggles, queer, japanese, japanese, people, open, learning, feel, personally, mean, exist, applies, racism...\n",
       "1                                    [things, know, returning, hair, salon, excitement, new, normal, salons, barber, shops, long, island, enters, phase]"
      ]
     },
     "execution_count": 191,
     "metadata": {},
     "output_type": "execute_result"
    }
   ],
   "source": [
    "df.head(2)"
   ]
  },
  {
   "cell_type": "code",
   "execution_count": 94,
   "metadata": {},
   "outputs": [],
   "source": [
    "#remove urls from text first\n",
    "def remove_urls(df):\n",
    "    df['text'] = df['text'].str.replace(r\"http\\S+\", \"\")\n",
    "\n",
    "remove_urls(df)\n"
   ]
  },
  {
   "cell_type": "code",
   "execution_count": 95,
   "metadata": {},
   "outputs": [],
   "source": [
    "stop_words = stopwords.words('english')\n",
    "\n",
    "#add punctuation char's to stopwords list\n",
    "stop_words += list(string.punctuation)\n",
    "stop_words += ['0', '1', '2', '3', '4', '5', '6', '7', '8', '9', 'anxiety', 'rt']"
   ]
  },
  {
   "cell_type": "code",
   "execution_count": 96,
   "metadata": {},
   "outputs": [],
   "source": [
    "def process_text(text):\n",
    "    tokens = word_tokenize(text)\n",
    "    stopwords_removed = [token.lower() for token in tokens if token.lower() not in stop_words]\n",
    "    return stopwords_removed"
   ]
  },
  {
   "cell_type": "code",
   "execution_count": 97,
   "metadata": {},
   "outputs": [],
   "source": [
    "df['text'] =  df['text'].apply(process_text)"
   ]
  },
  {
   "cell_type": "code",
   "execution_count": 98,
   "metadata": {},
   "outputs": [
    {
     "data": {
      "text/plain": [
       "['painting',\n",
       " 'batman',\n",
       " 'procreate',\n",
       " 'pocket',\n",
       " 'art',\n",
       " 'color',\n",
       " 'paint',\n",
       " 'iphone',\n",
       " 'finger',\n",
       " 'mark',\n",
       " 'stroke',\n",
       " 'brush',\n",
       " 'manhattan',\n",
       " 'new',\n",
       " 'york']"
      ]
     },
     "execution_count": 98,
     "metadata": {},
     "output_type": "execute_result"
    }
   ],
   "source": [
    "df['text'][9973]"
   ]
  },
  {
   "cell_type": "code",
   "execution_count": 100,
   "metadata": {},
   "outputs": [
    {
     "data": {
      "text/plain": [
       "['season',\n",
       " '13',\n",
       " 'reasons',\n",
       " 'stressing',\n",
       " 'tf',\n",
       " 'already',\n",
       " 'clay',\n",
       " 'really',\n",
       " 'think',\n",
       " 'batman',\n",
       " '’']"
      ]
     },
     "execution_count": 100,
     "metadata": {},
     "output_type": "execute_result"
    }
   ],
   "source": [
    "df['text'][15]"
   ]
  },
  {
   "cell_type": "markdown",
   "metadata": {},
   "source": [
    "### Results\n",
    "\n",
    "* While the url's have been dealt with, words like \"n't\", \"'s\", \"was.twitter\", \"7PM\", \"13, etc. all still remain.\n",
    "\n",
    "* Lets experiment with some Regex"
   ]
  },
  {
   "cell_type": "markdown",
   "metadata": {},
   "source": [
    "### Additional removal"
   ]
  },
  {
   "cell_type": "code",
   "execution_count": 67,
   "metadata": {},
   "outputs": [],
   "source": [
    "test = list(df['text'][15:20])"
   ]
  },
  {
   "cell_type": "code",
   "execution_count": 133,
   "metadata": {},
   "outputs": [
    {
     "data": {
      "text/plain": [
       "['feel', 'like', '7pm', 'cheer', 'slowly', 'morphed', '7pm', 'scream']"
      ]
     },
     "execution_count": 133,
     "metadata": {},
     "output_type": "execute_result"
    }
   ],
   "source": [
    "test[2]"
   ]
  },
  {
   "cell_type": "code",
   "execution_count": 134,
   "metadata": {},
   "outputs": [
    {
     "data": {
      "text/plain": [
       "['feel', 'like', 'cheer', 'slowly', 'morphed', 'scream']"
      ]
     },
     "execution_count": 134,
     "metadata": {},
     "output_type": "execute_result"
    }
   ],
   "source": [
    "list(filter(lambda x: x.isalpha(), test[2]))"
   ]
  },
  {
   "cell_type": "code",
   "execution_count": 141,
   "metadata": {},
   "outputs": [],
   "source": [
    "def remove_nums(text_object):\n",
    "    no_nums = list(filter(lambda x: x.isalpha(), text_object))\n",
    "    return no_nums"
   ]
  },
  {
   "cell_type": "code",
   "execution_count": 153,
   "metadata": {},
   "outputs": [],
   "source": [
    "df['text'] = df['text'].apply(remove_nums)"
   ]
  },
  {
   "cell_type": "code",
   "execution_count": 190,
   "metadata": {},
   "outputs": [
    {
     "data": {
      "text/plain": [
       "0    [okay, totally, understand, specific, struggles, queer, japanese, japanese, people, open, learning, feel, personally, mean, exist, applies, racism...\n",
       "1                                      [things, know, returning, hair, salon, excitement, new, normal, salons, barber, shops, long, island, enters, phase]\n",
       "2    [well, information, would, useful, months, ago, avoided, wasted, every, single, time, person, came, even, slightly, close, entering, general, vici...\n",
       "3                                                                                                                                       [greatest, lately]\n",
       "4    [mostly, afraid, really, bad, misunderstandings, past, kept, lot, recently, reached, point, desperation, something, surprisingly, attentive, amp, ...\n",
       "Name: text, dtype: object"
      ]
     },
     "execution_count": 190,
     "metadata": {},
     "output_type": "execute_result"
    }
   ],
   "source": [
    "df['text'].head()"
   ]
  },
  {
   "cell_type": "markdown",
   "metadata": {},
   "source": [
    "### Lemmatize"
   ]
  },
  {
   "cell_type": "code",
   "execution_count": 159,
   "metadata": {},
   "outputs": [],
   "source": [
    "lemmatizer = WordNetLemmatizer()\n",
    "\n",
    "def lemmatize_text(df_text):\n",
    "    lemmatized =[]\n",
    "    for w in df_text:\n",
    "        lemmatized.append(lemmatizer.lemmatize(w))\n",
    "    return lemmatized"
   ]
  },
  {
   "cell_type": "code",
   "execution_count": 158,
   "metadata": {
    "collapsed": true,
    "jupyter": {
     "outputs_hidden": true
    }
   },
   "outputs": [
    {
     "data": {
      "text/plain": [
       "0       [okay, totally, understand, specific, struggle, queer, japanese, japanese, people, open, learning, feel, personally, mean, exist, applies, racism,...\n",
       "1                                            [thing, know, returning, hair, salon, excitement, new, normal, salon, barber, shop, long, island, enters, phase]\n",
       "2       [well, information, would, useful, month, ago, avoided, wasted, every, single, time, person, came, even, slightly, close, entering, general, vicin...\n",
       "3                                                                                                                                          [greatest, lately]\n",
       "4       [mostly, afraid, really, bad, misunderstanding, past, kept, lot, recently, reached, point, desperation, something, surprisingly, attentive, amp, v...\n",
       "5                                                                                  [damn, stressed, time, need, find, outlet, else, gon, na, go, crazy, roof]\n",
       "6                                                                                                       [eating, lot, cause, mind, lmaoo, need, gain, weight]\n",
       "7                                                            [would, called, police, forcibly, restrained, attack, allison, think, justiceforjonathansalcido]\n",
       "8                                                                                                                                                     [summe]\n",
       "9                  [suck, prevalent, time, breathe, allow, ground, best, got, even, feel, good, atm, something, make, happy, write, anxious, driven, thought]\n",
       "10                                                               [rly, drink, cup, coffee, day, energy, drink, wonder, bad, amp, shakiness, ignorance, bliss]\n",
       "11                                                                                                                                              [much, force]\n",
       "12      [cancer, made, better, person, forgave, past, event, ashamed, let, go, much, fear, learned, let, go, resentment, judgment, pride, revel, small, lo...\n",
       "13                                                                                  [watching, people, using, beauty, blender, without, soaking, water, give]\n",
       "14                                                                                             [even, wrote, series, combatting, financial, part, part, part]\n",
       "15                                                                                      [season, reason, stressing, tf, already, clay, really, think, batman]\n",
       "16      [fear, love, covid, horror, life, coronavirus, mentalhealth, art, depression, faith, hope, motivation, fearless, scary, dark, quote, courage, cree...\n",
       "17                                                                                                               [feel, like, cheer, slowly, morphed, scream]\n",
       "18      [twitter, started, original, issue, twitter, wrong, place, get, help, unless, really, intent, professional, help, fact, thing, said, often, make, ...\n",
       "19      [thread, beautiful, moment, protest, attended, nyc, past, week, half, post, intended, glorify, protest, show, wish, spread, bit, positivity, time,...\n",
       "20              [several, academic, study, found, belief, discrimination, minority, woman, longer, problem, far, better, predictor, support, trump, economic]\n",
       "21                                                                                              [literally, wondering, depressed, something, driving, insane]\n",
       "22                                                                                                             [u, also, feel, like, movie, attack, inducing]\n",
       "23                                                                           [give, shit, nypd, damn, currently, head, need, go, back, garage, go, way, hear]\n",
       "24                                                                                                                                       [could, fuck, right]\n",
       "                                                                                ...                                                                          \n",
       "9975                                                                                                     [acting, imma, get, chick, fil, always, make, happy]\n",
       "9976                                        [also, respond, something, literally, coping, disorder, day, day, respond, hard, profession, scared, let, trying]\n",
       "9977                                                     [know, annoyingly, positive, sometimes, like, big, deal, nice, supportive, people, cope, depression]\n",
       "9978                                                                                      [get, notification, build, go, social, medium, text, message, well]\n",
       "9979                                                                                                                                                 [social]\n",
       "9980                                                          [good, news, survived, rootcanal, bad, news, still, suffer, passed, afterwards, fridaythoughts]\n",
       "9981                                                                                                                        [fucking, work, feel, like, shit]\n",
       "9982                                                                                                                [love, body, physically, exhausted, feel]\n",
       "9983                                                                                                                                                  [today]\n",
       "9984                                     [vacation, next, ten, day, actually, long, list, made, also, nesting, phase, pregnancy, top, list, cleaning, closet]\n",
       "9985                                                                                                    [jesus, nervous, age, dentist, stress, fridaymorning]\n",
       "9986                                                                                            [know, social, real, said, fuck, imma, clean, nigguhs, house]\n",
       "9987    [coming, someone, naturally, awkward, social, since, childhood, plenty, people, find, hilarious, sure, good, amount, find, obnoxious, unfunny, goo...\n",
       "9988                                                                                                        [know, social, mean, however, video, weird, hell]\n",
       "9989    [omg, survivorcbs, cbsbigbrother, entire, commute, nyc, phil, would, nightmare, especially, survivor, thank, helping, survive, internship, adventu...\n",
       "9990                                                                                                            [different, woman, need, med, drive, attract]\n",
       "9991                                                                                                        [yaw, fckn, stupid, tellin, somebody, n, towards]\n",
       "9992                                                                                             [low, key, scared, watch, next, episode, tho, lmaooooo, wow]\n",
       "9993                                                                                                                                             [gave, much]\n",
       "9994    [disclose, ocd, people, water, play, dramatic, idea, reason, want, live, close, friend, often, intentionally, isolate, roommate, feel, real, small...\n",
       "9995                                                                                            [finished, season, know, give, make, never, want, speak, man]\n",
       "9996                                                                 [serious, note, hate, people, joke, laugh, rush, like, really, actually, bother, please]\n",
       "9997                                                                                                      [think, attach, like, shaking, feeling, feel, limp]\n",
       "9998                                                                                                   [tryna, deal, depression, netflix, apple, music, bill]\n",
       "9999                                                                                      [interview, take, way, feel, much, stress, common, work, day, lmao]\n",
       "Name: text, Length: 10000, dtype: object"
      ]
     },
     "execution_count": 158,
     "metadata": {},
     "output_type": "execute_result"
    }
   ],
   "source": [
    "df['text'].apply(lemmatize_text)"
   ]
  },
  {
   "cell_type": "code",
   "execution_count": 176,
   "metadata": {},
   "outputs": [
    {
     "data": {
      "text/plain": [
       "'better'"
      ]
     },
     "execution_count": 176,
     "metadata": {},
     "output_type": "execute_result"
    }
   ],
   "source": [
    "lemmatizer.lemmatize('better')"
   ]
  },
  {
   "cell_type": "code",
   "execution_count": 178,
   "metadata": {},
   "outputs": [],
   "source": [
    "testers = list(df['text'][15:20])"
   ]
  },
  {
   "cell_type": "code",
   "execution_count": 187,
   "metadata": {},
   "outputs": [],
   "source": [
    "other_tester = list(df['text'][9973])"
   ]
  },
  {
   "cell_type": "code",
   "execution_count": 188,
   "metadata": {},
   "outputs": [
    {
     "name": "stdout",
     "output_type": "stream",
     "text": [
      "['painting', 'batman', 'procreate', 'pocket', 'art', 'color', 'paint', 'iphone', 'finger', 'mark', 'stroke', 'brush', 'manhattan', 'new', 'york']\n"
     ]
    }
   ],
   "source": [
    "print(other_tester)"
   ]
  },
  {
   "cell_type": "code",
   "execution_count": 181,
   "metadata": {},
   "outputs": [
    {
     "name": "stdout",
     "output_type": "stream",
     "text": [
      "[['season', 'reasons', 'stressing', 'tf', 'already', 'clay', 'really', 'think', 'batman'], ['fear', 'love', 'covid', 'horror', 'life', 'coronavirus', 'mentalhealth', 'art', 'depression', 'faith', 'hope', 'motivation', 'fearless', 'scary', 'dark', 'quotes', 'courage', 'creepy', 'corona', 'peace', 'poetry', 'success', 'stress', 'selflove', 'inspiration', 'terror', 'halloween', 'pain', 'formylus'], ['feel', 'like', 'cheer', 'slowly', 'morphed', 'scream'], ['twitter', 'started', 'original', 'issues', 'twitter', 'wrong', 'place', 'get', 'help', 'unless', 'really', 'intent', 'professional', 'help', 'fact', 'things', 'said', 'often', 'make', 'situation', 'worse'], ['thread', 'beautiful', 'moments', 'protests', 'attended', 'nyc', 'past', 'week', 'half', 'post', 'intended', 'glorify', 'protests', 'show', 'wish', 'spread', 'bit', 'positivity', 'time', 'many', 'feeling', 'intense', 'anger', 'heartbreak']]\n"
     ]
    }
   ],
   "source": [
    "print(testers)"
   ]
  },
  {
   "cell_type": "markdown",
   "metadata": {},
   "source": [
    "### Examine Vocab and Frequency Distributions"
   ]
  },
  {
   "cell_type": "code",
   "execution_count": 182,
   "metadata": {},
   "outputs": [
    {
     "name": "stdout",
     "output_type": "stream",
     "text": [
      "115932 words total, with a vocabulary size of 15960\n",
      "Max tweet length is 35\n"
     ]
    }
   ],
   "source": [
    "all_words = [word for tokens in df['text'] for word in tokens]\n",
    "tweet_lengths = [len(tokens) for tokens in df['text']]\n",
    "vocab = sorted(list(set(all_words)))\n",
    "\n",
    "print('{} words total, with a vocabulary size of {}'.format(len(all_words), len(vocab)))\n",
    "print('Max tweet length is {}'.format(max(tweet_lengths)))"
   ]
  },
  {
   "cell_type": "code",
   "execution_count": 183,
   "metadata": {},
   "outputs": [],
   "source": [
    "flat_words = [item for sublist in df['text'] for item in sublist]"
   ]
  },
  {
   "cell_type": "code",
   "execution_count": 184,
   "metadata": {},
   "outputs": [],
   "source": [
    "word_freq = FreqDist(flat_words)"
   ]
  },
  {
   "cell_type": "code",
   "execution_count": 185,
   "metadata": {},
   "outputs": [
    {
     "data": {
      "text/plain": [
       "[('like', 1057),\n",
       " ('get', 807),\n",
       " ('people', 784),\n",
       " ('time', 680),\n",
       " ('depression', 633),\n",
       " ('much', 619),\n",
       " ('amp', 590),\n",
       " ('feel', 546),\n",
       " ('know', 492),\n",
       " ('one', 490),\n",
       " ('really', 479),\n",
       " ('day', 479),\n",
       " ('stress', 476),\n",
       " ('going', 465),\n",
       " ('today', 454),\n",
       " ('social', 425),\n",
       " ('go', 398),\n",
       " ('need', 393),\n",
       " ('right', 386),\n",
       " ('help', 376),\n",
       " ('gives', 376),\n",
       " ('good', 353),\n",
       " ('new', 352),\n",
       " ('got', 348),\n",
       " ('think', 341),\n",
       " ('work', 334),\n",
       " ('attack', 329),\n",
       " ('would', 325),\n",
       " ('even', 322),\n",
       " ('also', 315)]"
      ]
     },
     "execution_count": 185,
     "metadata": {},
     "output_type": "execute_result"
    }
   ],
   "source": [
    "word_freq.most_common(30)"
   ]
  },
  {
   "cell_type": "code",
   "execution_count": 3,
   "metadata": {},
   "outputs": [],
   "source": [
    "#preprocess steps as one function\n",
    "\n",
    "lemmatizer = WordNetLemmatizer()\n",
    "\n",
    "def preprocess(df_text):\n",
    "    tokens = word_tokenize(df_text)\n",
    "    stopwords_removed = [token.lower() for token in tokens if token.lower() not in stop_words and len(token) > 3]\n",
    "    \n",
    "    lemmatized =[]\n",
    "    \n",
    "    for w in stopwords_removed:\n",
    "        lemmatized.append(lemmatizer.lemmatize(w))\n",
    "        \n",
    "    processed = list(filter(lambda x: x.isalpha(), lemmatized))  \n",
    "        \n",
    "    return processed\n",
    "    "
   ]
  }
 ],
 "metadata": {
  "kernelspec": {
   "display_name": "Python 3",
   "language": "python",
   "name": "python3"
  },
  "language_info": {
   "codemirror_mode": {
    "name": "ipython",
    "version": 3
   },
   "file_extension": ".py",
   "mimetype": "text/x-python",
   "name": "python",
   "nbconvert_exporter": "python",
   "pygments_lexer": "ipython3",
   "version": "3.7.4"
  }
 },
 "nbformat": 4,
 "nbformat_minor": 4
}
